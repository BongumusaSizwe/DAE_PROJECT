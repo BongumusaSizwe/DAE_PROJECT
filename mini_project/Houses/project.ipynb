{
 "cells": [
  {
   "cell_type": "markdown",
   "metadata": {
    "id": "weHewGLnCIqs"
   },
   "source": [
    "## <b> Importing libraries: </b>"
   ]
  },
  {
   "cell_type": "code",
   "execution_count": 1,
   "metadata": {
    "colab": {
     "base_uri": "https://localhost:8080/"
    },
    "id": "4VaYFTUPCIq4",
    "outputId": "d6e088d1-eb65-4ced-bcf0-d745ce72f88a"
   },
   "outputs": [],
   "source": [
    "import sys\n",
    "import os\n",
    "import numpy as np\n",
    "import pandas as pd\n",
    "import matplotlib.pyplot as plt\n",
    "import statsmodels.api as sm\n",
    "import statsmodels.formula.api as smf\n",
    "import scipy.stats as ss\n",
    "from pandas.plotting import scatter_matrix\n",
    "import seaborn as sns\n",
    "import pandas.testing as pdt\n",
    "import scipy.stats as ss\n",
    "import numpy.testing as npt\n",
    "import pandas.testing as pdt\n",
    "import statsmodels.api as sm\n",
    "import statsmodels.formula.api as form\n",
    "from statsmodels.stats import outliers_influence\n",
    "from sklearn.model_selection import train_test_split\n",
    "from sklearn.metrics import mean_squared_error, r2_score\n",
    "from statsmodels.stats.outliers_influence import variance_inflation_factor    \n",
    "pd.options.mode.chained_assignment = None\n",
    "sns.set_style(\"darkgrid\")"
   ]
  },
  {
   "cell_type": "markdown",
   "metadata": {
    "id": "vntFxBncCIq6"
   },
   "source": [
    "# <b>Investigating factors determining property value in Mbombela </b>"
   ]
  },
  {
   "cell_type": "markdown",
   "metadata": {
    "id": "7yIZDM1cCIq7"
   },
   "source": [
    "### Compiled by:\n",
    "1. Bongumusa Mavuso(1682836)\n",
    "2. Siyabonga Hlomuka (1384685)\n",
    "3. Thobelani Makeleni (1199116)"
   ]
  },
  {
   "cell_type": "markdown",
   "metadata": {
    "id": "n2IQHCNACIq7"
   },
   "source": [
    "# <b>Executive Summary:</b>\n",
    "\n",
    "The purpose of this notebook is to present a study that will investigate factors that influence the evaluation of the property value of the properties of the Mbombela Municipality.\n",
    "\n",
    "The study will model the relationship between each of these different factors and the property value using the dataset from the property evaluation roll which was conducted in 2010 within the area of Mbombela by the Mbombela Municipality.\n",
    "\n",
    "The main result of this study will be a linear model in this form:\n",
    "<br>\n",
    "   \\begin{align*}\n",
    "   y &= \\beta_o + \\beta_1 * x_1 + \\beta_2 * x_2 + ... \n",
    "   \\end{align*}\n",
    "<br>\n",
    "$ where, \\ \\   x_i  \\ \\ where \\ i\\ = \\ {{0, 1, ... , n}} \\ $  represents the  $ \\ x_i \\  $  feature which influences the market value (y) of the property and $ \\beta_i \\  \\ where  \\  i  \\  =  \\ {0, 1, 2, .., n } \\ $ is the weight of the $ \\ x_i \\ $  feature. In addition, we will also make use of graphical representations that will show the relationships between the distinct features which have a direct causal influence in determining the market value of the properties and the market value of the properties.\n",
    "<h3> <b> Limitations: </b> </h3>\n",
    "\n",
    "We did not get a similar dataset to this one, which was collected before 2010 or after 2010, which we can use to compare this dataset to or use to test our model (test our model on a dataset from a different time period). The dataset was not accompanied by a data description hence we have no rich knowledge about the true meaning of some of the features, how the dataset was collected and how the properties used on the dataset were selected. Furthermore, the dataset is incomplete, since some of the features contained null values for the majority of their values. The data was only collected from Mbombela Mpumalanga, making it difficult for our dataset to represent the entire population of South Africa."
   ]
  },
  {
   "cell_type": "markdown",
   "metadata": {
    "id": "ZqlpF4uNCIq8"
   },
   "source": [
    "# <b>Introduction:</b>\n",
    "Every four years, the local municipalities in South Africa conduct a general evaluation roll that determines the municipal values of homes and the property rates that should be paid based on these values and ultimately, the price of the property. The property owners usually have objections to the property values determined by the municipality as these values are usually too low for a property value or too high for the prices that the owners must pay for using the municipality services. The property owners usually do not know how the municipality got to the property prices that come after the evaluation, as with the recent evaluation in where property owners experienced a hike in municipality bills.\\[ [Private Property](https://www.privateproperty.co.za/advice/news/articles/property-valuations-shock-what-homeowners-can-do/6230)\\]\n",
    "\n",
    "In this project, we are investigating the factors that contribute to the property evaluation prices using the dataset from Mbombela Municipality Evaluation Roll for 2010. This kind of analysis has not been done before. Useful sites to extend this introduction:\n",
    "\n",
    "1. [Schindlers](https://www.schindlers.co.za/2017/howdovalrollswork/)\n",
    "\n",
    "## Question:\n",
    " ### What factors determine the property value and to what extent do these factors contribute to the value of the property?\n",
    " \n",
    "\n",
    " \n",
    "# <b> Overview of methology:</b>\n",
    "In the remainder of this notebook, we are going to try and answer our research questions.  The main result of our study will be a linear regression model that will model the relationship between our target variable and a set of deterministic variables. The target variable in our study is the market value. The set of the deterministic variables will be discovered later on in our study during the modelling phase of our study. We will first process our dataset and make it ready for the modelling process. We will then proceed and perform some exploration of our dataset to discover the nature of dataset.  The nature of the dataset includes features, number of entries, relationships among features and different distributions of the features. After the exploration of our dataset and completion of necessary transformations on the dataset, our dataset should be ready for modelling.  The outputs of the exploration of the dataset, especially the discovered relationships among variables, will help us make informed decisions on selecting the best set of deterministic variables.  We will apply necessary statistics to determine this best set of deterministic features that can ultimately be used to determine the market of the properties in the municipality of Mbombela. After finding this best set of deterministic features, we should be in a position to determine whether or not we have answered our research questions.\n",
    "    \n",
    "The following are the necessary individual steps we will undertake to answer our research question:\n",
    "\n",
    "1) [Read in data](#Read_Data) <br>\n",
    "2) [Data wrangling](#Data_Wrangling):<br> \n",
    "&emsp;&emsp;Removing variables that are irrelevant to our question<br> \n",
    "&emsp;&emsp;Removing Variables that are missing most of their values<br> \n",
    "&emsp;&emsp;Recovering some variables values, null values, that can't be recovered<br> \n",
    "&emsp;&emsp;Cleaning variables<br> \n",
    "&emsp;&emsp;Changing Variable types<br> \n",
    "&emsp;&emsp;Encoding categorical variables<br> \n",
    "4) [Exploratory Data Analysis](#exploratory_data_analysis):<br> \n",
    "&emsp;&emsp;Data descriptions<br> \n",
    "&emsp;&emsp;Plotting unvariate plots<br> \n",
    "&emsp;&emsp;Plotting scatter plots<br> \n",
    "&emsp;&emsp;Plotting covariance matrix<br>\n",
    "&emsp;&emsp;Plotting heat maps<br> \n",
    "&emsp;&emsp;Getting information about data features<br> \n",
    "&emsp;&emsp;Encoding categorical variables<br> \n",
    "&emsp;&emsp;Calculate statistic figures:<br> \n",
    "&emsp;&emsp;&emsp;&emsp; eg. Mean, std, min, max and percentiles<br> \n",
    "5) [Data Splitting](#Data_Splitting)<br>\n",
    "&emsp;&emsp;Splitting data into training and testing sets<br> \n",
    "\n",
    "6) [Model Fitting](#models)<br>\n",
    "&emsp;&emsp;Initial models<br>\n",
    "&emsp;&emsp;Feature selection<br> \n",
    "&emsp;&emsp;Improved models using selected features<br> \n",
    "&emsp;&emsp;Choosing best model<br>\n",
    "7) [Conclusion](#Conclusion)"
   ]
  },
  {
   "cell_type": "markdown",
   "metadata": {
    "id": "05wmXjxuCIq-"
   },
   "source": [
    "# <b> Data Description: </b>"
   ]
  },
  {
   "cell_type": "markdown",
   "metadata": {
    "id": "ih9NElJZCIq_"
   },
   "source": [
    "The dataset was obtained from [Open Africa:  Mbombela Municipality Property Valuation 2010 ](https://africaopendata.org/dataset/mbombela-municipality-property-valuation-2010) and downloaded on  18 April 2021. The dataset contains over 57000 data points which have 49 features that describe some of the properties in Mbombela Municipality. \n",
    "\n",
    "### <b> Date collected: </b>\n",
    "The data was collected in Mbombela Municipal Council, in Mpumalanga, South Africa, in 2010. The last time the data modified was on December 21, 2017, at 1:09 PM (UTC+02:00)\n",
    "\n",
    "### <b> Dataset before cleaning: </b>\n",
    "The original dataset consists of 49 columns, 48 showing different factors contributing to the price of a property in Mbombela. The description of these columns is given below:\n",
    "\n",
    "- Township = The township in Mbombeni.\n",
    "- Stand No = Stand number is used to identify the property\n",
    "- Sect Title No = Section Title Number. Sectional Title, as a form of ownership (as per the Sectional Titles Act No.95 of 1986), emerged originally to permit parties to buy a piece or section of a larger property/building/development in a fashion where there ownership (or title) is protected (under Sectional Title law) and where there are clear rules and guidelines on how the overall property is managed, maintained and run. \n",
    "- StandDescrip = Stand Description.\n",
    "- Owner Name = The owner of the property.\n",
    "- Account No = Account Number. Account Number of the owner.\n",
    "- Prop Category = Property Category\n",
    "- TariffCode = Tariff Code.\n",
    "- Physical Addr = Physical Address Showing the physical location of the property.\n",
    "- Street No = Street Number. Identifying the street where the property is located\n",
    "- Size = The size of the property measured in square meters\n",
    "- Up-Level Size\n",
    "- MarketValue = The price which the property is valued at. (Our Predictive Variable)\n",
    "- Exemp Size\n",
    "- Exemp Value\n",
    "- Main Roll No = Main Roll Number. A Roll Number tells you everything you need to know about where a property is located. \n",
    "- Supp RollNo = Supplimentary roll number. Every property in every municipality should (hypothetically) be on a roll, but because properties are continuously coming into existence and ceasing to exist, new rolls are created (these are referred to as supplementary rolls) to include any properties that have not been previously recorded on another, prior, general roll.\n",
    "- Owner Type = What type of owner is it (Private, municiplaity, Departmental and General)\n",
    "- Valuation Date = When was the property evaluated  to put a market value on it.\n",
    "- Effect Date = The Effective Date for each Property Use Detail is the date that it was first valid for the property.\n",
    "- Up-LevelInd\n",
    "- Zone Code = Land zoning is how local governments, such as city councils, restrict the physical development and use of specific parcels of land. \n",
    "- Zone Descrip = Zone Description, Expanding on the codes and what it means. The Code descriptions are: 'BUSINESS 2', 'BUSINESS 1', 'PUBLIC GARAGE', 'RESIDENTIAL 4','SPECIAL', 'GOVERNMENT', 'MUNICIPAL', 'EXISTING PUBLIC ROADS', 'RESIDENTIAL 1', 'PUBLIC OPEN SPACE', 'BUSINESS 4', 'RESIDENTIAL 3', 'EDUCATIONAL', 'RESIDENTIAL 2', 'PRIVATE OPEN SPACE', 'INSTITUTIONAL', 'INDUSTRIAL 1', 'CHURCHES', 'INDUSTRIAL 3', 'INDUSTRIAL 2', 'TRANSNET', 'AGRICULTURE', 'BUSINESS 3', 'PARKING', 'CEMETRY', 'RECREATION', 'RAILWAY LINE(TRANSNET)', 'PRIVATE ROAD', 'RESIDENTIAL 5', 'GOVERNMENT & TELKOM', 'COMMERCIAL', 'KANYAMAZANE'\n",
    "- Usage Code = Usage code is a code that details how the property will be used.\n",
    "- UsageDescrip = Usage Description, Expanding on the codes and what it means. The Code descriptions are: 'BUSINESS 2', 'BUSINESS 1', 'PUBLIC GARAGE', 'RESIDENTIAL 4', 'SPECIAL', 'GOVERNMENT', 'MUNICIPAL', 'EXISTING PUBLIC ROADS', 'RESIDENTIAL 1', 'PUBLIC OPEN SPACE', 'BUSINESS 4', 'RESIDENTIAL 3', 'EDUCATIONAL', 'RESIDENTIAL BUSINESS', 'RESIDENTIAL 2', 'PRIVATE OPEN SPACE', 'DWELLINGS', 'INSTITUTIONAL', 'INDUSTRIAL 1', 'VACANT LAND SR', 'CHURCHES', 'INDUSTRIAL 3', 'PARKING', 'BED & BREAKFAST', 'INDUSTRIAL 2', 'TRANSNET', 'AGRICULTURE', 'BUSINESS 3', 'CEMETRY', 'RESIDENTIAL GUEST HOUSE', 'RESERVOIR', 'BUSINESS PREMISES', 'ROAD', 'RAILWAY LINE(TRANSNET)', 'AGRICULTURAL', 'PROPOSED NEW ROAD', 'RESIDENTIAL 5', 'VACANT LAND SINGLE RESIDENTIAL', 'POST OFFICE', 'COUNCIL VACANT RES 1 STANDS', 'FARM', 'SHOP', 'GOVERNMENT AND TELKOM', 'FACTORY', 'OFFICE', 'KANYAMASANE', 'SUBSTATION', 'CHURCH', 'VACANT LAND PLACES OF WORSHIP', 'CHRECHE', 'SCHOOL', 'PETROL FILLING STATION', 'CHICKEN HATCHERY', 'COMMUNITY CENTRE', 'ST DWELLING', 'ST RESIDENTIAL'\n",
    "- Empty Stand Ind = Empty stand index that determines in the stand is empty or not.\n",
    "- Valuation Type = The type of valuation method they used to value the property.\n",
    "- SGNumber\n",
    "- Ward\n",
    "- Cycle\n",
    "- Meter Book\n",
    "- Status = Property status refers to the situation of a property that was for sale or is currently for sale.\n",
    "- Val Cnt = This value keep record of the number of evaluation that have been performed on the property.\n",
    "- Postal Addr1 = This is the first line of the address.\n",
    "- Postal Addr2 = This is the second line of the address.\n",
    "- Postal Addr3 = This is the third line of the address.\n",
    "- Postal Addr4 = This is the fourth line of the address.\n",
    "- Postal Addr5 = This is the fifth  line of the address.\n",
    "- Postal Code = This \n",
    "- BC Create Date\n",
    "- BC Orig Date\n",
    "- BC Altern Date\n",
    "- BC Value\n",
    "- BC Tariff\n",
    "- Deed Date = This is the date on which the deep of a property was first obtained.\n",
    "- Deed No = Deed Number.\n",
    "- Register Date = Date which the property was registered.\n",
    "- Register No = Property Registration Number. means the number issued by the City identifying the Application.\n",
    "- Capture Date = This is the last date the evaluation findings of a proprerty were recorded.\n",
    "\n",
    "\n",
    "\n",
    "### <b> Aspects of Data Quality: </b>\n",
    "\n",
    "- The data was retrieved from openAFRICA, openAFRICA is not a government portal. Instead, it’s a grassroots initiative, maintained by Code for Africa, as a public service.OpenAFRICA has additional support from Amazon Web Services (AWS) and the World Bank, both well known and accredited organisation thus making our source openAFRICA a credible source.\n",
    "\n",
    "- The data collection was done in 2010 and the evaluations of the properties were done around the same time interval from 2008 to 2010 making our market values comparison fair because the amounts were not affected by other time factors like inflation. \n",
    "\n",
    "- The data was collected from the same region (Mbombeni).\n",
    "\n",
    "- In terms of completeness of data, we have some missing values from some columns, most notably columns BC Tariff, BC Value and SGNumber having no values at all. Columns Sect Title No, Empty Stand Ind, Postal Addr3, Postal Addr4, Postal Addr5, Deed No and StandDescrip have a lot of missing values as well. The rest of the columns are mostly filled with a minimal of missing values.\n",
    "\n",
    "- The columns are consistent in terms of the data type of each column.\n",
    "\n",
    "- In terms of Unifromaty, most of the columns have consistent use of units and scales except for the column'Owner Type' as this has some numeric values which are unexplained.\n",
    "\n",
    "### <b> Ability to answer question: </b>\n",
    "\n",
    "Considering our Question 'What factors determine the property value and to what extent do these factors contribute to the value of the property?' our dataset has adequate variables like the size of the property, owners of property etc, to tackle this question. At high sight, after close data analyse, it is clear to see that our variables might not be the best individually to tackle our question as no variable individually has a strong relationship with our predictive variable (market value).\n"
   ]
  },
  {
   "cell_type": "markdown",
   "metadata": {},
   "source": [
    "<a id='Read_Data'></a>"
   ]
  },
  {
   "cell_type": "markdown",
   "metadata": {
    "id": "WRBNrlkXCIrC"
   },
   "source": [
    "# <b> Reading in data: </b>"
   ]
  },
  {
   "cell_type": "code",
   "execution_count": 50,
   "metadata": {
    "colab": {
     "base_uri": "https://localhost:8080/",
     "height": 365
    },
    "id": "U7bbmB_FCIrD",
    "outputId": "6876d1c6-d49a-449e-bd9d-a34c5efe1056"
   },
   "outputs": [
    {
     "name": "stdout",
     "output_type": "stream",
     "text": [
      "First five data points of the dataset:\n"
     ]
    },
    {
     "data": {
      "text/html": [
       "<div>\n",
       "<style scoped>\n",
       "    .dataframe tbody tr th:only-of-type {\n",
       "        vertical-align: middle;\n",
       "    }\n",
       "\n",
       "    .dataframe tbody tr th {\n",
       "        vertical-align: top;\n",
       "    }\n",
       "\n",
       "    .dataframe thead th {\n",
       "        text-align: right;\n",
       "    }\n",
       "</style>\n",
       "<table border=\"1\" class=\"dataframe\">\n",
       "  <thead>\n",
       "    <tr style=\"text-align: right;\">\n",
       "      <th></th>\n",
       "      <th>Township</th>\n",
       "      <th>Stand No</th>\n",
       "      <th>Sect Title No</th>\n",
       "      <th>StandDescrip</th>\n",
       "      <th>Owner Name</th>\n",
       "      <th>Account No</th>\n",
       "      <th>Prop Category</th>\n",
       "      <th>TariffCode</th>\n",
       "      <th>Physical Addr</th>\n",
       "      <th>Street No</th>\n",
       "      <th>...</th>\n",
       "      <th>BC Create Date</th>\n",
       "      <th>BC Orig Date</th>\n",
       "      <th>BC Altern Date</th>\n",
       "      <th>BC Value</th>\n",
       "      <th>BC Tariff</th>\n",
       "      <th>Deed Date</th>\n",
       "      <th>Deed No</th>\n",
       "      <th>Register Date</th>\n",
       "      <th>Register No</th>\n",
       "      <th>Capture Date</th>\n",
       "    </tr>\n",
       "  </thead>\n",
       "  <tbody>\n",
       "    <tr>\n",
       "      <th>0</th>\n",
       "      <td>NELSPRUIT TOWN</td>\n",
       "      <td>000000000000010000100000000</td>\n",
       "      <td>NaN</td>\n",
       "      <td>GED 1 ERF 1</td>\n",
       "      <td>NELSPRUIT HARDWARE</td>\n",
       "      <td>2218141.0</td>\n",
       "      <td>BUS</td>\n",
       "      <td>VABUS</td>\n",
       "      <td>PAUL KRUGER STREET</td>\n",
       "      <td>1</td>\n",
       "      <td>...</td>\n",
       "      <td>0.0</td>\n",
       "      <td>0.0</td>\n",
       "      <td>0.0</td>\n",
       "      <td>NaN</td>\n",
       "      <td>NaN</td>\n",
       "      <td>0.0</td>\n",
       "      <td>NaN</td>\n",
       "      <td>19810925.0</td>\n",
       "      <td>T46343/81</td>\n",
       "      <td>99999999.0</td>\n",
       "    </tr>\n",
       "    <tr>\n",
       "      <th>1</th>\n",
       "      <td>NELSPRUIT TOWN</td>\n",
       "      <td>00000000000001000RE00000000</td>\n",
       "      <td>NaN</td>\n",
       "      <td>RESTANT VAN ERF 1</td>\n",
       "      <td>MINTY IE &amp; SONS PTY LTD</td>\n",
       "      <td>2218119.0</td>\n",
       "      <td>BUS</td>\n",
       "      <td>VABUS</td>\n",
       "      <td>ANDERSON STREET</td>\n",
       "      <td>36</td>\n",
       "      <td>...</td>\n",
       "      <td>0.0</td>\n",
       "      <td>0.0</td>\n",
       "      <td>0.0</td>\n",
       "      <td>NaN</td>\n",
       "      <td>NaN</td>\n",
       "      <td>0.0</td>\n",
       "      <td>NaN</td>\n",
       "      <td>19810925.0</td>\n",
       "      <td>T46344/81</td>\n",
       "      <td>99999999.0</td>\n",
       "    </tr>\n",
       "    <tr>\n",
       "      <th>2</th>\n",
       "      <td>NELSPRUIT TOWN</td>\n",
       "      <td>000000000000020000000000000</td>\n",
       "      <td>NaN</td>\n",
       "      <td>ERF 2</td>\n",
       "      <td>MINTYS UNIVERSAL STORES LTD</td>\n",
       "      <td>2218130.0</td>\n",
       "      <td>BUS</td>\n",
       "      <td>VABUS</td>\n",
       "      <td>ANDREW STREET</td>\n",
       "      <td>33</td>\n",
       "      <td>...</td>\n",
       "      <td>0.0</td>\n",
       "      <td>0.0</td>\n",
       "      <td>0.0</td>\n",
       "      <td>NaN</td>\n",
       "      <td>NaN</td>\n",
       "      <td>0.0</td>\n",
       "      <td>NaN</td>\n",
       "      <td>0.0</td>\n",
       "      <td>T96299/200</td>\n",
       "      <td>0.0</td>\n",
       "    </tr>\n",
       "    <tr>\n",
       "      <th>3</th>\n",
       "      <td>NELSPRUIT TOWN</td>\n",
       "      <td>000000000000030000000000000</td>\n",
       "      <td>NaN</td>\n",
       "      <td>ERF 3</td>\n",
       "      <td>LOWMIN PROPERTIES (PTY) LTD</td>\n",
       "      <td>2217568.0</td>\n",
       "      <td>BUS</td>\n",
       "      <td>VABUS</td>\n",
       "      <td>ANDERSON STREET</td>\n",
       "      <td>32</td>\n",
       "      <td>...</td>\n",
       "      <td>0.0</td>\n",
       "      <td>0.0</td>\n",
       "      <td>0.0</td>\n",
       "      <td>NaN</td>\n",
       "      <td>NaN</td>\n",
       "      <td>0.0</td>\n",
       "      <td>NaN</td>\n",
       "      <td>0.0</td>\n",
       "      <td>T96299/200</td>\n",
       "      <td>0.0</td>\n",
       "    </tr>\n",
       "    <tr>\n",
       "      <th>4</th>\n",
       "      <td>NELSPRUIT TOWN</td>\n",
       "      <td>000000000000040000000000000</td>\n",
       "      <td>NaN</td>\n",
       "      <td>ERF 4</td>\n",
       "      <td>NELMIN ERF 4 PROPERTIES (PTY) LTD</td>\n",
       "      <td>2040436.0</td>\n",
       "      <td>BUS</td>\n",
       "      <td>VABUS</td>\n",
       "      <td>ANDERSON STREET</td>\n",
       "      <td>30</td>\n",
       "      <td>...</td>\n",
       "      <td>0.0</td>\n",
       "      <td>0.0</td>\n",
       "      <td>0.0</td>\n",
       "      <td>NaN</td>\n",
       "      <td>NaN</td>\n",
       "      <td>0.0</td>\n",
       "      <td>NaN</td>\n",
       "      <td>20020814.0</td>\n",
       "      <td>T96299/200</td>\n",
       "      <td>20021029.0</td>\n",
       "    </tr>\n",
       "  </tbody>\n",
       "</table>\n",
       "<p>5 rows × 49 columns</p>\n",
       "</div>"
      ],
      "text/plain": [
       "         Township                     Stand No Sect Title No  \\\n",
       "0  NELSPRUIT TOWN  000000000000010000100000000           NaN   \n",
       "1  NELSPRUIT TOWN  00000000000001000RE00000000           NaN   \n",
       "2  NELSPRUIT TOWN  000000000000020000000000000           NaN   \n",
       "3  NELSPRUIT TOWN  000000000000030000000000000           NaN   \n",
       "4  NELSPRUIT TOWN  000000000000040000000000000           NaN   \n",
       "\n",
       "        StandDescrip                         Owner Name  Account No  \\\n",
       "0        GED 1 ERF 1                 NELSPRUIT HARDWARE   2218141.0   \n",
       "1  RESTANT VAN ERF 1            MINTY IE & SONS PTY LTD   2218119.0   \n",
       "2              ERF 2        MINTYS UNIVERSAL STORES LTD   2218130.0   \n",
       "3              ERF 3        LOWMIN PROPERTIES (PTY) LTD   2217568.0   \n",
       "4              ERF 4  NELMIN ERF 4 PROPERTIES (PTY) LTD   2040436.0   \n",
       "\n",
       "  Prop Category TariffCode       Physical Addr Street No  ...  BC Create Date  \\\n",
       "0           BUS      VABUS  PAUL KRUGER STREET         1  ...             0.0   \n",
       "1           BUS      VABUS     ANDERSON STREET        36  ...             0.0   \n",
       "2           BUS      VABUS       ANDREW STREET        33  ...             0.0   \n",
       "3           BUS      VABUS     ANDERSON STREET        32  ...             0.0   \n",
       "4           BUS      VABUS     ANDERSON STREET        30  ...             0.0   \n",
       "\n",
       "   BC Orig Date  BC Altern Date  BC Value  BC Tariff  Deed Date  Deed No  \\\n",
       "0           0.0             0.0       NaN        NaN        0.0      NaN   \n",
       "1           0.0             0.0       NaN        NaN        0.0      NaN   \n",
       "2           0.0             0.0       NaN        NaN        0.0      NaN   \n",
       "3           0.0             0.0       NaN        NaN        0.0      NaN   \n",
       "4           0.0             0.0       NaN        NaN        0.0      NaN   \n",
       "\n",
       "  Register Date  Register No  \\\n",
       "0    19810925.0    T46343/81   \n",
       "1    19810925.0    T46344/81   \n",
       "2           0.0   T96299/200   \n",
       "3           0.0   T96299/200   \n",
       "4    20020814.0   T96299/200   \n",
       "\n",
       "   Capture Date                                                                                                                                                                                                                                                                                                                                                                                                                                                                                                                                                                                                                                                                                                                                                                                                                                                                                                                                                                                                                                                                                                                                                                                                                                                         \n",
       "0                                         99999999.0                                                                                                                                                                                                                                                                                                                                                                                                                                                                                                                                                                                                                                                                                                                                                                                                                                                                                                                                                                                                                                                                                                                                                                                                                    \n",
       "1                                         99999999.0                                                                                                                                                                                                                                                                                                                                                                                                                                                                                                                                                                                                                                                                                                                                                                                                                                                                                                                                                                                                                                                                                                                                                                                                                    \n",
       "2                                                0.0                                                                                                                                                                                                                                                                                                                                                                                                                                                                                                                                                                                                                                                                                                                                                                                                                                                                                                                                                                                                                                                                                                                                                                                                                    \n",
       "3                                                0.0                                                                                                                                                                                                                                                                                                                                                                                                                                                                                                                                                                                                                                                                                                                                                                                                                                                                                                                                                                                                                                                                                                                                                                                                                    \n",
       "4                                         20021029.0                                                                                                                                                                                                                                                                                                                                                                                                                                                                                                                                                                                                                                                                                                                                                                                                                                                                                                                                                                                                                                                                                                                                                                                                                    \n",
       "\n",
       "[5 rows x 49 columns]"
      ]
     },
     "execution_count": 50,
     "metadata": {},
     "output_type": "execute_result"
    }
   ],
   "source": [
    "# reading in the dataset\n",
    "data = pd.read_excel('valuation-2010.xls')\n",
    "print(\"First five data points of the dataset:\")\n",
    "data.head()"
   ]
  },
  {
   "cell_type": "markdown",
   "metadata": {
    "id": "lpuT1nbWX4EB"
   },
   "source": [
    "From the above summary, it is clear that each column is a variable and each row represents a new property record that has values from each column. The raw data has some missing values indicated by NaN. Each Column is either an object or float, the float is all the numeric columns, including the date, and the rest are treated as an object. The date will late be changed to the correct type(datetime)."
   ]
  },
  {
   "cell_type": "markdown",
   "metadata": {
    "id": "7CR34HBvCIrD"
   },
   "source": [
    "# <b> Validations: </b>"
   ]
  },
  {
   "cell_type": "code",
   "execution_count": 51,
   "metadata": {
    "colab": {
     "base_uri": "https://localhost:8080/"
    },
    "id": "bURYizAiCIrE",
    "outputId": "e1b14a45-6cfc-4b6e-c6e0-c0de0231d023"
   },
   "outputs": [
    {
     "name": "stdout",
     "output_type": "stream",
     "text": [
      "Data types of the attributes of the initial dataset: \n",
      "\n",
      "<class 'pandas.core.frame.DataFrame'>\n",
      "RangeIndex: 57252 entries, 0 to 57251\n",
      "Data columns (total 49 columns):\n",
      " #   Column                                                                                                                                                                                                                                                                                                                                                                                                                                                                                                                                                                                                                                                                                                                                                                                                                                                                                                                                                                                                                                                                                                                                                                                                                                                               Non-Null Count  Dtype  \n",
      "---  ------                                                                                                                                                                                                                                                                                                                                                                                                                                                                                                                                                                                                                                                                                                                                                                                                                                                                                                                                                                                                                                                                                                                                                                                                                                                               --------------  -----  \n",
      " 0   Township                                                                                                                                                                                                                                                                                                                                                                                                                                                                                                                                                                                                                                                                                                                                                                                                                                                                                                                                                                                                                                                                                                                                                                                                                                                             57252 non-null  object \n",
      " 1   Stand No                                                                                                                                                                                                                                                                                                                                                                                                                                                                                                                                                                                                                                                                                                                                                                                                                                                                                                                                                                                                                                                                                                                                                                                                                                                             57252 non-null  object \n",
      " 2   Sect Title No                                                                                                                                                                                                                                                                                                                                                                                                                                                                                                                                                                                                                                                                                                                                                                                                                                                                                                                                                                                                                                                                                                                                                                                                                                                        4327 non-null   object \n",
      " 3   StandDescrip                                                                                                                                                                                                                                                                                                                                                                                                                                                                                                                                                                                                                                                                                                                                                                                                                                                                                                                                                                                                                                                                                                                                                                                                                                                         28638 non-null  object \n",
      " 4   Owner Name                                                                                                                                                                                                                                                                                                                                                                                                                                                                                                                                                                                                                                                                                                                                                                                                                                                                                                                                                                                                                                                                                                                                                                                                                                                           57239 non-null  object \n",
      " 5   Account No                                                                                                                                                                                                                                                                                                                                                                                                                                                                                                                                                                                                                                                                                                                                                                                                                                                                                                                                                                                                                                                                                                                                                                                                                                                           57239 non-null  float64\n",
      " 6   Prop Category                                                                                                                                                                                                                                                                                                                                                                                                                                                                                                                                                                                                                                                                                                                                                                                                                                                                                                                                                                                                                                                                                                                                                                                                                                                        57246 non-null  object \n",
      " 7   TariffCode                                                                                                                                                                                                                                                                                                                                                                                                                                                                                                                                                                                                                                                                                                                                                                                                                                                                                                                                                                                                                                                                                                                                                                                                                                                           57246 non-null  object \n",
      " 8   Physical Addr                                                                                                                                                                                                                                                                                                                                                                                                                                                                                                                                                                                                                                                                                                                                                                                                                                                                                                                                                                                                                                                                                                                                                                                                                                                        56967 non-null  object \n",
      " 9   Street No                                                                                                                                                                                                                                                                                                                                                                                                                                                                                                                                                                                                                                                                                                                                                                                                                                                                                                                                                                                                                                                                                                                                                                                                                                                            57246 non-null  object \n",
      " 10  Size                                                                                                                                                                                                                                                                                                                                                                                                                                                                                                                                                                                                                                                                                                                                                                                                                                                                                                                                                                                                                                                                                                                                                                                                                                                                 57246 non-null  float64\n",
      " 11  Up-Level Size                                                                                                                                                                                                                                                                                                                                                                                                                                                                                                                                                                                                                                                                                                                                                                                                                                                                                                                                                                                                                                                                                                                                                                                                                                                        57246 non-null  float64\n",
      " 12  MarketValue                                                                                                                                                                                                                                                                                                                                                                                                                                                                                                                                                                                                                                                                                                                                                                                                                                                                                                                                                                                                                                                                                                                                                                                                                                                          57246 non-null  float64\n",
      " 13  Exemp Size                                                                                                                                                                                                                                                                                                                                                                                                                                                                                                                                                                                                                                                                                                                                                                                                                                                                                                                                                                                                                                                                                                                                                                                                                                                           57246 non-null  float64\n",
      " 14  Exemp Value                                                                                                                                                                                                                                                                                                                                                                                                                                                                                                                                                                                                                                                                                                                                                                                                                                                                                                                                                                                                                                                                                                                                                                                                                                                          57246 non-null  float64\n",
      " 15  Main Roll No                                                                                                                                                                                                                                                                                                                                                                                                                                                                                                                                                                                                                                                                                                                                                                                                                                                                                                                                                                                                                                                                                                                                                                                                                                                         57246 non-null  float64\n",
      " 16  Supp RollNo                                                                                                                                                                                                                                                                                                                                                                                                                                                                                                                                                                                                                                                                                                                                                                                                                                                                                                                                                                                                                                                                                                                                                                                                                                                          57246 non-null  float64\n",
      " 17  Owner Type                                                                                                                                                                                                                                                                                                                                                                                                                                                                                                                                                                                                                                                                                                                                                                                                                                                                                                                                                                                                                                                                                                                                                                                                                                                           57246 non-null  object \n",
      " 18  Valuation Date                                                                                                                                                                                                                                                                                                                                                                                                                                                                                                                                                                                                                                                                                                                                                                                                                                                                                                                                                                                                                                                                                                                                                                                                                                                       57246 non-null  float64\n",
      " 19  Effect Date                                                                                                                                                                                                                                                                                                                                                                                                                                                                                                                                                                                                                                                                                                                                                                                                                                                                                                                                                                                                                                                                                                                                                                                                                                                          57246 non-null  float64\n",
      " 20  Up-LevelInd                                                                                                                                                                                                                                                                                                                                                                                                                                                                                                                                                                                                                                                                                                                                                                                                                                                                                                                                                                                                                                                                                                                                                                                                                                                          57246 non-null  object \n",
      " 21  Zone Code                                                                                                                                                                                                                                                                                                                                                                                                                                                                                                                                                                                                                                                                                                                                                                                                                                                                                                                                                                                                                                                                                                                                                                                                                                                            57246 non-null  object \n",
      " 22  Zone Descrip                                                                                                                                                                                                                                                                                                                                                                                                                                                                                                                                                                                                                                                                                                                                                                                                                                                                                                                                                                                                                                                                                                                                                                                                                                                         57245 non-null  object \n",
      " 23  Usage Code                                                                                                                                                                                                                                                                                                                                                                                                                                                                                                                                                                                                                                                                                                                                                                                                                                                                                                                                                                                                                                                                                                                                                                                                                                                           57246 non-null  object \n",
      " 24  UsageDescrip                                                                                                                                                                                                                                                                                                                                                                                                                                                                                                                                                                                                                                                                                                                                                                                                                                                                                                                                                                                                                                                                                                                                                                                                                                                         57246 non-null  object \n",
      " 25  Empty Stand Ind                                                                                                                                                                                                                                                                                                                                                                                                                                                                                                                                                                                                                                                                                                                                                                                                                                                                                                                                                                                                                                                                                                                                                                                                                                                      10231 non-null  object \n",
      " 26  Valuation Type                                                                                                                                                                                                                                                                                                                                                                                                                                                                                                                                                                                                                                                                                                                                                                                                                                                                                                                                                                                                                                                                                                                                                                                                                                                       57246 non-null  object \n",
      " 27  SGNumber                                                                                                                                                                                                                                                                                                                                                                                                                                                                                                                                                                                                                                                                                                                                                                                                                                                                                                                                                                                                                                                                                                                                                                                                                                                             0 non-null      float64\n",
      " 28  Ward                                                                                                                                                                                                                                                                                                                                                                                                                                                                                                                                                                                                                                                                                                                                                                                                                                                                                                                                                                                                                                                                                                                                                                                                                                                                 57246 non-null  float64\n",
      " 29  Cycle                                                                                                                                                                                                                                                                                                                                                                                                                                                                                                                                                                                                                                                                                                                                                                                                                                                                                                                                                                                                                                                                                                                                                                                                                                                                57246 non-null  float64\n",
      " 30  Meter Book                                                                                                                                                                                                                                                                                                                                                                                                                                                                                                                                                                                                                                                                                                                                                                                                                                                                                                                                                                                                                                                                                                                                                                                                                                                           57246 non-null  object \n",
      " 31  Status                                                                                                                                                                                                                                                                                                                                                                                                                                                                                                                                                                                                                                                                                                                                                                                                                                                                                                                                                                                                                                                                                                                                                                                                                                                               57246 non-null  object \n",
      " 32  Val Cnt                                                                                                                                                                                                                                                                                                                                                                                                                                                                                                                                                                                                                                                                                                                                                                                                                                                                                                                                                                                                                                                                                                                                                                                                                                                              57246 non-null  float64\n",
      " 33  Postal Addr1                                                                                                                                                                                                                                                                                                                                                                                                                                                                                                                                                                                                                                                                                                                                                                                                                                                                                                                                                                                                                                                                                                                                                                                                                                                         57238 non-null  object \n",
      " 34  Postal Addr2                                                                                                                                                                                                                                                                                                                                                                                                                                                                                                                                                                                                                                                                                                                                                                                                                                                                                                                                                                                                                                                                                                                                                                                                                                                         57147 non-null  object \n",
      " 35  Postal Addr3                                                                                                                                                                                                                                                                                                                                                                                                                                                                                                                                                                                                                                                                                                                                                                                                                                                                                                                                                                                                                                                                                                                                                                                                                                                         3298 non-null   object \n",
      " 36  Postal Addr4                                                                                                                                                                                                                                                                                                                                                                                                                                                                                                                                                                                                                                                                                                                                                                                                                                                                                                                                                                                                                                                                                                                                                                                                                                                         228 non-null    object \n",
      " 37  Postal Addr5                                                                                                                                                                                                                                                                                                                                                                                                                                                                                                                                                                                                                                                                                                                                                                                                                                                                                                                                                                                                                                                                                                                                                                                                                                                         11 non-null     object \n",
      " 38  Postal Code                                                                                                                                                                                                                                                                                                                                                                                                                                                                                                                                                                                                                                                                                                                                                                                                                                                                                                                                                                                                                                                                                                                                                                                                                                                          57227 non-null  float64\n",
      " 39  BC Create Date                                                                                                                                                                                                                                                                                                                                                                                                                                                                                                                                                                                                                                                                                                                                                                                                                                                                                                                                                                                                                                                                                                                                                                                                                                                       57227 non-null  float64\n",
      " 40  BC Orig Date                                                                                                                                                                                                                                                                                                                                                                                                                                                                                                                                                                                                                                                                                                                                                                                                                                                                                                                                                                                                                                                                                                                                                                                                                                                         57227 non-null  float64\n",
      " 41  BC Altern Date                                                                                                                                                                                                                                                                                                                                                                                                                                                                                                                                                                                                                                                                                                                                                                                                                                                                                                                                                                                                                                                                                                                                                                                                                                                       57227 non-null  float64\n",
      " 42  BC Value                                                                                                                                                                                                                                                                                                                                                                                                                                                                                                                                                                                                                                                                                                                                                                                                                                                                                                                                                                                                                                                                                                                                                                                                                                                             0 non-null      float64\n",
      " 43  BC Tariff                                                                                                                                                                                                                                                                                                                                                                                                                                                                                                                                                                                                                                                                                                                                                                                                                                                                                                                                                                                                                                                                                                                                                                                                                                                            0 non-null      float64\n",
      " 44  Deed Date                                                                                                                                                                                                                                                                                                                                                                                                                                                                                                                                                                                                                                                                                                                                                                                                                                                                                                                                                                                                                                                                                                                                                                                                                                                            57227 non-null  float64\n",
      " 45  Deed No                                                                                                                                                                                                                                                                                                                                                                                                                                                                                                                                                                                                                                                                                                                                                                                                                                                                                                                                                                                                                                                                                                                                                                                                                                                              4305 non-null   object \n",
      " 46  Register Date                                                                                                                                                                                                                                                                                                                                                                                                                                                                                                                                                                                                                                                                                                                                                                                                                                                                                                                                                                                                                                                                                                                                                                                                                                                        57227 non-null  float64\n",
      " 47  Register No                                                                                                                                                                                                                                                                                                                                                                                                                                                                                                                                                                                                                                                                                                                                                                                                                                                                                                                                                                                                                                                                                                                                                                                                                                                          50466 non-null  object \n",
      " 48  Capture Date                                                                                                                                                                                                                                                                                                                                                                                                                                                                                                                                                                                                                                                                                                                                                                                                                                                                                                                                                                                                                                                                                                                                                                                                                                                         57227 non-null  float64\n",
      "dtypes: float64(23), object(26)\n",
      "memory usage: 21.4+ MB\n"
     ]
    }
   ],
   "source": [
    "# getting information about the attributes of the dataset\n",
    "print(\"Data types of the attributes of the initial dataset: \\n\")\n",
    "data.info()"
   ]
  },
  {
   "cell_type": "markdown",
   "metadata": {
    "id": "a_EIUF6BX4ED"
   },
   "source": [
    "The output above shows that the dataset contains  57252 points. The dataset has 49 features and all of the features have at least one value. The dataset is 21.4 MB large."
   ]
  },
  {
   "cell_type": "code",
   "execution_count": 52,
   "metadata": {
    "colab": {
     "base_uri": "https://localhost:8080/",
     "height": 351
    },
    "id": "KVWXG5RpCIrG",
    "outputId": "a80d55f2-3b4a-413a-bd42-8076fdec1042"
   },
   "outputs": [
    {
     "data": {
      "text/html": [
       "<div>\n",
       "<style scoped>\n",
       "    .dataframe tbody tr th:only-of-type {\n",
       "        vertical-align: middle;\n",
       "    }\n",
       "\n",
       "    .dataframe tbody tr th {\n",
       "        vertical-align: top;\n",
       "    }\n",
       "\n",
       "    .dataframe thead th {\n",
       "        text-align: right;\n",
       "    }\n",
       "</style>\n",
       "<table border=\"1\" class=\"dataframe\">\n",
       "  <thead>\n",
       "    <tr style=\"text-align: right;\">\n",
       "      <th></th>\n",
       "      <th>Account No</th>\n",
       "      <th>Size</th>\n",
       "      <th>Up-Level Size</th>\n",
       "      <th>MarketValue</th>\n",
       "      <th>Exemp Size</th>\n",
       "      <th>Exemp Value</th>\n",
       "      <th>Main Roll No</th>\n",
       "      <th>Supp RollNo</th>\n",
       "      <th>Valuation Date</th>\n",
       "      <th>Effect Date</th>\n",
       "      <th>...</th>\n",
       "      <th>Val Cnt</th>\n",
       "      <th>Postal Code</th>\n",
       "      <th>BC Create Date</th>\n",
       "      <th>BC Orig Date</th>\n",
       "      <th>BC Altern Date</th>\n",
       "      <th>BC Value</th>\n",
       "      <th>BC Tariff</th>\n",
       "      <th>Deed Date</th>\n",
       "      <th>Register Date</th>\n",
       "      <th>Capture Date</th>\n",
       "    </tr>\n",
       "  </thead>\n",
       "  <tbody>\n",
       "    <tr>\n",
       "      <th>count</th>\n",
       "      <td>5.723900e+04</td>\n",
       "      <td>5.724600e+04</td>\n",
       "      <td>57246.0</td>\n",
       "      <td>5.724600e+04</td>\n",
       "      <td>57246.0</td>\n",
       "      <td>57246.0</td>\n",
       "      <td>57246.0</td>\n",
       "      <td>57246.000000</td>\n",
       "      <td>5.724600e+04</td>\n",
       "      <td>5.724600e+04</td>\n",
       "      <td>...</td>\n",
       "      <td>57246.000000</td>\n",
       "      <td>57227.000000</td>\n",
       "      <td>57227.0</td>\n",
       "      <td>57227.0</td>\n",
       "      <td>57227.0</td>\n",
       "      <td>0.0</td>\n",
       "      <td>0.0</td>\n",
       "      <td>5.722700e+04</td>\n",
       "      <td>5.722700e+04</td>\n",
       "      <td>5.722700e+04</td>\n",
       "    </tr>\n",
       "    <tr>\n",
       "      <th>mean</th>\n",
       "      <td>2.632920e+06</td>\n",
       "      <td>4.980989e+04</td>\n",
       "      <td>0.0</td>\n",
       "      <td>6.644221e+05</td>\n",
       "      <td>0.0</td>\n",
       "      <td>0.0</td>\n",
       "      <td>2.0</td>\n",
       "      <td>1.442913</td>\n",
       "      <td>2.009117e+07</td>\n",
       "      <td>2.009117e+07</td>\n",
       "      <td>...</td>\n",
       "      <td>1.000943</td>\n",
       "      <td>1900.546980</td>\n",
       "      <td>0.0</td>\n",
       "      <td>0.0</td>\n",
       "      <td>0.0</td>\n",
       "      <td>NaN</td>\n",
       "      <td>NaN</td>\n",
       "      <td>2.202494e+06</td>\n",
       "      <td>9.767406e+06</td>\n",
       "      <td>2.877971e+07</td>\n",
       "    </tr>\n",
       "    <tr>\n",
       "      <th>std</th>\n",
       "      <td>9.302737e+05</td>\n",
       "      <td>8.205704e+05</td>\n",
       "      <td>0.0</td>\n",
       "      <td>3.786126e+06</td>\n",
       "      <td>0.0</td>\n",
       "      <td>0.0</td>\n",
       "      <td>0.0</td>\n",
       "      <td>1.055363</td>\n",
       "      <td>2.034716e+03</td>\n",
       "      <td>2.034717e+03</td>\n",
       "      <td>...</td>\n",
       "      <td>0.040940</td>\n",
       "      <td>2221.613457</td>\n",
       "      <td>0.0</td>\n",
       "      <td>0.0</td>\n",
       "      <td>0.0</td>\n",
       "      <td>NaN</td>\n",
       "      <td>NaN</td>\n",
       "      <td>6.263835e+06</td>\n",
       "      <td>1.001051e+07</td>\n",
       "      <td>4.032805e+07</td>\n",
       "    </tr>\n",
       "    <tr>\n",
       "      <th>min</th>\n",
       "      <td>1.000855e+06</td>\n",
       "      <td>0.000000e+00</td>\n",
       "      <td>0.0</td>\n",
       "      <td>0.000000e+00</td>\n",
       "      <td>0.0</td>\n",
       "      <td>0.0</td>\n",
       "      <td>2.0</td>\n",
       "      <td>1.000000</td>\n",
       "      <td>2.009070e+07</td>\n",
       "      <td>2.009070e+07</td>\n",
       "      <td>...</td>\n",
       "      <td>1.000000</td>\n",
       "      <td>0.000000</td>\n",
       "      <td>0.0</td>\n",
       "      <td>0.0</td>\n",
       "      <td>0.0</td>\n",
       "      <td>NaN</td>\n",
       "      <td>NaN</td>\n",
       "      <td>0.000000e+00</td>\n",
       "      <td>0.000000e+00</td>\n",
       "      <td>0.000000e+00</td>\n",
       "    </tr>\n",
       "    <tr>\n",
       "      <th>25%</th>\n",
       "      <td>2.114612e+06</td>\n",
       "      <td>3.520000e+02</td>\n",
       "      <td>0.0</td>\n",
       "      <td>5.600000e+04</td>\n",
       "      <td>0.0</td>\n",
       "      <td>0.0</td>\n",
       "      <td>2.0</td>\n",
       "      <td>1.000000</td>\n",
       "      <td>2.009070e+07</td>\n",
       "      <td>2.009070e+07</td>\n",
       "      <td>...</td>\n",
       "      <td>1.000000</td>\n",
       "      <td>1200.000000</td>\n",
       "      <td>0.0</td>\n",
       "      <td>0.0</td>\n",
       "      <td>0.0</td>\n",
       "      <td>NaN</td>\n",
       "      <td>NaN</td>\n",
       "      <td>0.000000e+00</td>\n",
       "      <td>0.000000e+00</td>\n",
       "      <td>0.000000e+00</td>\n",
       "    </tr>\n",
       "    <tr>\n",
       "      <th>50%</th>\n",
       "      <td>2.506226e+06</td>\n",
       "      <td>5.420000e+02</td>\n",
       "      <td>0.0</td>\n",
       "      <td>2.400000e+05</td>\n",
       "      <td>0.0</td>\n",
       "      <td>0.0</td>\n",
       "      <td>2.0</td>\n",
       "      <td>1.000000</td>\n",
       "      <td>2.009070e+07</td>\n",
       "      <td>2.009070e+07</td>\n",
       "      <td>...</td>\n",
       "      <td>1.000000</td>\n",
       "      <td>1200.000000</td>\n",
       "      <td>0.0</td>\n",
       "      <td>0.0</td>\n",
       "      <td>0.0</td>\n",
       "      <td>NaN</td>\n",
       "      <td>NaN</td>\n",
       "      <td>0.000000e+00</td>\n",
       "      <td>0.000000e+00</td>\n",
       "      <td>0.000000e+00</td>\n",
       "    </tr>\n",
       "    <tr>\n",
       "      <th>75%</th>\n",
       "      <td>3.062104e+06</td>\n",
       "      <td>1.108000e+03</td>\n",
       "      <td>0.0</td>\n",
       "      <td>7.000000e+05</td>\n",
       "      <td>0.0</td>\n",
       "      <td>0.0</td>\n",
       "      <td>2.0</td>\n",
       "      <td>1.000000</td>\n",
       "      <td>2.009070e+07</td>\n",
       "      <td>2.009070e+07</td>\n",
       "      <td>...</td>\n",
       "      <td>1.000000</td>\n",
       "      <td>1240.000000</td>\n",
       "      <td>0.0</td>\n",
       "      <td>0.0</td>\n",
       "      <td>0.0</td>\n",
       "      <td>NaN</td>\n",
       "      <td>NaN</td>\n",
       "      <td>0.000000e+00</td>\n",
       "      <td>2.004071e+07</td>\n",
       "      <td>2.009092e+07</td>\n",
       "    </tr>\n",
       "    <tr>\n",
       "      <th>max</th>\n",
       "      <td>1.564422e+07</td>\n",
       "      <td>9.327444e+07</td>\n",
       "      <td>0.0</td>\n",
       "      <td>6.600000e+08</td>\n",
       "      <td>0.0</td>\n",
       "      <td>0.0</td>\n",
       "      <td>2.0</td>\n",
       "      <td>6.000000</td>\n",
       "      <td>2.010012e+07</td>\n",
       "      <td>2.010012e+07</td>\n",
       "      <td>...</td>\n",
       "      <td>4.000000</td>\n",
       "      <td>9999.000000</td>\n",
       "      <td>0.0</td>\n",
       "      <td>0.0</td>\n",
       "      <td>0.0</td>\n",
       "      <td>NaN</td>\n",
       "      <td>NaN</td>\n",
       "      <td>2.009082e+07</td>\n",
       "      <td>2.202093e+07</td>\n",
       "      <td>1.000000e+08</td>\n",
       "    </tr>\n",
       "  </tbody>\n",
       "</table>\n",
       "<p>8 rows × 23 columns</p>\n",
       "</div>"
      ],
      "text/plain": [
       "         Account No          Size  Up-Level Size   MarketValue  Exemp Size  \\\n",
       "count  5.723900e+04  5.724600e+04        57246.0  5.724600e+04     57246.0   \n",
       "mean   2.632920e+06  4.980989e+04            0.0  6.644221e+05         0.0   \n",
       "std    9.302737e+05  8.205704e+05            0.0  3.786126e+06         0.0   \n",
       "min    1.000855e+06  0.000000e+00            0.0  0.000000e+00         0.0   \n",
       "25%    2.114612e+06  3.520000e+02            0.0  5.600000e+04         0.0   \n",
       "50%    2.506226e+06  5.420000e+02            0.0  2.400000e+05         0.0   \n",
       "75%    3.062104e+06  1.108000e+03            0.0  7.000000e+05         0.0   \n",
       "max    1.564422e+07  9.327444e+07            0.0  6.600000e+08         0.0   \n",
       "\n",
       "       Exemp Value  Main Roll No   Supp RollNo  Valuation Date   Effect Date  \\\n",
       "count      57246.0       57246.0  57246.000000    5.724600e+04  5.724600e+04   \n",
       "mean           0.0           2.0      1.442913    2.009117e+07  2.009117e+07   \n",
       "std            0.0           0.0      1.055363    2.034716e+03  2.034717e+03   \n",
       "min            0.0           2.0      1.000000    2.009070e+07  2.009070e+07   \n",
       "25%            0.0           2.0      1.000000    2.009070e+07  2.009070e+07   \n",
       "50%            0.0           2.0      1.000000    2.009070e+07  2.009070e+07   \n",
       "75%            0.0           2.0      1.000000    2.009070e+07  2.009070e+07   \n",
       "max            0.0           2.0      6.000000    2.010012e+07  2.010012e+07   \n",
       "\n",
       "       ...       Val Cnt   Postal Code  BC Create Date  BC Orig Date  \\\n",
       "count  ...  57246.000000  57227.000000         57227.0       57227.0   \n",
       "mean   ...      1.000943   1900.546980             0.0           0.0   \n",
       "std    ...      0.040940   2221.613457             0.0           0.0   \n",
       "min    ...      1.000000      0.000000             0.0           0.0   \n",
       "25%    ...      1.000000   1200.000000             0.0           0.0   \n",
       "50%    ...      1.000000   1200.000000             0.0           0.0   \n",
       "75%    ...      1.000000   1240.000000             0.0           0.0   \n",
       "max    ...      4.000000   9999.000000             0.0           0.0   \n",
       "\n",
       "       BC Altern Date  BC Value  BC Tariff     Deed Date  Register Date  \\\n",
       "count         57227.0       0.0        0.0  5.722700e+04   5.722700e+04   \n",
       "mean              0.0       NaN        NaN  2.202494e+06   9.767406e+06   \n",
       "std               0.0       NaN        NaN  6.263835e+06   1.001051e+07   \n",
       "min               0.0       NaN        NaN  0.000000e+00   0.000000e+00   \n",
       "25%               0.0       NaN        NaN  0.000000e+00   0.000000e+00   \n",
       "50%               0.0       NaN        NaN  0.000000e+00   0.000000e+00   \n",
       "75%               0.0       NaN        NaN  0.000000e+00   2.004071e+07   \n",
       "max               0.0       NaN        NaN  2.009082e+07   2.202093e+07   \n",
       "\n",
       "       Capture Date                                                                                                                                                                                                                                                                                                                                                                                                                                                                                                                                                                                                                                                                                                                                                                                                                                                                                                                                                                                                                                                                                                                                                                                                                                                         \n",
       "count                                       5.722700e+04                                                                                                                                                                                                                                                                                                                                                                                                                                                                                                                                                                                                                                                                                                                                                                                                                                                                                                                                                                                                                                                                                                                                                                                                                    \n",
       "mean                                        2.877971e+07                                                                                                                                                                                                                                                                                                                                                                                                                                                                                                                                                                                                                                                                                                                                                                                                                                                                                                                                                                                                                                                                                                                                                                                                                    \n",
       "std                                         4.032805e+07                                                                                                                                                                                                                                                                                                                                                                                                                                                                                                                                                                                                                                                                                                                                                                                                                                                                                                                                                                                                                                                                                                                                                                                                                    \n",
       "min                                         0.000000e+00                                                                                                                                                                                                                                                                                                                                                                                                                                                                                                                                                                                                                                                                                                                                                                                                                                                                                                                                                                                                                                                                                                                                                                                                                    \n",
       "25%                                         0.000000e+00                                                                                                                                                                                                                                                                                                                                                                                                                                                                                                                                                                                                                                                                                                                                                                                                                                                                                                                                                                                                                                                                                                                                                                                                                    \n",
       "50%                                         0.000000e+00                                                                                                                                                                                                                                                                                                                                                                                                                                                                                                                                                                                                                                                                                                                                                                                                                                                                                                                                                                                                                                                                                                                                                                                                                    \n",
       "75%                                         2.009092e+07                                                                                                                                                                                                                                                                                                                                                                                                                                                                                                                                                                                                                                                                                                                                                                                                                                                                                                                                                                                                                                                                                                                                                                                                                    \n",
       "max                                         1.000000e+08                                                                                                                                                                                                                                                                                                                                                                                                                                                                                                                                                                                                                                                                                                                                                                                                                                                                                                                                                                                                                                                                                                                                                                                                                    \n",
       "\n",
       "[8 rows x 23 columns]"
      ]
     },
     "execution_count": 52,
     "metadata": {},
     "output_type": "execute_result"
    }
   ],
   "source": [
    "# getting description of the dataset\n",
    "data.describe()"
   ]
  },
  {
   "cell_type": "markdown",
   "metadata": {
    "id": "4PQHtiDbCIrH"
   },
   "source": [
    "From the table above it is clear that this dataset needs to be subjected to some processing (the size of one of the properties for example is zero meters squared according to the above table - that is unrealistic) for us to be able to draw out useful insights from it. In the next section, we process our dataset. We will remove features that we think intuitively can not influence the market value. We will also provide more specific reasons for removing some of these attributes.  We will also encode some of the features' value, we will then account for NaN values or unknown values and lastly, we will deal with inconsistencies like outliers."
   ]
  },
  {
   "cell_type": "markdown",
   "metadata": {},
   "source": [
    "<a id='Data_Wrangling'></a>"
   ]
  },
  {
   "cell_type": "markdown",
   "metadata": {
    "id": "cP4ukSqTCIrH"
   },
   "source": [
    "# <b> Data Wrangling: </b>"
   ]
  },
  {
   "cell_type": "markdown",
   "metadata": {
    "id": "xlLKsR_KCIrH"
   },
   "source": [
    "<blockqoute>\n",
    "In this next cell, we drop several columns of the dataset either because we think they were irrelevant in determining the value of the property, the data had a lot of missing values or the information contained in the column was redundant as it was contained in another column.\n",
    "</blockqoute>\n",
    "\n",
    "Based on the data description, data info and summary provided above, the following columns will be dropped:\n",
    "\n",
    "- Postal Addr1, Postal Addr2, Postal Addr3, Postal Addr4, and Postal Addr5. These columns will be represented only by the 'Phys Addr' column.\n",
    "\n",
    "- From the data info output, the columns, 'Stand Descrip', 'Sect Tittle No', 'Create Date', 'BC Orig Date', 'BC Altern Date', 'BC Value', 'BC Tariff', 'Deed Date', and 'Deed No' contain null values only or very few data points available. This means there is no way to recover the lost data, as we do not know how the data should look like.</br>\n",
    "\n",
    "- The columns 'Up-Level Size', 'Examp Size', 'Exemp Value', 'BC Create Date', 'BC Orig Date', and 'BC Altern Date' as they have a mean of zero, which means they do not have any contribution to the price of the market value of the properties.\n",
    "\n",
    "- The following columns were removed in favour of one column that showed similar results(remaining - removed):\n",
    "    - 'Prop Category' - 'Owner Type', 'Tarif Code'\n",
    "    - Index - 'Street No'"
   ]
  },
  {
   "cell_type": "code",
   "execution_count": 53,
   "metadata": {
    "colab": {
     "base_uri": "https://localhost:8080/",
     "height": 366
    },
    "id": "jNAqcfZYCIrH",
    "outputId": "32c00fb3-72a4-4565-fd14-360b5cf083d6"
   },
   "outputs": [
    {
     "name": "stdout",
     "output_type": "stream",
     "text": [
      "After cleaning our data, we were able to remove 33 features and we were left with 16 features\n",
      "\n",
      "This is our dataset after perfoming the above operations:\n"
     ]
    },
    {
     "data": {
      "text/html": [
       "<div>\n",
       "<style scoped>\n",
       "    .dataframe tbody tr th:only-of-type {\n",
       "        vertical-align: middle;\n",
       "    }\n",
       "\n",
       "    .dataframe tbody tr th {\n",
       "        vertical-align: top;\n",
       "    }\n",
       "\n",
       "    .dataframe thead th {\n",
       "        text-align: right;\n",
       "    }\n",
       "</style>\n",
       "<table border=\"1\" class=\"dataframe\">\n",
       "  <thead>\n",
       "    <tr style=\"text-align: right;\">\n",
       "      <th></th>\n",
       "      <th>Township</th>\n",
       "      <th>Owner Name</th>\n",
       "      <th>Prop Category</th>\n",
       "      <th>Physical Addr</th>\n",
       "      <th>Size</th>\n",
       "      <th>MarketValue</th>\n",
       "      <th>Supp RollNo</th>\n",
       "      <th>Effect Date</th>\n",
       "      <th>Zone Code</th>\n",
       "      <th>Usage Code</th>\n",
       "      <th>Empty Stand Ind</th>\n",
       "      <th>Valuation Type</th>\n",
       "      <th>Ward</th>\n",
       "      <th>Cycle</th>\n",
       "      <th>Meter Book</th>\n",
       "      <th>Val Cnt</th>\n",
       "    </tr>\n",
       "  </thead>\n",
       "  <tbody>\n",
       "    <tr>\n",
       "      <th>0</th>\n",
       "      <td>NELSPRUIT TOWN</td>\n",
       "      <td>NELSPRUIT HARDWARE</td>\n",
       "      <td>BUS</td>\n",
       "      <td>PAUL KRUGER STREET</td>\n",
       "      <td>862.0</td>\n",
       "      <td>2900000.0</td>\n",
       "      <td>4.0</td>\n",
       "      <td>20090805.0</td>\n",
       "      <td>BUS2</td>\n",
       "      <td>BUS2</td>\n",
       "      <td>N</td>\n",
       "      <td>VI</td>\n",
       "      <td>14.0</td>\n",
       "      <td>3.0</td>\n",
       "      <td>MB0201</td>\n",
       "      <td>1.0</td>\n",
       "    </tr>\n",
       "    <tr>\n",
       "      <th>1</th>\n",
       "      <td>NELSPRUIT TOWN</td>\n",
       "      <td>MINTY IE &amp; SONS PTY LTD</td>\n",
       "      <td>BUS</td>\n",
       "      <td>ANDERSON STREET</td>\n",
       "      <td>625.0</td>\n",
       "      <td>1700000.0</td>\n",
       "      <td>1.0</td>\n",
       "      <td>20090701.0</td>\n",
       "      <td>BUS2</td>\n",
       "      <td>BUS2</td>\n",
       "      <td>NaN</td>\n",
       "      <td>VG</td>\n",
       "      <td>14.0</td>\n",
       "      <td>3.0</td>\n",
       "      <td>MB0005</td>\n",
       "      <td>1.0</td>\n",
       "    </tr>\n",
       "    <tr>\n",
       "      <th>2</th>\n",
       "      <td>NELSPRUIT TOWN</td>\n",
       "      <td>MINTYS UNIVERSAL STORES LTD</td>\n",
       "      <td>BUS</td>\n",
       "      <td>ANDREW STREET</td>\n",
       "      <td>1487.0</td>\n",
       "      <td>6200000.0</td>\n",
       "      <td>4.0</td>\n",
       "      <td>20090805.0</td>\n",
       "      <td>BUS2</td>\n",
       "      <td>BUS2</td>\n",
       "      <td>NaN</td>\n",
       "      <td>VI</td>\n",
       "      <td>14.0</td>\n",
       "      <td>3.0</td>\n",
       "      <td>MB0201</td>\n",
       "      <td>1.0</td>\n",
       "    </tr>\n",
       "  </tbody>\n",
       "</table>\n",
       "</div>"
      ],
      "text/plain": [
       "         Township                   Owner Name Prop Category  \\\n",
       "0  NELSPRUIT TOWN           NELSPRUIT HARDWARE           BUS   \n",
       "1  NELSPRUIT TOWN      MINTY IE & SONS PTY LTD           BUS   \n",
       "2  NELSPRUIT TOWN  MINTYS UNIVERSAL STORES LTD           BUS   \n",
       "\n",
       "        Physical Addr    Size  MarketValue  Supp RollNo  Effect Date  \\\n",
       "0  PAUL KRUGER STREET   862.0    2900000.0          4.0   20090805.0   \n",
       "1     ANDERSON STREET   625.0    1700000.0          1.0   20090701.0   \n",
       "2       ANDREW STREET  1487.0    6200000.0          4.0   20090805.0   \n",
       "\n",
       "  Zone Code Usage Code Empty Stand Ind Valuation Type  Ward  Cycle Meter Book  \\\n",
       "0      BUS2       BUS2               N             VI  14.0    3.0     MB0201   \n",
       "1      BUS2       BUS2             NaN             VG  14.0    3.0     MB0005   \n",
       "2      BUS2       BUS2             NaN             VI  14.0    3.0     MB0201   \n",
       "\n",
       "   Val Cnt  \n",
       "0      1.0  \n",
       "1      1.0  \n",
       "2      1.0  "
      ]
     },
     "execution_count": 53,
     "metadata": {},
     "output_type": "execute_result"
    }
   ],
   "source": [
    "#Columns to be removed\n",
    "data_new = data.drop(columns = ['Stand No', 'StandDescrip','Sect Title No', 'Account No', 'TariffCode',\n",
    "       'Street No', 'Up-Level Size','Exemp Size',\n",
    "       'Exemp Value', 'Main Roll No', 'Owner Type',\n",
    "       'Valuation Date', 'Up-LevelInd','BC Create Date',\n",
    "       'BC Orig Date', 'BC Altern Date', 'BC Value','BC Tariff',\n",
    "       'Zone Descrip', 'UsageDescrip','SGNumber','Status',\n",
    "       'Postal Addr1', 'Postal Addr2', 'Postal Addr3',\n",
    "       'Postal Addr4', 'Postal Addr5', 'Postal Code',\n",
    "       'Deed Date', 'Deed No', 'Register Date', 'Register No'])\n",
    "data_new = data_new.drop(columns = [data_new.columns[-1]])\n",
    "\n",
    "#Number of columns in the oriiginal data set\n",
    "num_cols_orig = len(data.columns)\n",
    "new_num_cols = len(data_new.columns)\n",
    "left_cols= num_cols_orig - new_num_cols\n",
    "#Capute date is not properly named, so we must remove it using the indexs\n",
    "print('After cleaning our data, we were able to remove', str(left_cols) + \" features\", 'and we were left with', str(new_num_cols) + \" features\")\n",
    "print('\\n''This is our dataset after perfoming the above operations:')\n",
    "data_new.head(3)"
   ]
  },
  {
   "cell_type": "markdown",
   "metadata": {
    "id": "_4SmMFANCIrI"
   },
   "source": [
    "<br>\n",
    "\n",
    "Now that we have removed all the 'dirty' columns, we will continue to clean the remaining dataset by cleaning the 'Nan' values by either trying to recover the lost data using the currently existing data points or removing the data points with 'Nan' value if they are unrecoverable. We will process the remaining dataset in portion to avoid errors and make it easy to manage and trace mistakes in the data. Beginning to process the dataset from columns starting with column = Township to column = MarketValue.\n",
    "\n",
    "<br>"
   ]
  },
  {
   "cell_type": "markdown",
   "metadata": {
    "id": "fBgJgyXzCIrI"
   },
   "source": [
    "### <b> Processing the data from column = Township to column = MarketValue: </b>"
   ]
  },
  {
   "cell_type": "code",
   "execution_count": 54,
   "metadata": {
    "colab": {
     "base_uri": "https://localhost:8080/",
     "height": 445
    },
    "id": "VbwMNbAWCIrI",
    "outputId": "1f7cdec4-abf0-4b1c-966b-4aaeeed02abb"
   },
   "outputs": [
    {
     "name": "stdout",
     "output_type": "stream",
     "text": [
      "The data before processing of columns, from column = Township to column = MarketValue:\n"
     ]
    },
    {
     "data": {
      "text/html": [
       "<div>\n",
       "<style scoped>\n",
       "    .dataframe tbody tr th:only-of-type {\n",
       "        vertical-align: middle;\n",
       "    }\n",
       "\n",
       "    .dataframe tbody tr th {\n",
       "        vertical-align: top;\n",
       "    }\n",
       "\n",
       "    .dataframe thead th {\n",
       "        text-align: right;\n",
       "    }\n",
       "</style>\n",
       "<table border=\"1\" class=\"dataframe\">\n",
       "  <thead>\n",
       "    <tr style=\"text-align: right;\">\n",
       "      <th></th>\n",
       "      <th>Township</th>\n",
       "      <th>Owner Name</th>\n",
       "      <th>Prop Category</th>\n",
       "      <th>Physical Addr</th>\n",
       "      <th>Size</th>\n",
       "      <th>MarketValue</th>\n",
       "    </tr>\n",
       "  </thead>\n",
       "  <tbody>\n",
       "    <tr>\n",
       "      <th>0</th>\n",
       "      <td>NELSPRUIT TOWN</td>\n",
       "      <td>NELSPRUIT HARDWARE</td>\n",
       "      <td>BUS</td>\n",
       "      <td>PAUL KRUGER STREET</td>\n",
       "      <td>862.0</td>\n",
       "      <td>2900000.0</td>\n",
       "    </tr>\n",
       "    <tr>\n",
       "      <th>1</th>\n",
       "      <td>NELSPRUIT TOWN</td>\n",
       "      <td>MINTY IE &amp; SONS PTY LTD</td>\n",
       "      <td>BUS</td>\n",
       "      <td>ANDERSON STREET</td>\n",
       "      <td>625.0</td>\n",
       "      <td>1700000.0</td>\n",
       "    </tr>\n",
       "    <tr>\n",
       "      <th>2</th>\n",
       "      <td>NELSPRUIT TOWN</td>\n",
       "      <td>MINTYS UNIVERSAL STORES LTD</td>\n",
       "      <td>BUS</td>\n",
       "      <td>ANDREW STREET</td>\n",
       "      <td>1487.0</td>\n",
       "      <td>6200000.0</td>\n",
       "    </tr>\n",
       "    <tr>\n",
       "      <th>3</th>\n",
       "      <td>NELSPRUIT TOWN</td>\n",
       "      <td>LOWMIN PROPERTIES (PTY) LTD</td>\n",
       "      <td>BUS</td>\n",
       "      <td>ANDERSON STREET</td>\n",
       "      <td>1487.0</td>\n",
       "      <td>7300000.0</td>\n",
       "    </tr>\n",
       "    <tr>\n",
       "      <th>4</th>\n",
       "      <td>NELSPRUIT TOWN</td>\n",
       "      <td>NELMIN ERF 4 PROPERTIES (PTY) LTD</td>\n",
       "      <td>BUS</td>\n",
       "      <td>ANDERSON STREET</td>\n",
       "      <td>1487.0</td>\n",
       "      <td>4500000.0</td>\n",
       "    </tr>\n",
       "  </tbody>\n",
       "</table>\n",
       "</div>"
      ],
      "text/plain": [
       "         Township                         Owner Name Prop Category  \\\n",
       "0  NELSPRUIT TOWN                 NELSPRUIT HARDWARE           BUS   \n",
       "1  NELSPRUIT TOWN            MINTY IE & SONS PTY LTD           BUS   \n",
       "2  NELSPRUIT TOWN        MINTYS UNIVERSAL STORES LTD           BUS   \n",
       "3  NELSPRUIT TOWN        LOWMIN PROPERTIES (PTY) LTD           BUS   \n",
       "4  NELSPRUIT TOWN  NELMIN ERF 4 PROPERTIES (PTY) LTD           BUS   \n",
       "\n",
       "        Physical Addr    Size  MarketValue  \n",
       "0  PAUL KRUGER STREET   862.0    2900000.0  \n",
       "1     ANDERSON STREET   625.0    1700000.0  \n",
       "2       ANDREW STREET  1487.0    6200000.0  \n",
       "3     ANDERSON STREET  1487.0    7300000.0  \n",
       "4     ANDERSON STREET  1487.0    4500000.0  "
      ]
     },
     "execution_count": 54,
     "metadata": {},
     "output_type": "execute_result"
    }
   ],
   "source": [
    "# creating a new dataframe df\n",
    "df = pd.DataFrame()\n",
    "# copying the contents of data_new to this dataframe df\n",
    "df = data_new.copy()\n",
    "print(\"The data before processing of columns, from column = Township to column = MarketValue:\")\n",
    "df.iloc[:,0:6].head()"
   ]
  },
  {
   "cell_type": "code",
   "execution_count": 55,
   "metadata": {
    "colab": {
     "base_uri": "https://localhost:8080/"
    },
    "id": "ICCdouX2CIrJ",
    "outputId": "3e6d6070-d7bf-469e-8c72-ecf87fbc275d"
   },
   "outputs": [
    {
     "name": "stdout",
     "output_type": "stream",
     "text": [
      "The null values of the columns, from column = Township to column = MarketValue:\n",
      "\n",
      "Township contains  0 null values.\n",
      "Owner Name column contains 13 null values.\n",
      "Prop Category contains 6 null values.\n",
      "Physical Addr contains 285 null values.\n",
      "Size column contains 6 null values.\n",
      "MarketValue contains 6 null values.\n"
     ]
    }
   ],
   "source": [
    "print('The null values of the columns, from column = Township to column = MarketValue:\\n')\n",
    "print('Township contains ', df['Township'].isnull().sum(), 'null values.')          \n",
    "print('Owner Name column contains', df['Owner Name'].isnull().sum(), 'null values.')\n",
    "print('Prop Category contains', df['Prop Category'].isnull().sum(), 'null values.') \n",
    "print('Physical Addr contains', df['Physical Addr'].isnull().sum(), 'null values.') \n",
    "print('Size column contains', df['Size'].isnull().sum(), 'null values.')            \n",
    "print('MarketValue contains', df['MarketValue'].isnull().sum(), 'null values.')  "
   ]
  },
  {
   "cell_type": "markdown",
   "metadata": {
    "id": "4ktDxduwCIrJ"
   },
   "source": [
    "<br>\n",
    "We will start with the columns that contain the least number of null/Nan. Then we will start with the 'Prop Category' column, and encode the different attributes using integers, we will encode the 'Nan' in the Owners column with \"Other\" to represent the owners we do not have details for. Lastly, we will fill the 'Nan' values in the columns 'Owner Name' and 'Physical Addr' with the word 'Other' and 'Unknown' respectively as they are no means we can use to recover the unknown values of these attributes.\n",
    "<br>"
   ]
  },
  {
   "cell_type": "code",
   "execution_count": 56,
   "metadata": {
    "id": "7sblJT5rCIrK"
   },
   "outputs": [],
   "source": [
    "#encode prop category\n",
    "#1 BUS and #2 RES #3 GOV #4 MUN #5 POW #6 OTH #7 PSI #8 AG #9 RUR\n",
    "df['Prop Category'] = np.where(df['Prop Category'] == 'BUS', 1 ,df['Prop Category'])\n",
    "df['Prop Category'] = np.where(df['Prop Category'] == 'RES', 2 ,df['Prop Category'])\n",
    "df['Prop Category'] = np.where(df['Prop Category'] == 'GOV', 3 ,df['Prop Category'])\n",
    "df['Prop Category'] = np.where(df['Prop Category'] == 'MUN', 4 ,df['Prop Category'])\n",
    "df['Prop Category'] = np.where(df['Prop Category'] == 'POW', 5 ,df['Prop Category'])\n",
    "df['Prop Category'] = np.where(df['Prop Category'] == 'OTH', 6 ,df['Prop Category'])\n",
    "df['Prop Category'] = np.where(df['Prop Category'] == 'PSI', 7 ,df['Prop Category'])\n",
    "df['Prop Category'] = np.where(df['Prop Category'] == 'AG',  8 ,df['Prop Category'])\n",
    "df['Prop Category'] = np.where(df['Prop Category'] == 'RUR', 9 ,df['Prop Category'])"
   ]
  },
  {
   "cell_type": "code",
   "execution_count": 57,
   "metadata": {
    "id": "f2-GM8PCCIrK"
   },
   "outputs": [],
   "source": [
    "#encode missing owners name with 'other'\n",
    "df['Owner Name'] = df['Owner Name'].fillna('Other')\n",
    "#encode missing values for physical address\n",
    "df['Physical Addr'] = df['Physical Addr'].fillna('Unknown')"
   ]
  },
  {
   "cell_type": "code",
   "execution_count": 58,
   "metadata": {
    "id": "oC-RlSknCIrL"
   },
   "outputs": [],
   "source": [
    "# encoding the Physical Addresses \n",
    "physical_addr = df['Physical Addr'].tolist()\n",
    "streets  = []\n",
    "street_num  = 1\n",
    "for i, street in enumerate(physical_addr):\n",
    "    if street not in streets:\n",
    "        streets.append(street)\n",
    "        physical_addr[i] = streets.index(street) + 1\n",
    "    else:\n",
    "        physical_addr[i] = streets.index(street) + 1\n",
    "df['Physical Addr'] = physical_addr"
   ]
  },
  {
   "cell_type": "code",
   "execution_count": 59,
   "metadata": {
    "id": "vfXGsmXxX4EK",
    "outputId": "b1d896f1-fd46-48b9-d6e3-e95aea0b7e80"
   },
   "outputs": [
    {
     "name": "stdout",
     "output_type": "stream",
     "text": [
      "<class 'pandas.core.frame.DataFrame'>\n",
      "RangeIndex: 57252 entries, 0 to 57251\n",
      "Data columns (total 6 columns):\n",
      " #   Column         Non-Null Count  Dtype  \n",
      "---  ------         --------------  -----  \n",
      " 0   Township       57252 non-null  object \n",
      " 1   Owner Name     57252 non-null  object \n",
      " 2   Prop Category  57246 non-null  object \n",
      " 3   Physical Addr  57252 non-null  int64  \n",
      " 4   Size           57246 non-null  float64\n",
      " 5   MarketValue    57246 non-null  float64\n",
      "dtypes: float64(2), int64(1), object(3)\n",
      "memory usage: 2.6+ MB\n"
     ]
    }
   ],
   "source": [
    "df.iloc[:, 0:6].info()"
   ]
  },
  {
   "cell_type": "markdown",
   "metadata": {
    "id": "zyzIG7vbX4EL"
   },
   "source": [
    "The above output we used it to validate the data types of the features we processed in this section which range from Township to Market Value."
   ]
  },
  {
   "cell_type": "code",
   "execution_count": 60,
   "metadata": {
    "colab": {
     "base_uri": "https://localhost:8080/",
     "height": 445
    },
    "id": "gnRwrqcjCIrM",
    "outputId": "8efb05e7-68d7-4c85-a0ea-ad3c4e91e83c",
    "scrolled": true
   },
   "outputs": [
    {
     "name": "stdout",
     "output_type": "stream",
     "text": [
      "This is the data after processing the columns - from column = Township to column = MarketValue:\n"
     ]
    },
    {
     "data": {
      "text/html": [
       "<div>\n",
       "<style scoped>\n",
       "    .dataframe tbody tr th:only-of-type {\n",
       "        vertical-align: middle;\n",
       "    }\n",
       "\n",
       "    .dataframe tbody tr th {\n",
       "        vertical-align: top;\n",
       "    }\n",
       "\n",
       "    .dataframe thead th {\n",
       "        text-align: right;\n",
       "    }\n",
       "</style>\n",
       "<table border=\"1\" class=\"dataframe\">\n",
       "  <thead>\n",
       "    <tr style=\"text-align: right;\">\n",
       "      <th></th>\n",
       "      <th>Township</th>\n",
       "      <th>Owner Name</th>\n",
       "      <th>Prop Category</th>\n",
       "      <th>Physical Addr</th>\n",
       "      <th>Size</th>\n",
       "      <th>MarketValue</th>\n",
       "    </tr>\n",
       "  </thead>\n",
       "  <tbody>\n",
       "    <tr>\n",
       "      <th>0</th>\n",
       "      <td>NELSPRUIT TOWN</td>\n",
       "      <td>NELSPRUIT HARDWARE</td>\n",
       "      <td>1</td>\n",
       "      <td>1</td>\n",
       "      <td>862.0</td>\n",
       "      <td>2900000.0</td>\n",
       "    </tr>\n",
       "    <tr>\n",
       "      <th>1</th>\n",
       "      <td>NELSPRUIT TOWN</td>\n",
       "      <td>MINTY IE &amp; SONS PTY LTD</td>\n",
       "      <td>1</td>\n",
       "      <td>2</td>\n",
       "      <td>625.0</td>\n",
       "      <td>1700000.0</td>\n",
       "    </tr>\n",
       "    <tr>\n",
       "      <th>2</th>\n",
       "      <td>NELSPRUIT TOWN</td>\n",
       "      <td>MINTYS UNIVERSAL STORES LTD</td>\n",
       "      <td>1</td>\n",
       "      <td>3</td>\n",
       "      <td>1487.0</td>\n",
       "      <td>6200000.0</td>\n",
       "    </tr>\n",
       "    <tr>\n",
       "      <th>3</th>\n",
       "      <td>NELSPRUIT TOWN</td>\n",
       "      <td>LOWMIN PROPERTIES (PTY) LTD</td>\n",
       "      <td>1</td>\n",
       "      <td>2</td>\n",
       "      <td>1487.0</td>\n",
       "      <td>7300000.0</td>\n",
       "    </tr>\n",
       "    <tr>\n",
       "      <th>4</th>\n",
       "      <td>NELSPRUIT TOWN</td>\n",
       "      <td>NELMIN ERF 4 PROPERTIES (PTY) LTD</td>\n",
       "      <td>1</td>\n",
       "      <td>2</td>\n",
       "      <td>1487.0</td>\n",
       "      <td>4500000.0</td>\n",
       "    </tr>\n",
       "  </tbody>\n",
       "</table>\n",
       "</div>"
      ],
      "text/plain": [
       "         Township                         Owner Name Prop Category  \\\n",
       "0  NELSPRUIT TOWN                 NELSPRUIT HARDWARE             1   \n",
       "1  NELSPRUIT TOWN            MINTY IE & SONS PTY LTD             1   \n",
       "2  NELSPRUIT TOWN        MINTYS UNIVERSAL STORES LTD             1   \n",
       "3  NELSPRUIT TOWN        LOWMIN PROPERTIES (PTY) LTD             1   \n",
       "4  NELSPRUIT TOWN  NELMIN ERF 4 PROPERTIES (PTY) LTD             1   \n",
       "\n",
       "   Physical Addr    Size  MarketValue  \n",
       "0              1   862.0    2900000.0  \n",
       "1              2   625.0    1700000.0  \n",
       "2              3  1487.0    6200000.0  \n",
       "3              2  1487.0    7300000.0  \n",
       "4              2  1487.0    4500000.0  "
      ]
     },
     "execution_count": 60,
     "metadata": {},
     "output_type": "execute_result"
    }
   ],
   "source": [
    "print(\"This is the data after processing the columns - from column = Township to column = MarketValue:\")\n",
    "##Store this new cleaned to df_clean\n",
    "df_clean = df.copy()\n",
    "df.iloc[:,0:6].head()"
   ]
  },
  {
   "cell_type": "markdown",
   "metadata": {
    "id": "l1Juoge5X4EL"
   },
   "source": [
    "Now that we have processed the data from column = Township to column = MarketValue we turn our focus to the columns of the dataset starting from column = Supp RollNo to column = Valuation Type:"
   ]
  },
  {
   "cell_type": "markdown",
   "metadata": {
    "id": "wYrgTTs4CIrM"
   },
   "source": [
    "### <b> Processing the data from column = Supp RollNo to column = Valuation Type: </b>"
   ]
  },
  {
   "cell_type": "code",
   "execution_count": 61,
   "metadata": {
    "colab": {
     "base_uri": "https://localhost:8080/",
     "height": 419
    },
    "id": "5e4co85NCIrN",
    "outputId": "77a5dfbb-f3ac-4ef0-8a17-abee3e1f9d5a"
   },
   "outputs": [
    {
     "name": "stdout",
     "output_type": "stream",
     "text": [
      "The data before processing of columns, from column = 'Supp RollNo' to column = 'Valuation Type':\n"
     ]
    },
    {
     "data": {
      "text/html": [
       "<div>\n",
       "<style scoped>\n",
       "    .dataframe tbody tr th:only-of-type {\n",
       "        vertical-align: middle;\n",
       "    }\n",
       "\n",
       "    .dataframe tbody tr th {\n",
       "        vertical-align: top;\n",
       "    }\n",
       "\n",
       "    .dataframe thead th {\n",
       "        text-align: right;\n",
       "    }\n",
       "</style>\n",
       "<table border=\"1\" class=\"dataframe\">\n",
       "  <thead>\n",
       "    <tr style=\"text-align: right;\">\n",
       "      <th></th>\n",
       "      <th>Supp RollNo</th>\n",
       "      <th>Effect Date</th>\n",
       "      <th>Zone Code</th>\n",
       "      <th>Usage Code</th>\n",
       "      <th>Empty Stand Ind</th>\n",
       "      <th>Valuation Type</th>\n",
       "    </tr>\n",
       "  </thead>\n",
       "  <tbody>\n",
       "    <tr>\n",
       "      <th>0</th>\n",
       "      <td>4.0</td>\n",
       "      <td>20090805.0</td>\n",
       "      <td>BUS2</td>\n",
       "      <td>BUS2</td>\n",
       "      <td>N</td>\n",
       "      <td>VI</td>\n",
       "    </tr>\n",
       "    <tr>\n",
       "      <th>1</th>\n",
       "      <td>1.0</td>\n",
       "      <td>20090701.0</td>\n",
       "      <td>BUS2</td>\n",
       "      <td>BUS2</td>\n",
       "      <td>NaN</td>\n",
       "      <td>VG</td>\n",
       "    </tr>\n",
       "    <tr>\n",
       "      <th>2</th>\n",
       "      <td>4.0</td>\n",
       "      <td>20090805.0</td>\n",
       "      <td>BUS2</td>\n",
       "      <td>BUS2</td>\n",
       "      <td>NaN</td>\n",
       "      <td>VI</td>\n",
       "    </tr>\n",
       "    <tr>\n",
       "      <th>3</th>\n",
       "      <td>4.0</td>\n",
       "      <td>20090805.0</td>\n",
       "      <td>BUS2</td>\n",
       "      <td>BUS2</td>\n",
       "      <td>NaN</td>\n",
       "      <td>VI</td>\n",
       "    </tr>\n",
       "    <tr>\n",
       "      <th>4</th>\n",
       "      <td>6.0</td>\n",
       "      <td>20100125.0</td>\n",
       "      <td>BUS2</td>\n",
       "      <td>BUS2</td>\n",
       "      <td>N</td>\n",
       "      <td>VI</td>\n",
       "    </tr>\n",
       "  </tbody>\n",
       "</table>\n",
       "</div>"
      ],
      "text/plain": [
       "   Supp RollNo  Effect Date Zone Code Usage Code Empty Stand Ind  \\\n",
       "0          4.0   20090805.0      BUS2       BUS2               N   \n",
       "1          1.0   20090701.0      BUS2       BUS2             NaN   \n",
       "2          4.0   20090805.0      BUS2       BUS2             NaN   \n",
       "3          4.0   20090805.0      BUS2       BUS2             NaN   \n",
       "4          6.0   20100125.0      BUS2       BUS2               N   \n",
       "\n",
       "  Valuation Type  \n",
       "0             VI  \n",
       "1             VG  \n",
       "2             VI  \n",
       "3             VI  \n",
       "4             VI  "
      ]
     },
     "execution_count": 61,
     "metadata": {},
     "output_type": "execute_result"
    }
   ],
   "source": [
    "#Data wrangling of dataset from Column 7 to Coulumn 13\n",
    "print(\"The data before processing of columns, from column = 'Supp RollNo' to column = 'Valuation Type':\")\n",
    "data_section = df_clean.iloc[:,6:12]\n",
    "data_section.head()"
   ]
  },
  {
   "cell_type": "markdown",
   "metadata": {
    "id": "_qERaEYWCIrN"
   },
   "source": [
    "Noting that there is only N and Nan values in the 'Empty Stand Ind' column, we could have decided that the 'Nan' represented as YES but, that assumption was far fetched as we cannot conclude that the stand is empty or not since there may be other factors affecting this variable, as a result, we will drop this column below."
   ]
  },
  {
   "cell_type": "code",
   "execution_count": 62,
   "metadata": {
    "colab": {
     "base_uri": "https://localhost:8080/",
     "height": 419
    },
    "id": "QirhbasBCIrO",
    "outputId": "9719c478-5e05-453a-a45b-c558519f288e"
   },
   "outputs": [
    {
     "name": "stdout",
     "output_type": "stream",
     "text": [
      "Data section startting from column = Supp RollNo to column = Valuation Type: after removal of Empty Stand Ind:\n"
     ]
    },
    {
     "data": {
      "text/html": [
       "<div>\n",
       "<style scoped>\n",
       "    .dataframe tbody tr th:only-of-type {\n",
       "        vertical-align: middle;\n",
       "    }\n",
       "\n",
       "    .dataframe tbody tr th {\n",
       "        vertical-align: top;\n",
       "    }\n",
       "\n",
       "    .dataframe thead th {\n",
       "        text-align: right;\n",
       "    }\n",
       "</style>\n",
       "<table border=\"1\" class=\"dataframe\">\n",
       "  <thead>\n",
       "    <tr style=\"text-align: right;\">\n",
       "      <th></th>\n",
       "      <th>Supp RollNo</th>\n",
       "      <th>Effect Date</th>\n",
       "      <th>Zone Code</th>\n",
       "      <th>Usage Code</th>\n",
       "      <th>Valuation Type</th>\n",
       "      <th>Ward</th>\n",
       "    </tr>\n",
       "  </thead>\n",
       "  <tbody>\n",
       "    <tr>\n",
       "      <th>0</th>\n",
       "      <td>4.0</td>\n",
       "      <td>20090805.0</td>\n",
       "      <td>BUS2</td>\n",
       "      <td>BUS2</td>\n",
       "      <td>VI</td>\n",
       "      <td>14.0</td>\n",
       "    </tr>\n",
       "    <tr>\n",
       "      <th>1</th>\n",
       "      <td>1.0</td>\n",
       "      <td>20090701.0</td>\n",
       "      <td>BUS2</td>\n",
       "      <td>BUS2</td>\n",
       "      <td>VG</td>\n",
       "      <td>14.0</td>\n",
       "    </tr>\n",
       "    <tr>\n",
       "      <th>2</th>\n",
       "      <td>4.0</td>\n",
       "      <td>20090805.0</td>\n",
       "      <td>BUS2</td>\n",
       "      <td>BUS2</td>\n",
       "      <td>VI</td>\n",
       "      <td>14.0</td>\n",
       "    </tr>\n",
       "    <tr>\n",
       "      <th>3</th>\n",
       "      <td>4.0</td>\n",
       "      <td>20090805.0</td>\n",
       "      <td>BUS2</td>\n",
       "      <td>BUS2</td>\n",
       "      <td>VI</td>\n",
       "      <td>14.0</td>\n",
       "    </tr>\n",
       "    <tr>\n",
       "      <th>4</th>\n",
       "      <td>6.0</td>\n",
       "      <td>20100125.0</td>\n",
       "      <td>BUS2</td>\n",
       "      <td>BUS2</td>\n",
       "      <td>VI</td>\n",
       "      <td>14.0</td>\n",
       "    </tr>\n",
       "  </tbody>\n",
       "</table>\n",
       "</div>"
      ],
      "text/plain": [
       "   Supp RollNo  Effect Date Zone Code Usage Code Valuation Type  Ward\n",
       "0          4.0   20090805.0      BUS2       BUS2             VI  14.0\n",
       "1          1.0   20090701.0      BUS2       BUS2             VG  14.0\n",
       "2          4.0   20090805.0      BUS2       BUS2             VI  14.0\n",
       "3          4.0   20090805.0      BUS2       BUS2             VI  14.0\n",
       "4          6.0   20100125.0      BUS2       BUS2             VI  14.0"
      ]
     },
     "execution_count": 62,
     "metadata": {},
     "output_type": "execute_result"
    }
   ],
   "source": [
    "#There is only N and null values in 'Empty Stand Ind'. The question is 'is null equal to yes?', this assumption is far fetched thus might be incorrect, based on that we take out this column\n",
    "##For debugging purposes\n",
    "try:\n",
    "    df_clean = df_clean.drop(columns = 'Empty Stand Ind')\n",
    "except:\n",
    "    print('The column Empty Stand Ind has been removed already')\n",
    "print(\"Data section startting from column = Supp RollNo to column = Valuation Type: after removal of Empty Stand Ind:\")\n",
    "data_section = df_clean.iloc[:,6:12]\n",
    "data_section.head()"
   ]
  },
  {
   "cell_type": "code",
   "execution_count": 63,
   "metadata": {
    "colab": {
     "base_uri": "https://localhost:8080/"
    },
    "id": "fC7m1h7rCIrO",
    "outputId": "eb4d02d7-a78f-4529-e139-3394f10d1412"
   },
   "outputs": [
    {
     "name": "stdout",
     "output_type": "stream",
     "text": [
      "The values below relate to columns starting with column = Supp RollNo to column = Valuation Type of the dataset.\n",
      "This is the number of columns with missing values: 6\n",
      "This is the number of rows with missing values: 6\n"
     ]
    }
   ],
   "source": [
    "print(\"The values below relate to columns starting with column = Supp RollNo to column = Valuation Type of the dataset.\")\n",
    "print(\"This is the number of columns with missing values:\", end = \" \")\n",
    "#Checking columns with null values\n",
    "ncols_missing = data_section.isnull().any(axis=0).sum()\n",
    "print(ncols_missing)\n",
    "print('This is the number of rows with missing values:', end = \" \")\n",
    "#Checking rows with null values\n",
    "nrows_missing = data_section.isnull().any(axis=1).sum()\n",
    "print(nrows_missing)"
   ]
  },
  {
   "cell_type": "markdown",
   "metadata": {
    "id": "njyRYBS6X4EO"
   },
   "source": [
    "These values indicates that the are cells in these columns that have missing values. There are several reasons for which these values could be missing, which are not known to us at the moment."
   ]
  },
  {
   "cell_type": "code",
   "execution_count": 64,
   "metadata": {
    "colab": {
     "base_uri": "https://localhost:8080/"
    },
    "id": "wp3bxU-CCIrP",
    "outputId": "1dac4afb-eed0-40e9-bd69-27a92ab04c0f"
   },
   "outputs": [
    {
     "name": "stdout",
     "output_type": "stream",
     "text": [
      "[30400 40754 40767 40800 40815 40834]\n",
      "rows 30400, 40754, 40767, 40800, 40815 and 40834 are null for Supp RollNo\n",
      "[30400 40754 40767 40800 40815 40834]\n",
      "rows 30400, 40754, 40767, 40800, 40815 and 40834 are null for Effect Date\n",
      "[30400 40754 40767 40800 40815 40834]\n",
      "rows 30400, 40754, 40767, 40800, 40815 and 40834 are null for Zone Code\n",
      "[30400 40754 40767 40800 40815 40834]\n",
      "rows 30400, 40754, 40767, 40800, 40815 and 40834 are null for Usage Code\n",
      "[30400 40754 40767 40800 40815 40834]\n",
      "rows 30400, 40754, 40767, 40800, 40815 and 40834 are null for Valuation Type\n",
      "[30400 40754 40767 40800 40815 40834]\n",
      "rows 30400, 40754, 40767, 40800, 40815 and 40834 are null for Ward\n"
     ]
    }
   ],
   "source": [
    "#All 6 columns have missing values\n",
    "#6 rows have missing values\n",
    "#For seing which rows index are null in respect to each column.\n",
    "print(np.where(data_section['Supp RollNo'].isnull() == True)[0])\n",
    "print(\"rows 30400, 40754, 40767, 40800, 40815 and 40834 are null for Supp RollNo\")\n",
    "print(np.where(data_section['Effect Date'].isnull() == True)[0])\n",
    "print(\"rows 30400, 40754, 40767, 40800, 40815 and 40834 are null for Effect Date\")\n",
    "print(np.where(data_section['Zone Code'].isnull() == True)[0])\n",
    "print(\"rows 30400, 40754, 40767, 40800, 40815 and 40834 are null for Zone Code\")\n",
    "print(np.where(data_section['Usage Code'].isnull() == True)[0])\n",
    "print(\"rows 30400, 40754, 40767, 40800, 40815 and 40834 are null for Usage Code\")\n",
    "print(np.where(data_section['Valuation Type'].isnull() == True)[0])\n",
    "print(\"rows 30400, 40754, 40767, 40800, 40815 and 40834 are null for Valuation Type\")\n",
    "print(np.where(data_section['Ward'].isnull() == True)[0])\n",
    "print(\"rows 30400, 40754, 40767, 40800, 40815 and 40834 are null for Ward\")"
   ]
  },
  {
   "cell_type": "markdown",
   "metadata": {
    "id": "gzHM2jJ9X4EP"
   },
   "source": [
    "<br>\n",
    "The output above shows the rows that contain null values for different features as shown above. We are then going to process our dataset by removing data points since most of the information relating to these properties is missing, so not much information can be extracted from these properties.\n",
    "<br>"
   ]
  },
  {
   "cell_type": "code",
   "execution_count": 65,
   "metadata": {
    "id": "Vcdkm1BNCIrQ"
   },
   "outputs": [],
   "source": [
    "#All the rows with missing values are removed\n",
    "df_clean = df_clean.drop([30400, 40754, 40767, 40800, 40815, 40834])"
   ]
  },
  {
   "cell_type": "code",
   "execution_count": 66,
   "metadata": {
    "colab": {
     "base_uri": "https://localhost:8080/"
    },
    "id": "O8kAtODOCIrQ",
    "outputId": "ca4f6160-e523-4f2a-8ddd-cca502b391c6"
   },
   "outputs": [
    {
     "name": "stdout",
     "output_type": "stream",
     "text": [
      "This is the number of columns with missing values: 0\n",
      "This is the number of rows with the missing values: 0\n"
     ]
    }
   ],
   "source": [
    "print('This is the number of columns with missing values:', end = \" \")\n",
    "data_section = df_clean.iloc[:,7:12]\n",
    "#Checking columns with null values\n",
    "ncols_missing = data_section.isnull().any(axis=0).sum()\n",
    "print(ncols_missing)\n",
    "print('This is the number of rows with the missing values:', end = \" \")\n",
    "#Checking rows with null values\n",
    "nrows_missing = data_section.isnull().any(axis=1).sum()\n",
    "print(nrows_missing)"
   ]
  },
  {
   "cell_type": "markdown",
   "metadata": {
    "id": "BoRLlPV9X4EQ"
   },
   "source": [
    "The values below relate to columns starting with column = 'Supp RollNo' to column = 'Valuation Type' of the dataset,\n",
    "after removing the null values mentioned above. We are now ready to encode some these attributes. In the next few cells we encode the 'Zone Code' , 'Usage Code' and 'Valuation Type' using different encoding schemes that we found to be appropriate for each attribute. "
   ]
  },
  {
   "cell_type": "code",
   "execution_count": 67,
   "metadata": {
    "id": "dn1NBksaCIrR"
   },
   "outputs": [],
   "source": [
    "#Making my dictionaries\n",
    "dic = pd.Series(data_section['Zone Code'].unique())\n",
    "dic.index = dic.index + 1\n",
    "dic = pd.Series(dic.index.values, index = dic)\n",
    "\n",
    "dic2 = pd.Series(data_section['Usage Code'].unique())\n",
    "dic2.index = dic2.index + 1\n",
    "dic2 = pd.Series(dic2.index.values, index = dic2)\n",
    "\n",
    "dic3 = pd.Series(data_section['Valuation Type'].unique())\n",
    "dic3.index = dic3.index + 1\n",
    "dic3 = pd.Series(dic3.index.values, index = dic3)"
   ]
  },
  {
   "cell_type": "code",
   "execution_count": 68,
   "metadata": {
    "colab": {
     "base_uri": "https://localhost:8080/",
     "height": 419
    },
    "id": "mwD4th5gCIrS",
    "outputId": "7d142693-65d9-435c-ca85-4fb72f3762d8"
   },
   "outputs": [
    {
     "name": "stdout",
     "output_type": "stream",
     "text": [
      "The data after encoding  Zone Code, Usage Code and Valuation Type:\n"
     ]
    },
    {
     "data": {
      "text/html": [
       "<div>\n",
       "<style scoped>\n",
       "    .dataframe tbody tr th:only-of-type {\n",
       "        vertical-align: middle;\n",
       "    }\n",
       "\n",
       "    .dataframe tbody tr th {\n",
       "        vertical-align: top;\n",
       "    }\n",
       "\n",
       "    .dataframe thead th {\n",
       "        text-align: right;\n",
       "    }\n",
       "</style>\n",
       "<table border=\"1\" class=\"dataframe\">\n",
       "  <thead>\n",
       "    <tr style=\"text-align: right;\">\n",
       "      <th></th>\n",
       "      <th>Effect Date</th>\n",
       "      <th>Zone Code</th>\n",
       "      <th>Usage Code</th>\n",
       "      <th>Valuation Type</th>\n",
       "      <th>Ward</th>\n",
       "    </tr>\n",
       "  </thead>\n",
       "  <tbody>\n",
       "    <tr>\n",
       "      <th>0</th>\n",
       "      <td>20090805.0</td>\n",
       "      <td>1</td>\n",
       "      <td>1</td>\n",
       "      <td>1</td>\n",
       "      <td>14.0</td>\n",
       "    </tr>\n",
       "    <tr>\n",
       "      <th>1</th>\n",
       "      <td>20090701.0</td>\n",
       "      <td>1</td>\n",
       "      <td>1</td>\n",
       "      <td>2</td>\n",
       "      <td>14.0</td>\n",
       "    </tr>\n",
       "    <tr>\n",
       "      <th>2</th>\n",
       "      <td>20090805.0</td>\n",
       "      <td>1</td>\n",
       "      <td>1</td>\n",
       "      <td>1</td>\n",
       "      <td>14.0</td>\n",
       "    </tr>\n",
       "    <tr>\n",
       "      <th>3</th>\n",
       "      <td>20090805.0</td>\n",
       "      <td>1</td>\n",
       "      <td>1</td>\n",
       "      <td>1</td>\n",
       "      <td>14.0</td>\n",
       "    </tr>\n",
       "    <tr>\n",
       "      <th>4</th>\n",
       "      <td>20100125.0</td>\n",
       "      <td>1</td>\n",
       "      <td>1</td>\n",
       "      <td>1</td>\n",
       "      <td>14.0</td>\n",
       "    </tr>\n",
       "  </tbody>\n",
       "</table>\n",
       "</div>"
      ],
      "text/plain": [
       "   Effect Date  Zone Code  Usage Code  Valuation Type  Ward\n",
       "0   20090805.0          1           1               1  14.0\n",
       "1   20090701.0          1           1               2  14.0\n",
       "2   20090805.0          1           1               1  14.0\n",
       "3   20090805.0          1           1               1  14.0\n",
       "4   20100125.0          1           1               1  14.0"
      ]
     },
     "execution_count": 68,
     "metadata": {},
     "output_type": "execute_result"
    }
   ],
   "source": [
    "#Encoding based on the dictionaries\n",
    "lookup_table = dict(dic)\n",
    "\n",
    "def lookup_customer(val):\n",
    "    return lookup_table.get(val, np.nan)\n",
    "\n",
    "\n",
    "data_section['Zone Code'] = data_section['Zone Code'].apply(lambda x: lookup_customer(x));\n",
    "\n",
    "lookup_table = dict(dic2)\n",
    "data_section['Usage Code'] = data_section['Usage Code'].apply(lambda x: lookup_customer(x));\n",
    "\n",
    "lookup_table = dict(dic3)\n",
    "data_section['Valuation Type'] = data_section['Valuation Type'].apply(lambda x: lookup_customer(x));\n",
    "print(\"The data after encoding  Zone Code, Usage Code and Valuation Type:\")\n",
    "data_section.head()\n",
    "#df_new.head(20)"
   ]
  },
  {
   "cell_type": "code",
   "execution_count": 69,
   "metadata": {
    "colab": {
     "base_uri": "https://localhost:8080/"
    },
    "id": "XH1RkP1HCIrS",
    "outputId": "6430f8f3-cff4-47c8-8668-83742baf648b"
   },
   "outputs": [
    {
     "name": "stdout",
     "output_type": "stream",
     "text": [
      "<class 'pandas.core.frame.DataFrame'>\n",
      "Int64Index: 57246 entries, 0 to 57251\n",
      "Data columns (total 5 columns):\n",
      " #   Column          Non-Null Count  Dtype  \n",
      "---  ------          --------------  -----  \n",
      " 0   Effect Date     57246 non-null  float64\n",
      " 1   Zone Code       57246 non-null  int64  \n",
      " 2   Usage Code      57246 non-null  int64  \n",
      " 3   Valuation Type  57246 non-null  int64  \n",
      " 4   Ward            57246 non-null  float64\n",
      "dtypes: float64(2), int64(3)\n",
      "memory usage: 2.6 MB\n"
     ]
    }
   ],
   "source": [
    "###Supp RollNo is Supplimentary roll number\n",
    "##Every property in every municipality should (hypothetically) be on a roll, but because properties are continuously coming into existence and ceasing to exist, new rolls are created (these are referred to as supplementary rolls) to include any properties that have not been previously recorded on another, prior, general roll.\n",
    "data_section.info()"
   ]
  },
  {
   "cell_type": "markdown",
   "metadata": {
    "id": "65nRsnaoX4ES"
   },
   "source": [
    "The above output we used it to validate the data types of the features we processed in this section which range from Effect Date  to Ward. We saw it was necessary to convert the our Effect Date from float to datetime as this is the most appropriate data type to store a date. "
   ]
  },
  {
   "cell_type": "code",
   "execution_count": 70,
   "metadata": {
    "colab": {
     "base_uri": "https://localhost:8080/",
     "height": 419
    },
    "id": "P1W3L-p6CIrT",
    "outputId": "72fd8188-3630-43ec-aa91-280e299325ee"
   },
   "outputs": [
    {
     "data": {
      "text/html": [
       "<div>\n",
       "<style scoped>\n",
       "    .dataframe tbody tr th:only-of-type {\n",
       "        vertical-align: middle;\n",
       "    }\n",
       "\n",
       "    .dataframe tbody tr th {\n",
       "        vertical-align: top;\n",
       "    }\n",
       "\n",
       "    .dataframe thead th {\n",
       "        text-align: right;\n",
       "    }\n",
       "</style>\n",
       "<table border=\"1\" class=\"dataframe\">\n",
       "  <thead>\n",
       "    <tr style=\"text-align: right;\">\n",
       "      <th></th>\n",
       "      <th>Effect Date</th>\n",
       "      <th>Zone Code</th>\n",
       "      <th>Usage Code</th>\n",
       "      <th>Valuation Type</th>\n",
       "      <th>Ward</th>\n",
       "    </tr>\n",
       "  </thead>\n",
       "  <tbody>\n",
       "    <tr>\n",
       "      <th>0</th>\n",
       "      <td>2009-08-05</td>\n",
       "      <td>1</td>\n",
       "      <td>1</td>\n",
       "      <td>1</td>\n",
       "      <td>14.0</td>\n",
       "    </tr>\n",
       "    <tr>\n",
       "      <th>1</th>\n",
       "      <td>2009-07-01</td>\n",
       "      <td>1</td>\n",
       "      <td>1</td>\n",
       "      <td>2</td>\n",
       "      <td>14.0</td>\n",
       "    </tr>\n",
       "    <tr>\n",
       "      <th>2</th>\n",
       "      <td>2009-08-05</td>\n",
       "      <td>1</td>\n",
       "      <td>1</td>\n",
       "      <td>1</td>\n",
       "      <td>14.0</td>\n",
       "    </tr>\n",
       "    <tr>\n",
       "      <th>3</th>\n",
       "      <td>2009-08-05</td>\n",
       "      <td>1</td>\n",
       "      <td>1</td>\n",
       "      <td>1</td>\n",
       "      <td>14.0</td>\n",
       "    </tr>\n",
       "    <tr>\n",
       "      <th>4</th>\n",
       "      <td>2010-01-25</td>\n",
       "      <td>1</td>\n",
       "      <td>1</td>\n",
       "      <td>1</td>\n",
       "      <td>14.0</td>\n",
       "    </tr>\n",
       "  </tbody>\n",
       "</table>\n",
       "</div>"
      ],
      "text/plain": [
       "  Effect Date  Zone Code  Usage Code  Valuation Type  Ward\n",
       "0  2009-08-05          1           1               1  14.0\n",
       "1  2009-07-01          1           1               2  14.0\n",
       "2  2009-08-05          1           1               1  14.0\n",
       "3  2009-08-05          1           1               1  14.0\n",
       "4  2010-01-25          1           1               1  14.0"
      ]
     },
     "execution_count": 70,
     "metadata": {},
     "output_type": "execute_result"
    }
   ],
   "source": [
    "#convert column Effect date to date time\n",
    "data_section['Effect Date'] = pd.to_datetime(data_section['Effect Date'], format='%Y%m%d') \n",
    "data_section.head()"
   ]
  },
  {
   "cell_type": "code",
   "execution_count": 71,
   "metadata": {
    "colab": {
     "base_uri": "https://localhost:8080/",
     "height": 762
    },
    "id": "Rt0l-ZEXCIrU",
    "outputId": "3cc25265-ef0a-40fc-c1b5-42fb5b784e44"
   },
   "outputs": [
    {
     "name": "stdout",
     "output_type": "stream",
     "text": [
      "The final cleaned dataframe after processing columns starting from Supp RollNo to Ward:\n"
     ]
    },
    {
     "data": {
      "text/html": [
       "<div>\n",
       "<style scoped>\n",
       "    .dataframe tbody tr th:only-of-type {\n",
       "        vertical-align: middle;\n",
       "    }\n",
       "\n",
       "    .dataframe tbody tr th {\n",
       "        vertical-align: top;\n",
       "    }\n",
       "\n",
       "    .dataframe thead th {\n",
       "        text-align: right;\n",
       "    }\n",
       "</style>\n",
       "<table border=\"1\" class=\"dataframe\">\n",
       "  <thead>\n",
       "    <tr style=\"text-align: right;\">\n",
       "      <th></th>\n",
       "      <th>Township</th>\n",
       "      <th>Owner Name</th>\n",
       "      <th>Prop Category</th>\n",
       "      <th>Physical Addr</th>\n",
       "      <th>Size</th>\n",
       "      <th>MarketValue</th>\n",
       "      <th>Supp RollNo</th>\n",
       "      <th>Effect Date</th>\n",
       "      <th>Zone Code</th>\n",
       "      <th>Usage Code</th>\n",
       "      <th>Valuation Type</th>\n",
       "      <th>Ward</th>\n",
       "      <th>Cycle</th>\n",
       "      <th>Meter Book</th>\n",
       "      <th>Val Cnt</th>\n",
       "    </tr>\n",
       "  </thead>\n",
       "  <tbody>\n",
       "    <tr>\n",
       "      <th>0</th>\n",
       "      <td>NELSPRUIT TOWN</td>\n",
       "      <td>NELSPRUIT HARDWARE</td>\n",
       "      <td>1</td>\n",
       "      <td>1</td>\n",
       "      <td>862.0</td>\n",
       "      <td>2900000.0</td>\n",
       "      <td>4.0</td>\n",
       "      <td>2009-08-05</td>\n",
       "      <td>1</td>\n",
       "      <td>1</td>\n",
       "      <td>1</td>\n",
       "      <td>14.0</td>\n",
       "      <td>3.0</td>\n",
       "      <td>MB0201</td>\n",
       "      <td>1.0</td>\n",
       "    </tr>\n",
       "    <tr>\n",
       "      <th>1</th>\n",
       "      <td>NELSPRUIT TOWN</td>\n",
       "      <td>MINTY IE &amp; SONS PTY LTD</td>\n",
       "      <td>1</td>\n",
       "      <td>2</td>\n",
       "      <td>625.0</td>\n",
       "      <td>1700000.0</td>\n",
       "      <td>1.0</td>\n",
       "      <td>2009-07-01</td>\n",
       "      <td>1</td>\n",
       "      <td>1</td>\n",
       "      <td>2</td>\n",
       "      <td>14.0</td>\n",
       "      <td>3.0</td>\n",
       "      <td>MB0005</td>\n",
       "      <td>1.0</td>\n",
       "    </tr>\n",
       "    <tr>\n",
       "      <th>2</th>\n",
       "      <td>NELSPRUIT TOWN</td>\n",
       "      <td>MINTYS UNIVERSAL STORES LTD</td>\n",
       "      <td>1</td>\n",
       "      <td>3</td>\n",
       "      <td>1487.0</td>\n",
       "      <td>6200000.0</td>\n",
       "      <td>4.0</td>\n",
       "      <td>2009-08-05</td>\n",
       "      <td>1</td>\n",
       "      <td>1</td>\n",
       "      <td>1</td>\n",
       "      <td>14.0</td>\n",
       "      <td>3.0</td>\n",
       "      <td>MB0201</td>\n",
       "      <td>1.0</td>\n",
       "    </tr>\n",
       "    <tr>\n",
       "      <th>3</th>\n",
       "      <td>NELSPRUIT TOWN</td>\n",
       "      <td>LOWMIN PROPERTIES (PTY) LTD</td>\n",
       "      <td>1</td>\n",
       "      <td>2</td>\n",
       "      <td>1487.0</td>\n",
       "      <td>7300000.0</td>\n",
       "      <td>4.0</td>\n",
       "      <td>2009-08-05</td>\n",
       "      <td>1</td>\n",
       "      <td>1</td>\n",
       "      <td>1</td>\n",
       "      <td>14.0</td>\n",
       "      <td>3.0</td>\n",
       "      <td>MB0005</td>\n",
       "      <td>1.0</td>\n",
       "    </tr>\n",
       "    <tr>\n",
       "      <th>4</th>\n",
       "      <td>NELSPRUIT TOWN</td>\n",
       "      <td>NELMIN ERF 4 PROPERTIES (PTY) LTD</td>\n",
       "      <td>1</td>\n",
       "      <td>2</td>\n",
       "      <td>1487.0</td>\n",
       "      <td>4500000.0</td>\n",
       "      <td>6.0</td>\n",
       "      <td>2010-01-25</td>\n",
       "      <td>1</td>\n",
       "      <td>1</td>\n",
       "      <td>1</td>\n",
       "      <td>14.0</td>\n",
       "      <td>3.0</td>\n",
       "      <td>MB0005</td>\n",
       "      <td>1.0</td>\n",
       "    </tr>\n",
       "  </tbody>\n",
       "</table>\n",
       "</div>"
      ],
      "text/plain": [
       "         Township                         Owner Name Prop Category  \\\n",
       "0  NELSPRUIT TOWN                 NELSPRUIT HARDWARE             1   \n",
       "1  NELSPRUIT TOWN            MINTY IE & SONS PTY LTD             1   \n",
       "2  NELSPRUIT TOWN        MINTYS UNIVERSAL STORES LTD             1   \n",
       "3  NELSPRUIT TOWN        LOWMIN PROPERTIES (PTY) LTD             1   \n",
       "4  NELSPRUIT TOWN  NELMIN ERF 4 PROPERTIES (PTY) LTD             1   \n",
       "\n",
       "   Physical Addr    Size  MarketValue  Supp RollNo Effect Date  Zone Code  \\\n",
       "0              1   862.0    2900000.0          4.0  2009-08-05          1   \n",
       "1              2   625.0    1700000.0          1.0  2009-07-01          1   \n",
       "2              3  1487.0    6200000.0          4.0  2009-08-05          1   \n",
       "3              2  1487.0    7300000.0          4.0  2009-08-05          1   \n",
       "4              2  1487.0    4500000.0          6.0  2010-01-25          1   \n",
       "\n",
       "   Usage Code  Valuation Type  Ward  Cycle Meter Book  Val Cnt  \n",
       "0           1               1  14.0    3.0     MB0201      1.0  \n",
       "1           1               2  14.0    3.0     MB0005      1.0  \n",
       "2           1               1  14.0    3.0     MB0201      1.0  \n",
       "3           1               1  14.0    3.0     MB0005      1.0  \n",
       "4           1               1  14.0    3.0     MB0005      1.0  "
      ]
     },
     "execution_count": 71,
     "metadata": {},
     "output_type": "execute_result"
    }
   ],
   "source": [
    "print('The final cleaned dataframe after processing columns starting from Supp RollNo to Ward:')\n",
    "df_clean.iloc[:,7:12] = data_section\n",
    "df_clean.head()"
   ]
  },
  {
   "cell_type": "markdown",
   "metadata": {
    "id": "YzlEZhAEX4EU"
   },
   "source": [
    "Now that we have processed columns from Township to Ward of the dataset. We now turn our focus to the remaining section of the dataset. These includes features from Cycle to Val Cnt. "
   ]
  },
  {
   "cell_type": "code",
   "execution_count": 72,
   "metadata": {
    "id": "iDyBOfT8X4EU",
    "outputId": "c81d2d1c-1c16-4dd3-9e5b-98503587e2a1"
   },
   "outputs": [
    {
     "name": "stdout",
     "output_type": "stream",
     "text": [
      "State of data before processing columns from Cycle to Val Cnt:\n"
     ]
    },
    {
     "data": {
      "text/html": [
       "<div>\n",
       "<style scoped>\n",
       "    .dataframe tbody tr th:only-of-type {\n",
       "        vertical-align: middle;\n",
       "    }\n",
       "\n",
       "    .dataframe tbody tr th {\n",
       "        vertical-align: top;\n",
       "    }\n",
       "\n",
       "    .dataframe thead th {\n",
       "        text-align: right;\n",
       "    }\n",
       "</style>\n",
       "<table border=\"1\" class=\"dataframe\">\n",
       "  <thead>\n",
       "    <tr style=\"text-align: right;\">\n",
       "      <th></th>\n",
       "      <th>Cycle</th>\n",
       "      <th>Meter Book</th>\n",
       "      <th>Val Cnt</th>\n",
       "    </tr>\n",
       "  </thead>\n",
       "  <tbody>\n",
       "    <tr>\n",
       "      <th>0</th>\n",
       "      <td>3.0</td>\n",
       "      <td>MB0201</td>\n",
       "      <td>1.0</td>\n",
       "    </tr>\n",
       "    <tr>\n",
       "      <th>1</th>\n",
       "      <td>3.0</td>\n",
       "      <td>MB0005</td>\n",
       "      <td>1.0</td>\n",
       "    </tr>\n",
       "    <tr>\n",
       "      <th>2</th>\n",
       "      <td>3.0</td>\n",
       "      <td>MB0201</td>\n",
       "      <td>1.0</td>\n",
       "    </tr>\n",
       "    <tr>\n",
       "      <th>3</th>\n",
       "      <td>3.0</td>\n",
       "      <td>MB0005</td>\n",
       "      <td>1.0</td>\n",
       "    </tr>\n",
       "    <tr>\n",
       "      <th>4</th>\n",
       "      <td>3.0</td>\n",
       "      <td>MB0005</td>\n",
       "      <td>1.0</td>\n",
       "    </tr>\n",
       "  </tbody>\n",
       "</table>\n",
       "</div>"
      ],
      "text/plain": [
       "   Cycle Meter Book  Val Cnt\n",
       "0    3.0     MB0201      1.0\n",
       "1    3.0     MB0005      1.0\n",
       "2    3.0     MB0201      1.0\n",
       "3    3.0     MB0005      1.0\n",
       "4    3.0     MB0005      1.0"
      ]
     },
     "execution_count": 72,
     "metadata": {},
     "output_type": "execute_result"
    }
   ],
   "source": [
    "print(\"State of data before processing columns from Cycle to Val Cnt:\")\n",
    "df_clean.iloc[:, 12:].head()"
   ]
  },
  {
   "cell_type": "markdown",
   "metadata": {
    "id": "RQBY7euqX4EV"
   },
   "source": [
    "From the table above it is clear that only meter book seem to need further processing since we need to encode this variable. In the next cell we remove all the meter book values with null values."
   ]
  },
  {
   "cell_type": "code",
   "execution_count": 73,
   "metadata": {
    "id": "RLnbQD1nCIrV"
   },
   "outputs": [],
   "source": [
    "##Cleaning the meter book column\n",
    "#Getting the unique element\n",
    "#Removing the rows where meter book is Nan\n",
    "df_clean = df_clean[df_clean['Meter Book'].notna()]\n",
    "\n",
    "meter_list = list(set(df_clean['Meter Book']))"
   ]
  },
  {
   "cell_type": "markdown",
   "metadata": {
    "id": "HBzuRUvGX4EW"
   },
   "source": [
    "Since all null values for meter book, we are ready to clean this variable. In the next few cells we encode this feature."
   ]
  },
  {
   "cell_type": "code",
   "execution_count": 74,
   "metadata": {
    "id": "kIcMg2SsCIrV"
   },
   "outputs": [],
   "source": [
    "#encoding meter book\n",
    "meter_dic = {}\n",
    "for i in meter_list:\n",
    "    if type(i) is not int:\n",
    "            meter_dic[i] = i"
   ]
  },
  {
   "cell_type": "code",
   "execution_count": 75,
   "metadata": {
    "id": "VwVuiI9ICIrW"
   },
   "outputs": [],
   "source": [
    "#Checks if the key is in the dictionary\n",
    "def check_key(dic, key):\n",
    "    if key in dic.keys():\n",
    "        return True\n",
    "    return False\n",
    "\n",
    "#Used to discard all the meters that do not have values in them\n",
    "def check_num(meter):\n",
    "    return any(char.isdigit() for char in meter)\n",
    "\n",
    "def cleanup_meter(meter):\n",
    "    meter = str(meter)\n",
    "    if check_num(meter) is False:\n",
    "        return float('Nan')\n",
    "    if check_key(meter_dic, meter):\n",
    "        return meter\n",
    "    #if it is not there we will encode it, else it is not available\n",
    "    if check_num(meter):\n",
    "#        meter = int(meter)\n",
    "        l =4 - len(str(meter))  #Getting the number of values to add after the\n",
    "        s = 'MB' + meter.zfill(l)\n",
    "        return s"
   ]
  },
  {
   "cell_type": "code",
   "execution_count": 76,
   "metadata": {
    "id": "uuqSwymECIrX"
   },
   "outputs": [],
   "source": [
    "##Apply the cleanup function to the meter book column\n",
    "df_clean['Meter Book'] = df_clean['Meter Book'].apply(cleanup_meter)\n",
    "##Remove the Nan rows as they are the uncleanable data points\n",
    "df_clean = df_clean[df_clean['Meter Book'].notna()]"
   ]
  },
  {
   "cell_type": "code",
   "execution_count": 77,
   "metadata": {
    "colab": {
     "base_uri": "https://localhost:8080/",
     "height": 411
    },
    "id": "d9vpEs6QCIrX",
    "outputId": "e8f184ff-be59-4b8a-d70f-95b595a91ed5"
   },
   "outputs": [
    {
     "data": {
      "text/html": [
       "<div>\n",
       "<style scoped>\n",
       "    .dataframe tbody tr th:only-of-type {\n",
       "        vertical-align: middle;\n",
       "    }\n",
       "\n",
       "    .dataframe tbody tr th {\n",
       "        vertical-align: top;\n",
       "    }\n",
       "\n",
       "    .dataframe thead th {\n",
       "        text-align: right;\n",
       "    }\n",
       "</style>\n",
       "<table border=\"1\" class=\"dataframe\">\n",
       "  <thead>\n",
       "    <tr style=\"text-align: right;\">\n",
       "      <th></th>\n",
       "      <th>Township</th>\n",
       "      <th>Owner Name</th>\n",
       "      <th>Prop Category</th>\n",
       "      <th>Physical Addr</th>\n",
       "      <th>Size</th>\n",
       "      <th>MarketValue</th>\n",
       "      <th>Supp RollNo</th>\n",
       "      <th>Effect Date</th>\n",
       "      <th>Zone Code</th>\n",
       "      <th>Usage Code</th>\n",
       "      <th>Valuation Type</th>\n",
       "      <th>Ward</th>\n",
       "      <th>Cycle</th>\n",
       "      <th>Meter Book</th>\n",
       "      <th>Val Cnt</th>\n",
       "    </tr>\n",
       "  </thead>\n",
       "  <tbody>\n",
       "    <tr>\n",
       "      <th>0</th>\n",
       "      <td>NELSPRUIT TOWN</td>\n",
       "      <td>NELSPRUIT HARDWARE</td>\n",
       "      <td>1</td>\n",
       "      <td>1</td>\n",
       "      <td>862.0</td>\n",
       "      <td>2900000.0</td>\n",
       "      <td>4.0</td>\n",
       "      <td>2009-08-05</td>\n",
       "      <td>1</td>\n",
       "      <td>1</td>\n",
       "      <td>1</td>\n",
       "      <td>14.0</td>\n",
       "      <td>3.0</td>\n",
       "      <td>MB0201</td>\n",
       "      <td>1.0</td>\n",
       "    </tr>\n",
       "    <tr>\n",
       "      <th>1</th>\n",
       "      <td>NELSPRUIT TOWN</td>\n",
       "      <td>MINTY IE &amp; SONS PTY LTD</td>\n",
       "      <td>1</td>\n",
       "      <td>2</td>\n",
       "      <td>625.0</td>\n",
       "      <td>1700000.0</td>\n",
       "      <td>1.0</td>\n",
       "      <td>2009-07-01</td>\n",
       "      <td>1</td>\n",
       "      <td>1</td>\n",
       "      <td>2</td>\n",
       "      <td>14.0</td>\n",
       "      <td>3.0</td>\n",
       "      <td>MB0005</td>\n",
       "      <td>1.0</td>\n",
       "    </tr>\n",
       "    <tr>\n",
       "      <th>2</th>\n",
       "      <td>NELSPRUIT TOWN</td>\n",
       "      <td>MINTYS UNIVERSAL STORES LTD</td>\n",
       "      <td>1</td>\n",
       "      <td>3</td>\n",
       "      <td>1487.0</td>\n",
       "      <td>6200000.0</td>\n",
       "      <td>4.0</td>\n",
       "      <td>2009-08-05</td>\n",
       "      <td>1</td>\n",
       "      <td>1</td>\n",
       "      <td>1</td>\n",
       "      <td>14.0</td>\n",
       "      <td>3.0</td>\n",
       "      <td>MB0201</td>\n",
       "      <td>1.0</td>\n",
       "    </tr>\n",
       "    <tr>\n",
       "      <th>3</th>\n",
       "      <td>NELSPRUIT TOWN</td>\n",
       "      <td>LOWMIN PROPERTIES (PTY) LTD</td>\n",
       "      <td>1</td>\n",
       "      <td>2</td>\n",
       "      <td>1487.0</td>\n",
       "      <td>7300000.0</td>\n",
       "      <td>4.0</td>\n",
       "      <td>2009-08-05</td>\n",
       "      <td>1</td>\n",
       "      <td>1</td>\n",
       "      <td>1</td>\n",
       "      <td>14.0</td>\n",
       "      <td>3.0</td>\n",
       "      <td>MB0005</td>\n",
       "      <td>1.0</td>\n",
       "    </tr>\n",
       "    <tr>\n",
       "      <th>4</th>\n",
       "      <td>NELSPRUIT TOWN</td>\n",
       "      <td>NELMIN ERF 4 PROPERTIES (PTY) LTD</td>\n",
       "      <td>1</td>\n",
       "      <td>2</td>\n",
       "      <td>1487.0</td>\n",
       "      <td>4500000.0</td>\n",
       "      <td>6.0</td>\n",
       "      <td>2010-01-25</td>\n",
       "      <td>1</td>\n",
       "      <td>1</td>\n",
       "      <td>1</td>\n",
       "      <td>14.0</td>\n",
       "      <td>3.0</td>\n",
       "      <td>MB0005</td>\n",
       "      <td>1.0</td>\n",
       "    </tr>\n",
       "  </tbody>\n",
       "</table>\n",
       "</div>"
      ],
      "text/plain": [
       "         Township                         Owner Name Prop Category  \\\n",
       "0  NELSPRUIT TOWN                 NELSPRUIT HARDWARE             1   \n",
       "1  NELSPRUIT TOWN            MINTY IE & SONS PTY LTD             1   \n",
       "2  NELSPRUIT TOWN        MINTYS UNIVERSAL STORES LTD             1   \n",
       "3  NELSPRUIT TOWN        LOWMIN PROPERTIES (PTY) LTD             1   \n",
       "4  NELSPRUIT TOWN  NELMIN ERF 4 PROPERTIES (PTY) LTD             1   \n",
       "\n",
       "   Physical Addr    Size  MarketValue  Supp RollNo Effect Date  Zone Code  \\\n",
       "0              1   862.0    2900000.0          4.0  2009-08-05          1   \n",
       "1              2   625.0    1700000.0          1.0  2009-07-01          1   \n",
       "2              3  1487.0    6200000.0          4.0  2009-08-05          1   \n",
       "3              2  1487.0    7300000.0          4.0  2009-08-05          1   \n",
       "4              2  1487.0    4500000.0          6.0  2010-01-25          1   \n",
       "\n",
       "   Usage Code  Valuation Type  Ward  Cycle Meter Book  Val Cnt  \n",
       "0           1               1  14.0    3.0     MB0201      1.0  \n",
       "1           1               2  14.0    3.0     MB0005      1.0  \n",
       "2           1               1  14.0    3.0     MB0201      1.0  \n",
       "3           1               1  14.0    3.0     MB0005      1.0  \n",
       "4           1               1  14.0    3.0     MB0005      1.0  "
      ]
     },
     "execution_count": 77,
     "metadata": {},
     "output_type": "execute_result"
    }
   ],
   "source": [
    "##Updated clean dataframe\n",
    "df_clean.head(5)"
   ]
  },
  {
   "cell_type": "markdown",
   "metadata": {
    "id": "8DknWXALX4EX"
   },
   "source": [
    "#### <b> Summary: </b>\n",
    "\n",
    "In this section we removed the features that we had no intuitive reason for believing that they influenced the market value, the features had a lot of missing value or  the features were redundant since their information was already captured by another features. We then proceeded and encoded some of the attributes' values using different encoding schemes.In the next section we explore the dataset using several statistics. We hope to gain more insights about the datase by identifying relationships between features, identifying outliers and identify inconsistencies. We will use these insights to modify the dataset accordingly. \n"
   ]
  },
  {
   "cell_type": "markdown",
   "metadata": {},
   "source": [
    "<a id='Analysis'></a>"
   ]
  },
  {
   "cell_type": "markdown",
   "metadata": {
    "id": "7IBfzZC1CIrY"
   },
   "source": [
    "# <b> Exploratory Data Analysis: </b>\n",
    "\n",
    "<blockquote>\n",
    "</blockquote>"
   ]
  },
  {
   "cell_type": "markdown",
   "metadata": {
    "id": "5DL_bDdFX4EY"
   },
   "source": [
    "In this section, we will perform a detailed analysis of the dataset remaining from the data wrangling process we performed above. We hope to identify statistics like outliers, correlations among features et cetera. We will use these statistics to inform our decisions on how to modify the dataset and its eventual use in developing the linear regression model. "
   ]
  },
  {
   "cell_type": "markdown",
   "metadata": {
    "id": "ekqf-jMkCIra"
   },
   "source": [
    "### <b> Data Shape: </b>"
   ]
  },
  {
   "cell_type": "code",
   "execution_count": 78,
   "metadata": {
    "colab": {
     "base_uri": "https://localhost:8080/"
    },
    "id": "H8rfzw_pCIrb",
    "outputId": "c0cb215c-7cfa-4f16-d3bf-4aabad04d507"
   },
   "outputs": [
    {
     "data": {
      "text/plain": [
       "(52400, 15)"
      ]
     },
     "execution_count": 78,
     "metadata": {},
     "output_type": "execute_result"
    }
   ],
   "source": [
    "df_clean.shape"
   ]
  },
  {
   "cell_type": "markdown",
   "metadata": {},
   "source": [
    "The dataset has 52 400 entries and 15 columns."
   ]
  },
  {
   "cell_type": "markdown",
   "metadata": {
    "id": "6IV1slwCa7S6"
   },
   "source": [
    "### <b> Data: </b>"
   ]
  },
  {
   "cell_type": "code",
   "execution_count": 79,
   "metadata": {
    "id": "ZT4ETBFla36N"
   },
   "outputs": [
    {
     "data": {
      "text/html": [
       "<div>\n",
       "<style scoped>\n",
       "    .dataframe tbody tr th:only-of-type {\n",
       "        vertical-align: middle;\n",
       "    }\n",
       "\n",
       "    .dataframe tbody tr th {\n",
       "        vertical-align: top;\n",
       "    }\n",
       "\n",
       "    .dataframe thead th {\n",
       "        text-align: right;\n",
       "    }\n",
       "</style>\n",
       "<table border=\"1\" class=\"dataframe\">\n",
       "  <thead>\n",
       "    <tr style=\"text-align: right;\">\n",
       "      <th></th>\n",
       "      <th>Township</th>\n",
       "      <th>Owner Name</th>\n",
       "      <th>Prop Category</th>\n",
       "      <th>Physical Addr</th>\n",
       "      <th>Size</th>\n",
       "      <th>MarketValue</th>\n",
       "      <th>Supp RollNo</th>\n",
       "      <th>Effect Date</th>\n",
       "      <th>Zone Code</th>\n",
       "      <th>Usage Code</th>\n",
       "      <th>Valuation Type</th>\n",
       "      <th>Ward</th>\n",
       "      <th>Cycle</th>\n",
       "      <th>Meter Book</th>\n",
       "      <th>Val Cnt</th>\n",
       "    </tr>\n",
       "  </thead>\n",
       "  <tbody>\n",
       "    <tr>\n",
       "      <th>0</th>\n",
       "      <td>NELSPRUIT TOWN</td>\n",
       "      <td>NELSPRUIT HARDWARE</td>\n",
       "      <td>1</td>\n",
       "      <td>1</td>\n",
       "      <td>862.0</td>\n",
       "      <td>2900000.0</td>\n",
       "      <td>4.0</td>\n",
       "      <td>2009-08-05</td>\n",
       "      <td>1</td>\n",
       "      <td>1</td>\n",
       "      <td>1</td>\n",
       "      <td>14.0</td>\n",
       "      <td>3.0</td>\n",
       "      <td>MB0201</td>\n",
       "      <td>1.0</td>\n",
       "    </tr>\n",
       "    <tr>\n",
       "      <th>1</th>\n",
       "      <td>NELSPRUIT TOWN</td>\n",
       "      <td>MINTY IE &amp; SONS PTY LTD</td>\n",
       "      <td>1</td>\n",
       "      <td>2</td>\n",
       "      <td>625.0</td>\n",
       "      <td>1700000.0</td>\n",
       "      <td>1.0</td>\n",
       "      <td>2009-07-01</td>\n",
       "      <td>1</td>\n",
       "      <td>1</td>\n",
       "      <td>2</td>\n",
       "      <td>14.0</td>\n",
       "      <td>3.0</td>\n",
       "      <td>MB0005</td>\n",
       "      <td>1.0</td>\n",
       "    </tr>\n",
       "    <tr>\n",
       "      <th>2</th>\n",
       "      <td>NELSPRUIT TOWN</td>\n",
       "      <td>MINTYS UNIVERSAL STORES LTD</td>\n",
       "      <td>1</td>\n",
       "      <td>3</td>\n",
       "      <td>1487.0</td>\n",
       "      <td>6200000.0</td>\n",
       "      <td>4.0</td>\n",
       "      <td>2009-08-05</td>\n",
       "      <td>1</td>\n",
       "      <td>1</td>\n",
       "      <td>1</td>\n",
       "      <td>14.0</td>\n",
       "      <td>3.0</td>\n",
       "      <td>MB0201</td>\n",
       "      <td>1.0</td>\n",
       "    </tr>\n",
       "    <tr>\n",
       "      <th>3</th>\n",
       "      <td>NELSPRUIT TOWN</td>\n",
       "      <td>LOWMIN PROPERTIES (PTY) LTD</td>\n",
       "      <td>1</td>\n",
       "      <td>2</td>\n",
       "      <td>1487.0</td>\n",
       "      <td>7300000.0</td>\n",
       "      <td>4.0</td>\n",
       "      <td>2009-08-05</td>\n",
       "      <td>1</td>\n",
       "      <td>1</td>\n",
       "      <td>1</td>\n",
       "      <td>14.0</td>\n",
       "      <td>3.0</td>\n",
       "      <td>MB0005</td>\n",
       "      <td>1.0</td>\n",
       "    </tr>\n",
       "    <tr>\n",
       "      <th>4</th>\n",
       "      <td>NELSPRUIT TOWN</td>\n",
       "      <td>NELMIN ERF 4 PROPERTIES (PTY) LTD</td>\n",
       "      <td>1</td>\n",
       "      <td>2</td>\n",
       "      <td>1487.0</td>\n",
       "      <td>4500000.0</td>\n",
       "      <td>6.0</td>\n",
       "      <td>2010-01-25</td>\n",
       "      <td>1</td>\n",
       "      <td>1</td>\n",
       "      <td>1</td>\n",
       "      <td>14.0</td>\n",
       "      <td>3.0</td>\n",
       "      <td>MB0005</td>\n",
       "      <td>1.0</td>\n",
       "    </tr>\n",
       "  </tbody>\n",
       "</table>\n",
       "</div>"
      ],
      "text/plain": [
       "         Township                         Owner Name Prop Category  \\\n",
       "0  NELSPRUIT TOWN                 NELSPRUIT HARDWARE             1   \n",
       "1  NELSPRUIT TOWN            MINTY IE & SONS PTY LTD             1   \n",
       "2  NELSPRUIT TOWN        MINTYS UNIVERSAL STORES LTD             1   \n",
       "3  NELSPRUIT TOWN        LOWMIN PROPERTIES (PTY) LTD             1   \n",
       "4  NELSPRUIT TOWN  NELMIN ERF 4 PROPERTIES (PTY) LTD             1   \n",
       "\n",
       "   Physical Addr    Size  MarketValue  Supp RollNo Effect Date  Zone Code  \\\n",
       "0              1   862.0    2900000.0          4.0  2009-08-05          1   \n",
       "1              2   625.0    1700000.0          1.0  2009-07-01          1   \n",
       "2              3  1487.0    6200000.0          4.0  2009-08-05          1   \n",
       "3              2  1487.0    7300000.0          4.0  2009-08-05          1   \n",
       "4              2  1487.0    4500000.0          6.0  2010-01-25          1   \n",
       "\n",
       "   Usage Code  Valuation Type  Ward  Cycle Meter Book  Val Cnt  \n",
       "0           1               1  14.0    3.0     MB0201      1.0  \n",
       "1           1               2  14.0    3.0     MB0005      1.0  \n",
       "2           1               1  14.0    3.0     MB0201      1.0  \n",
       "3           1               1  14.0    3.0     MB0005      1.0  \n",
       "4           1               1  14.0    3.0     MB0005      1.0  "
      ]
     },
     "execution_count": 79,
     "metadata": {},
     "output_type": "execute_result"
    }
   ],
   "source": [
    "df_clean.head()"
   ]
  },
  {
   "cell_type": "markdown",
   "metadata": {},
   "source": [
    "The table above shows the first five data points of our dataset. It depicts the different columns of the remaining data points and some of the values these columns can take."
   ]
  },
  {
   "cell_type": "markdown",
   "metadata": {
    "id": "i8lS-GBxbDHq"
   },
   "source": [
    "### <b> Features:</b>"
   ]
  },
  {
   "cell_type": "code",
   "execution_count": 80,
   "metadata": {
    "id": "kitHwDrjbBsn"
   },
   "outputs": [
    {
     "name": "stdout",
     "output_type": "stream",
     "text": [
      "<class 'pandas.core.frame.DataFrame'>\n",
      "Int64Index: 52400 entries, 0 to 57251\n",
      "Data columns (total 15 columns):\n",
      " #   Column          Non-Null Count  Dtype         \n",
      "---  ------          --------------  -----         \n",
      " 0   Township        52400 non-null  object        \n",
      " 1   Owner Name      52400 non-null  object        \n",
      " 2   Prop Category   52400 non-null  object        \n",
      " 3   Physical Addr   52400 non-null  int64         \n",
      " 4   Size            52400 non-null  float64       \n",
      " 5   MarketValue     52400 non-null  float64       \n",
      " 6   Supp RollNo     52400 non-null  float64       \n",
      " 7   Effect Date     52400 non-null  datetime64[ns]\n",
      " 8   Zone Code       52400 non-null  int64         \n",
      " 9   Usage Code      52400 non-null  int64         \n",
      " 10  Valuation Type  52400 non-null  int64         \n",
      " 11  Ward            52400 non-null  float64       \n",
      " 12  Cycle           52400 non-null  float64       \n",
      " 13  Meter Book      52400 non-null  object        \n",
      " 14  Val Cnt         52400 non-null  float64       \n",
      "dtypes: datetime64[ns](1), float64(6), int64(4), object(4)\n",
      "memory usage: 6.4+ MB\n"
     ]
    }
   ],
   "source": [
    "df_clean.info()"
   ]
  },
  {
   "cell_type": "markdown",
   "metadata": {},
   "source": [
    "The output shown above shows the different features of the dataset and their individual data types.\n",
    "It is also evident that none of the features contains null values. We have four features data are that floats, six features that are integers, four features that are objects, and one feature that is a datetime."
   ]
  },
  {
   "cell_type": "markdown",
   "metadata": {
    "id": "9_dzf2IebYwX"
   },
   "source": [
    "### <b> Unique of feature values: </b>"
   ]
  },
  {
   "cell_type": "code",
   "execution_count": 81,
   "metadata": {
    "id": "pVjUE7ClbRY2"
   },
   "outputs": [
    {
     "data": {
      "text/plain": [
       "Township            725\n",
       "Owner Name        29959\n",
       "Prop Category         9\n",
       "Physical Addr      1124\n",
       "Size               7766\n",
       "MarketValue        1264\n",
       "Supp RollNo           6\n",
       "Effect Date           6\n",
       "Zone Code            32\n",
       "Usage Code           52\n",
       "Valuation Type        2\n",
       "Ward                 26\n",
       "Cycle                12\n",
       "Meter Book          211\n",
       "Val Cnt               4\n",
       "dtype: int64"
      ]
     },
     "execution_count": 81,
     "metadata": {},
     "output_type": "execute_result"
    }
   ],
   "source": [
    "df_clean.nunique(axis = 0)"
   ]
  },
  {
   "cell_type": "markdown",
   "metadata": {},
   "source": [
    "In the above output we show the count of unique values in each feature."
   ]
  },
  {
   "cell_type": "markdown",
   "metadata": {
    "id": "_pg8i9IQbwRg"
   },
   "source": [
    "### <b> Data description: </b>"
   ]
  },
  {
   "cell_type": "code",
   "execution_count": 82,
   "metadata": {
    "id": "y5592v8dbvnx"
   },
   "outputs": [
    {
     "name": "stdout",
     "output_type": "stream",
     "text": [
      "Table showing the data description of current state of the dataset:\n"
     ]
    },
    {
     "data": {
      "text/html": [
       "<div>\n",
       "<style scoped>\n",
       "    .dataframe tbody tr th:only-of-type {\n",
       "        vertical-align: middle;\n",
       "    }\n",
       "\n",
       "    .dataframe tbody tr th {\n",
       "        vertical-align: top;\n",
       "    }\n",
       "\n",
       "    .dataframe thead th {\n",
       "        text-align: right;\n",
       "    }\n",
       "</style>\n",
       "<table border=\"1\" class=\"dataframe\">\n",
       "  <thead>\n",
       "    <tr style=\"text-align: right;\">\n",
       "      <th></th>\n",
       "      <th>Physical Addr</th>\n",
       "      <th>Size</th>\n",
       "      <th>MarketValue</th>\n",
       "      <th>Supp RollNo</th>\n",
       "      <th>Zone Code</th>\n",
       "      <th>Usage Code</th>\n",
       "      <th>Valuation Type</th>\n",
       "      <th>Ward</th>\n",
       "      <th>Cycle</th>\n",
       "      <th>Val Cnt</th>\n",
       "    </tr>\n",
       "  </thead>\n",
       "  <tbody>\n",
       "    <tr>\n",
       "      <th>count</th>\n",
       "      <td>52400.000000</td>\n",
       "      <td>5.240000e+04</td>\n",
       "      <td>5.240000e+04</td>\n",
       "      <td>52400.000000</td>\n",
       "      <td>52400.000000</td>\n",
       "      <td>52400.000000</td>\n",
       "      <td>52400.000000</td>\n",
       "      <td>52400.000000</td>\n",
       "      <td>52400.000000</td>\n",
       "      <td>52400.000000</td>\n",
       "    </tr>\n",
       "    <tr>\n",
       "      <th>mean</th>\n",
       "      <td>707.898531</td>\n",
       "      <td>5.402959e+04</td>\n",
       "      <td>6.938966e+05</td>\n",
       "      <td>1.425305</td>\n",
       "      <td>10.506336</td>\n",
       "      <td>12.137309</td>\n",
       "      <td>1.803359</td>\n",
       "      <td>21.854733</td>\n",
       "      <td>20.009618</td>\n",
       "      <td>1.000992</td>\n",
       "    </tr>\n",
       "    <tr>\n",
       "      <th>std</th>\n",
       "      <td>362.003269</td>\n",
       "      <td>8.571324e+05</td>\n",
       "      <td>3.874091e+06</td>\n",
       "      <td>1.020502</td>\n",
       "      <td>4.305066</td>\n",
       "      <td>6.932033</td>\n",
       "      <td>0.397463</td>\n",
       "      <td>44.594991</td>\n",
       "      <td>16.919328</td>\n",
       "      <td>0.042343</td>\n",
       "    </tr>\n",
       "    <tr>\n",
       "      <th>min</th>\n",
       "      <td>1.000000</td>\n",
       "      <td>0.000000e+00</td>\n",
       "      <td>0.000000e+00</td>\n",
       "      <td>1.000000</td>\n",
       "      <td>1.000000</td>\n",
       "      <td>1.000000</td>\n",
       "      <td>1.000000</td>\n",
       "      <td>0.000000</td>\n",
       "      <td>0.000000</td>\n",
       "      <td>1.000000</td>\n",
       "    </tr>\n",
       "    <tr>\n",
       "      <th>25%</th>\n",
       "      <td>462.000000</td>\n",
       "      <td>3.380000e+02</td>\n",
       "      <td>5.800000e+04</td>\n",
       "      <td>1.000000</td>\n",
       "      <td>9.000000</td>\n",
       "      <td>9.000000</td>\n",
       "      <td>2.000000</td>\n",
       "      <td>15.000000</td>\n",
       "      <td>1.000000</td>\n",
       "      <td>1.000000</td>\n",
       "    </tr>\n",
       "    <tr>\n",
       "      <th>50%</th>\n",
       "      <td>673.000000</td>\n",
       "      <td>5.400000e+02</td>\n",
       "      <td>3.000000e+05</td>\n",
       "      <td>1.000000</td>\n",
       "      <td>9.000000</td>\n",
       "      <td>9.000000</td>\n",
       "      <td>2.000000</td>\n",
       "      <td>18.000000</td>\n",
       "      <td>20.000000</td>\n",
       "      <td>1.000000</td>\n",
       "    </tr>\n",
       "    <tr>\n",
       "      <th>75%</th>\n",
       "      <td>1062.000000</td>\n",
       "      <td>1.092000e+03</td>\n",
       "      <td>7.400000e+05</td>\n",
       "      <td>1.000000</td>\n",
       "      <td>9.000000</td>\n",
       "      <td>15.000000</td>\n",
       "      <td>2.000000</td>\n",
       "      <td>28.000000</td>\n",
       "      <td>40.000000</td>\n",
       "      <td>1.000000</td>\n",
       "    </tr>\n",
       "    <tr>\n",
       "      <th>max</th>\n",
       "      <td>1139.000000</td>\n",
       "      <td>9.327444e+07</td>\n",
       "      <td>6.600000e+08</td>\n",
       "      <td>6.000000</td>\n",
       "      <td>33.000000</td>\n",
       "      <td>55.000000</td>\n",
       "      <td>2.000000</td>\n",
       "      <td>999.000000</td>\n",
       "      <td>60.000000</td>\n",
       "      <td>4.000000</td>\n",
       "    </tr>\n",
       "  </tbody>\n",
       "</table>\n",
       "</div>"
      ],
      "text/plain": [
       "       Physical Addr          Size   MarketValue   Supp RollNo     Zone Code  \\\n",
       "count   52400.000000  5.240000e+04  5.240000e+04  52400.000000  52400.000000   \n",
       "mean      707.898531  5.402959e+04  6.938966e+05      1.425305     10.506336   \n",
       "std       362.003269  8.571324e+05  3.874091e+06      1.020502      4.305066   \n",
       "min         1.000000  0.000000e+00  0.000000e+00      1.000000      1.000000   \n",
       "25%       462.000000  3.380000e+02  5.800000e+04      1.000000      9.000000   \n",
       "50%       673.000000  5.400000e+02  3.000000e+05      1.000000      9.000000   \n",
       "75%      1062.000000  1.092000e+03  7.400000e+05      1.000000      9.000000   \n",
       "max      1139.000000  9.327444e+07  6.600000e+08      6.000000     33.000000   \n",
       "\n",
       "         Usage Code  Valuation Type          Ward         Cycle       Val Cnt  \n",
       "count  52400.000000    52400.000000  52400.000000  52400.000000  52400.000000  \n",
       "mean      12.137309        1.803359     21.854733     20.009618      1.000992  \n",
       "std        6.932033        0.397463     44.594991     16.919328      0.042343  \n",
       "min        1.000000        1.000000      0.000000      0.000000      1.000000  \n",
       "25%        9.000000        2.000000     15.000000      1.000000      1.000000  \n",
       "50%        9.000000        2.000000     18.000000     20.000000      1.000000  \n",
       "75%       15.000000        2.000000     28.000000     40.000000      1.000000  \n",
       "max       55.000000        2.000000    999.000000     60.000000      4.000000  "
      ]
     },
     "execution_count": 82,
     "metadata": {},
     "output_type": "execute_result"
    }
   ],
   "source": [
    "print(\"Table showing the data description of current state of the dataset:\")\n",
    "df_clean.describe()"
   ]
  },
  {
   "cell_type": "markdown",
   "metadata": {},
   "source": [
    "#### Main take points from the table above:\n",
    "- There is at least one property with a market value of zero rand.\n",
    "- There is at least one property with a zero squared meter size. \n",
    "- These values are unrealistic, therefore these must be outliers. \n",
    "- The maximum value of the properties is R 660 000 000. \n",
    "- At most 75% of the properties are valued below R 740 000. \n",
    "- The maximum size of the properties is 93274400 squared meters. \n",
    "- The properties have been evaluated at least once.\n",
    "- There is at least one property that has been evaluated 4 times."
   ]
  },
  {
   "cell_type": "markdown",
   "metadata": {},
   "source": [
    "### <b> Target Variable : Market Value </b>"
   ]
  },
  {
   "cell_type": "code",
   "execution_count": 83,
   "metadata": {},
   "outputs": [
    {
     "name": "stdout",
     "output_type": "stream",
     "text": [
      "The unique values of market values are : [0.00e+00 1.00e+00 5.00e+02 ... 1.05e+08 3.30e+08 6.60e+08]\n",
      "The minimum market value is R 0.0\n",
      "The maximum market value is R 660000000.0\n"
     ]
    }
   ],
   "source": [
    "market_value_unique_values = df_clean.MarketValue.unique()\n",
    "market_value_unique_values.sort()\n",
    "market_value_min = df_clean.MarketValue.min()\n",
    "market_value_max = df_clean.MarketValue.max()\n",
    "print(\"The unique values of market values are :\",market_value_unique_values)\n",
    "print('The minimum market value is R' , market_value_min)\n",
    "print('The maximum market value is R' , market_value_max)"
   ]
  },
  {
   "cell_type": "markdown",
   "metadata": {},
   "source": [
    "The market value which is our target variable of the study is a continuous variable. The values of the target variable range from R 0.00 to R 660000000.00. Again, the lower bound of this range is unrealistic as mentioned above."
   ]
  },
  {
   "cell_type": "markdown",
   "metadata": {},
   "source": [
    "#### <b> Distribution of market value: </b>"
   ]
  },
  {
   "cell_type": "code",
   "execution_count": 84,
   "metadata": {},
   "outputs": [
    {
     "data": {
      "text/plain": [
       "20000.0       1746\n",
       "40000.0       1280\n",
       "1.0           1106\n",
       "25000.0        883\n",
       "15000.0        882\n",
       "              ... \n",
       "813000.0         1\n",
       "4720000.0        1\n",
       "10100000.0       1\n",
       "964000.0         1\n",
       "1304550.0        1\n",
       "Name: MarketValue, Length: 1264, dtype: int64"
      ]
     },
     "execution_count": 84,
     "metadata": {},
     "output_type": "execute_result"
    }
   ],
   "source": [
    "# getting the distribution of the market values\n",
    "df_clean.MarketValue.value_counts()"
   ]
  },
  {
   "cell_type": "code",
   "execution_count": 85,
   "metadata": {},
   "outputs": [
    {
     "name": "stdout",
     "output_type": "stream",
     "text": [
      "The average market value is R 693896.6402671756\n",
      "The most frequent market value is R 20000.0\n",
      "The median_market_val is R 300000.0\n"
     ]
    }
   ],
   "source": [
    "# calculating the mean, mode, median of market value\n",
    "mean_market_val = np.mean(df_clean['MarketValue'])\n",
    "mode_market_val = ss.mode(df_clean['MarketValue'])\n",
    "median_market_val = np.median(df_clean['MarketValue'])\n",
    "print(\"The average market value is R\", mean_market_val)\n",
    "print(\"The most frequent market value is R\", mode_market_val[0][0])\n",
    "print(\"The median_market_val is R\", median_market_val)"
   ]
  },
  {
   "cell_type": "markdown",
   "metadata": {},
   "source": [
    "#### The main take away point from the outputs of the last two cells:\n",
    "- R 40000.00 had the most value count. This means that this value of market value occurs more than the rest.\n",
    "- The average market value is R 693 896.64\n",
    "- The median market value is R 300 000.00\n",
    "- The market value of R1.00 was one of the market values with most counts. This is definitely an outlier. "
   ]
  },
  {
   "cell_type": "markdown",
   "metadata": {},
   "source": [
    "#### <b> Box plot of market value: </b>"
   ]
  },
  {
   "cell_type": "code",
   "execution_count": 86,
   "metadata": {},
   "outputs": [
    {
     "data": {
      "image/png": "[encoded data removed]",
      "text/plain": [
       "<Figure size 432x288 with 1 Axes>"
      ]
     },
     "metadata": {},
     "output_type": "display_data"
    }
   ],
   "source": [
    "sns.boxplot(x = df_clean['MarketValue'])\n",
    "plt.xlim(0, 0.026e8)\n",
    "plt.show()"
   ]
  },
  {
   "cell_type": "markdown",
   "metadata": {},
   "source": [
    "It is clear from the plot that values of market value greater than R $1.75x10^{6}$ are outliers. "
   ]
  },
  {
   "cell_type": "markdown",
   "metadata": {},
   "source": [
    "### <b> Outliers Removal: </b>"
   ]
  },
  {
   "cell_type": "markdown",
   "metadata": {
    "id": "fDtgCunzX4Ea"
   },
   "source": [
    "In the next cell, we remove the outliers we identified in the above table. We remove all properties with a market value less than R 27 500 and those greater than R $1.75x10^{6}$ (we concluded these were outliers above). We used one quarter of average price of a RDP house in South Africa as our lowest benchmark market value. The average market value of a RDP house is R110 000. We will proceed and  removed all properties with a size less than or equal to 73 squared meters since they are too small compared to the sizes of the other properties in the study and they are also far from the average property size in South Africa, standing at 146 $𝑚^{2}$ .\n",
    "<br>"
   ]
  },
  {
   "cell_type": "code",
   "execution_count": 87,
   "metadata": {
    "id": "tOkIMWHMX4Ea",
    "outputId": "9a7338dc-8784-4dff-ae07-d5c18bd55ac1"
   },
   "outputs": [],
   "source": [
    "# removing outliers based on Size and Market Value\n",
    "df_clean = df_clean[df_clean['Size'] > 73]\n",
    "df_clean = df_clean[df_clean['MarketValue'] > 27500]\n",
    "df_clean = df_clean[df_clean['MarketValue'] < 1.75e6]"
   ]
  },
  {
   "cell_type": "code",
   "execution_count": 88,
   "metadata": {
    "id": "pOxCoUDQX4Ef",
    "outputId": "f41c9546-9584-4d2e-f309-d0f9d5e94047"
   },
   "outputs": [
    {
     "name": "stdout",
     "output_type": "stream",
     "text": [
      "The box plot after removing outliers:\n"
     ]
    },
    {
     "data": {
      "text/plain": [
       "<AxesSubplot:xlabel='MarketValue'>"
      ]
     },
     "execution_count": 88,
     "metadata": {},
     "output_type": "execute_result"
    },
    {
     "data": {
      "image/png": "[encoded data removed]",
      "text/plain": [
       "<Figure size 432x288 with 1 Axes>"
      ]
     },
     "metadata": {},
     "output_type": "display_data"
    }
   ],
   "source": [
    "print('The box plot after removing outliers:')\n",
    "sns.boxplot(x = df_clean.MarketValue)"
   ]
  },
  {
   "cell_type": "markdown",
   "metadata": {},
   "source": [
    "The box plot above show the box plot after removal of outliers. It shows the distribution of market values that remains. The outliers now are no longer part of the distribution."
   ]
  },
  {
   "cell_type": "code",
   "execution_count": 89,
   "metadata": {
    "colab": {
     "base_uri": "https://localhost:8080/",
     "height": 334
    },
    "id": "1KbL8_JeCIrh",
    "outputId": "02a18de7-2a49-4591-df8f-5dadb6639fd9"
   },
   "outputs": [
    {
     "name": "stdout",
     "output_type": "stream",
     "text": [
      "Table showing the data description of current state of the dataset after removal of outliers:\n"
     ]
    },
    {
     "data": {
      "text/html": [
       "<div>\n",
       "<style scoped>\n",
       "    .dataframe tbody tr th:only-of-type {\n",
       "        vertical-align: middle;\n",
       "    }\n",
       "\n",
       "    .dataframe tbody tr th {\n",
       "        vertical-align: top;\n",
       "    }\n",
       "\n",
       "    .dataframe thead th {\n",
       "        text-align: right;\n",
       "    }\n",
       "</style>\n",
       "<table border=\"1\" class=\"dataframe\">\n",
       "  <thead>\n",
       "    <tr style=\"text-align: right;\">\n",
       "      <th></th>\n",
       "      <th>Physical Addr</th>\n",
       "      <th>Size</th>\n",
       "      <th>MarketValue</th>\n",
       "      <th>Supp RollNo</th>\n",
       "      <th>Zone Code</th>\n",
       "      <th>Usage Code</th>\n",
       "      <th>Valuation Type</th>\n",
       "      <th>Ward</th>\n",
       "      <th>Cycle</th>\n",
       "      <th>Val Cnt</th>\n",
       "    </tr>\n",
       "  </thead>\n",
       "  <tbody>\n",
       "    <tr>\n",
       "      <th>count</th>\n",
       "      <td>40087.000000</td>\n",
       "      <td>4.008700e+04</td>\n",
       "      <td>4.008700e+04</td>\n",
       "      <td>40087.000000</td>\n",
       "      <td>40087.000000</td>\n",
       "      <td>40087.000000</td>\n",
       "      <td>40087.000000</td>\n",
       "      <td>40087.000000</td>\n",
       "      <td>40087.000000</td>\n",
       "      <td>40087.000000</td>\n",
       "    </tr>\n",
       "    <tr>\n",
       "      <th>mean</th>\n",
       "      <td>732.355028</td>\n",
       "      <td>1.467291e+04</td>\n",
       "      <td>4.549158e+05</td>\n",
       "      <td>1.384139</td>\n",
       "      <td>10.169232</td>\n",
       "      <td>11.347270</td>\n",
       "      <td>1.809514</td>\n",
       "      <td>21.847457</td>\n",
       "      <td>19.165789</td>\n",
       "      <td>1.000524</td>\n",
       "    </tr>\n",
       "    <tr>\n",
       "      <th>std</th>\n",
       "      <td>361.721885</td>\n",
       "      <td>3.704654e+05</td>\n",
       "      <td>4.193890e+05</td>\n",
       "      <td>0.956282</td>\n",
       "      <td>3.663617</td>\n",
       "      <td>5.476667</td>\n",
       "      <td>0.392689</td>\n",
       "      <td>43.484967</td>\n",
       "      <td>16.971614</td>\n",
       "      <td>0.028687</td>\n",
       "    </tr>\n",
       "    <tr>\n",
       "      <th>min</th>\n",
       "      <td>1.000000</td>\n",
       "      <td>7.400000e+01</td>\n",
       "      <td>2.800000e+04</td>\n",
       "      <td>1.000000</td>\n",
       "      <td>1.000000</td>\n",
       "      <td>1.000000</td>\n",
       "      <td>1.000000</td>\n",
       "      <td>1.000000</td>\n",
       "      <td>0.000000</td>\n",
       "      <td>1.000000</td>\n",
       "    </tr>\n",
       "    <tr>\n",
       "      <th>25%</th>\n",
       "      <td>458.000000</td>\n",
       "      <td>3.440000e+02</td>\n",
       "      <td>8.800000e+04</td>\n",
       "      <td>1.000000</td>\n",
       "      <td>9.000000</td>\n",
       "      <td>9.000000</td>\n",
       "      <td>2.000000</td>\n",
       "      <td>15.000000</td>\n",
       "      <td>1.000000</td>\n",
       "      <td>1.000000</td>\n",
       "    </tr>\n",
       "    <tr>\n",
       "      <th>50%</th>\n",
       "      <td>727.000000</td>\n",
       "      <td>5.150000e+02</td>\n",
       "      <td>3.400000e+05</td>\n",
       "      <td>1.000000</td>\n",
       "      <td>9.000000</td>\n",
       "      <td>9.000000</td>\n",
       "      <td>2.000000</td>\n",
       "      <td>18.000000</td>\n",
       "      <td>20.000000</td>\n",
       "      <td>1.000000</td>\n",
       "    </tr>\n",
       "    <tr>\n",
       "      <th>75%</th>\n",
       "      <td>1062.000000</td>\n",
       "      <td>9.910000e+02</td>\n",
       "      <td>7.100000e+05</td>\n",
       "      <td>1.000000</td>\n",
       "      <td>9.000000</td>\n",
       "      <td>12.000000</td>\n",
       "      <td>2.000000</td>\n",
       "      <td>28.000000</td>\n",
       "      <td>30.000000</td>\n",
       "      <td>1.000000</td>\n",
       "    </tr>\n",
       "    <tr>\n",
       "      <th>max</th>\n",
       "      <td>1139.000000</td>\n",
       "      <td>5.718770e+07</td>\n",
       "      <td>1.745000e+06</td>\n",
       "      <td>6.000000</td>\n",
       "      <td>33.000000</td>\n",
       "      <td>54.000000</td>\n",
       "      <td>2.000000</td>\n",
       "      <td>999.000000</td>\n",
       "      <td>60.000000</td>\n",
       "      <td>3.000000</td>\n",
       "    </tr>\n",
       "  </tbody>\n",
       "</table>\n",
       "</div>"
      ],
      "text/plain": [
       "       Physical Addr          Size   MarketValue   Supp RollNo     Zone Code  \\\n",
       "count   40087.000000  4.008700e+04  4.008700e+04  40087.000000  40087.000000   \n",
       "mean      732.355028  1.467291e+04  4.549158e+05      1.384139     10.169232   \n",
       "std       361.721885  3.704654e+05  4.193890e+05      0.956282      3.663617   \n",
       "min         1.000000  7.400000e+01  2.800000e+04      1.000000      1.000000   \n",
       "25%       458.000000  3.440000e+02  8.800000e+04      1.000000      9.000000   \n",
       "50%       727.000000  5.150000e+02  3.400000e+05      1.000000      9.000000   \n",
       "75%      1062.000000  9.910000e+02  7.100000e+05      1.000000      9.000000   \n",
       "max      1139.000000  5.718770e+07  1.745000e+06      6.000000     33.000000   \n",
       "\n",
       "         Usage Code  Valuation Type          Ward         Cycle       Val Cnt  \n",
       "count  40087.000000    40087.000000  40087.000000  40087.000000  40087.000000  \n",
       "mean      11.347270        1.809514     21.847457     19.165789      1.000524  \n",
       "std        5.476667        0.392689     43.484967     16.971614      0.028687  \n",
       "min        1.000000        1.000000      1.000000      0.000000      1.000000  \n",
       "25%        9.000000        2.000000     15.000000      1.000000      1.000000  \n",
       "50%        9.000000        2.000000     18.000000     20.000000      1.000000  \n",
       "75%       12.000000        2.000000     28.000000     30.000000      1.000000  \n",
       "max       54.000000        2.000000    999.000000     60.000000      3.000000  "
      ]
     },
     "execution_count": 89,
     "metadata": {},
     "output_type": "execute_result"
    }
   ],
   "source": [
    "print(\"Table showing the data description of current state of the dataset after removal of outliers:\")\n",
    "df_clean.describe()"
   ]
  },
  {
   "cell_type": "markdown",
   "metadata": {},
   "source": [
    "The data description shown above refers to dataset without outliers. The problems we identified in the earlier have been rectified. The min value of both size and market value are now realistic. "
   ]
  },
  {
   "cell_type": "markdown",
   "metadata": {},
   "source": [
    "### <b> Identifying relationships between features: </b>"
   ]
  },
  {
   "cell_type": "markdown",
   "metadata": {
    "id": "xgh4v9u7CIrh"
   },
   "source": [
    "In the next cell, we make our predictive variable the first variable. Thus, the first column in the table makes it the focal point."
   ]
  },
  {
   "cell_type": "code",
   "execution_count": 90,
   "metadata": {
    "colab": {
     "base_uri": "https://localhost:8080/",
     "height": 199
    },
    "id": "tOcmxddMCIrh",
    "outputId": "a8ee1797-65e7-4591-bda1-a180c51d292f"
   },
   "outputs": [
    {
     "data": {
      "text/html": [
       "<div>\n",
       "<style scoped>\n",
       "    .dataframe tbody tr th:only-of-type {\n",
       "        vertical-align: middle;\n",
       "    }\n",
       "\n",
       "    .dataframe tbody tr th {\n",
       "        vertical-align: top;\n",
       "    }\n",
       "\n",
       "    .dataframe thead th {\n",
       "        text-align: right;\n",
       "    }\n",
       "</style>\n",
       "<table border=\"1\" class=\"dataframe\">\n",
       "  <thead>\n",
       "    <tr style=\"text-align: right;\">\n",
       "      <th></th>\n",
       "      <th>MarketValue</th>\n",
       "      <th>Township</th>\n",
       "      <th>Owner Name</th>\n",
       "      <th>Prop Category</th>\n",
       "      <th>Physical Addr</th>\n",
       "      <th>Size</th>\n",
       "      <th>Supp RollNo</th>\n",
       "      <th>Effect Date</th>\n",
       "      <th>Zone Code</th>\n",
       "      <th>Usage Code</th>\n",
       "      <th>Valuation Type</th>\n",
       "      <th>Ward</th>\n",
       "      <th>Cycle</th>\n",
       "      <th>Meter Book</th>\n",
       "      <th>Val Cnt</th>\n",
       "    </tr>\n",
       "  </thead>\n",
       "  <tbody>\n",
       "    <tr>\n",
       "      <th>1</th>\n",
       "      <td>1700000.0</td>\n",
       "      <td>NELSPRUIT TOWN</td>\n",
       "      <td>MINTY IE &amp; SONS PTY LTD</td>\n",
       "      <td>1</td>\n",
       "      <td>2</td>\n",
       "      <td>625.0</td>\n",
       "      <td>1.0</td>\n",
       "      <td>2009-07-01</td>\n",
       "      <td>1</td>\n",
       "      <td>1</td>\n",
       "      <td>2</td>\n",
       "      <td>14.0</td>\n",
       "      <td>3.0</td>\n",
       "      <td>MB0005</td>\n",
       "      <td>1.0</td>\n",
       "    </tr>\n",
       "    <tr>\n",
       "      <th>5</th>\n",
       "      <td>1700000.0</td>\n",
       "      <td>NELSPRUIT TOWN</td>\n",
       "      <td>PROPMAS INV CC</td>\n",
       "      <td>1</td>\n",
       "      <td>3</td>\n",
       "      <td>587.0</td>\n",
       "      <td>1.0</td>\n",
       "      <td>2009-07-01</td>\n",
       "      <td>1</td>\n",
       "      <td>1</td>\n",
       "      <td>2</td>\n",
       "      <td>14.0</td>\n",
       "      <td>3.0</td>\n",
       "      <td>MB0201</td>\n",
       "      <td>1.0</td>\n",
       "    </tr>\n",
       "  </tbody>\n",
       "</table>\n",
       "</div>"
      ],
      "text/plain": [
       "   MarketValue        Township               Owner Name Prop Category  \\\n",
       "1    1700000.0  NELSPRUIT TOWN  MINTY IE & SONS PTY LTD             1   \n",
       "5    1700000.0  NELSPRUIT TOWN           PROPMAS INV CC             1   \n",
       "\n",
       "   Physical Addr   Size  Supp RollNo Effect Date  Zone Code  Usage Code  \\\n",
       "1              2  625.0          1.0  2009-07-01          1           1   \n",
       "5              3  587.0          1.0  2009-07-01          1           1   \n",
       "\n",
       "   Valuation Type  Ward  Cycle Meter Book  Val Cnt  \n",
       "1               2  14.0    3.0     MB0005      1.0  \n",
       "5               2  14.0    3.0     MB0201      1.0  "
      ]
     },
     "execution_count": 90,
     "metadata": {},
     "output_type": "execute_result"
    }
   ],
   "source": [
    "# rearranging features and marking market value the first column\n",
    "df_clean = df_clean[['MarketValue'] + [col for col in df_clean.columns if col != 'MarketValue']]\n",
    "df_clean.head(2)"
   ]
  },
  {
   "cell_type": "markdown",
   "metadata": {
    "id": "-zkB-Uy8CIri"
   },
   "source": [
    "In the next cell, we encode the rest of the categorical variables. We do this to see how they correlate with the other variables. Most importantly, we do this to see how they correlate with the market value variable."
   ]
  },
  {
   "cell_type": "code",
   "execution_count": 91,
   "metadata": {
    "colab": {
     "base_uri": "https://localhost:8080/",
     "height": 241
    },
    "id": "PkNlLYSoCIri",
    "outputId": "c591eddf-fce7-4084-e3b7-7a3146e9c1bb"
   },
   "outputs": [
    {
     "name": "stdout",
     "output_type": "stream",
     "text": [
      "The dataset after encoding the remaining features:\n"
     ]
    },
    {
     "data": {
      "text/html": [
       "<div>\n",
       "<style scoped>\n",
       "    .dataframe tbody tr th:only-of-type {\n",
       "        vertical-align: middle;\n",
       "    }\n",
       "\n",
       "    .dataframe tbody tr th {\n",
       "        vertical-align: top;\n",
       "    }\n",
       "\n",
       "    .dataframe thead th {\n",
       "        text-align: right;\n",
       "    }\n",
       "</style>\n",
       "<table border=\"1\" class=\"dataframe\">\n",
       "  <thead>\n",
       "    <tr style=\"text-align: right;\">\n",
       "      <th></th>\n",
       "      <th>MarketValue</th>\n",
       "      <th>Township</th>\n",
       "      <th>Owner Name</th>\n",
       "      <th>Prop Category</th>\n",
       "      <th>Physical Addr</th>\n",
       "      <th>Size</th>\n",
       "      <th>Supp RollNo</th>\n",
       "      <th>Effect Date</th>\n",
       "      <th>Zone Code</th>\n",
       "      <th>Usage Code</th>\n",
       "      <th>Valuation Type</th>\n",
       "      <th>Ward</th>\n",
       "      <th>Cycle</th>\n",
       "      <th>Meter Book</th>\n",
       "      <th>Val Cnt</th>\n",
       "    </tr>\n",
       "  </thead>\n",
       "  <tbody>\n",
       "    <tr>\n",
       "      <th>1</th>\n",
       "      <td>1700000.0</td>\n",
       "      <td>1</td>\n",
       "      <td>1</td>\n",
       "      <td>1</td>\n",
       "      <td>2</td>\n",
       "      <td>625.0</td>\n",
       "      <td>1.0</td>\n",
       "      <td>1</td>\n",
       "      <td>1</td>\n",
       "      <td>1</td>\n",
       "      <td>2</td>\n",
       "      <td>14.0</td>\n",
       "      <td>3.0</td>\n",
       "      <td>1</td>\n",
       "      <td>1.0</td>\n",
       "    </tr>\n",
       "    <tr>\n",
       "      <th>5</th>\n",
       "      <td>1700000.0</td>\n",
       "      <td>1</td>\n",
       "      <td>2</td>\n",
       "      <td>1</td>\n",
       "      <td>3</td>\n",
       "      <td>587.0</td>\n",
       "      <td>1.0</td>\n",
       "      <td>1</td>\n",
       "      <td>1</td>\n",
       "      <td>1</td>\n",
       "      <td>2</td>\n",
       "      <td>14.0</td>\n",
       "      <td>3.0</td>\n",
       "      <td>2</td>\n",
       "      <td>1.0</td>\n",
       "    </tr>\n",
       "    <tr>\n",
       "      <th>8</th>\n",
       "      <td>1300000.0</td>\n",
       "      <td>1</td>\n",
       "      <td>3</td>\n",
       "      <td>1</td>\n",
       "      <td>3</td>\n",
       "      <td>1487.0</td>\n",
       "      <td>1.0</td>\n",
       "      <td>1</td>\n",
       "      <td>2</td>\n",
       "      <td>2</td>\n",
       "      <td>2</td>\n",
       "      <td>14.0</td>\n",
       "      <td>3.0</td>\n",
       "      <td>3</td>\n",
       "      <td>1.0</td>\n",
       "    </tr>\n",
       "    <tr>\n",
       "      <th>9</th>\n",
       "      <td>390000.0</td>\n",
       "      <td>1</td>\n",
       "      <td>4</td>\n",
       "      <td>1</td>\n",
       "      <td>3</td>\n",
       "      <td>518.0</td>\n",
       "      <td>1.0</td>\n",
       "      <td>1</td>\n",
       "      <td>2</td>\n",
       "      <td>2</td>\n",
       "      <td>2</td>\n",
       "      <td>14.0</td>\n",
       "      <td>3.0</td>\n",
       "      <td>2</td>\n",
       "      <td>1.0</td>\n",
       "    </tr>\n",
       "    <tr>\n",
       "      <th>12</th>\n",
       "      <td>400000.0</td>\n",
       "      <td>1</td>\n",
       "      <td>5</td>\n",
       "      <td>1</td>\n",
       "      <td>4</td>\n",
       "      <td>357.0</td>\n",
       "      <td>4.0</td>\n",
       "      <td>2</td>\n",
       "      <td>2</td>\n",
       "      <td>2</td>\n",
       "      <td>1</td>\n",
       "      <td>14.0</td>\n",
       "      <td>3.0</td>\n",
       "      <td>2</td>\n",
       "      <td>1.0</td>\n",
       "    </tr>\n",
       "  </tbody>\n",
       "</table>\n",
       "</div>"
      ],
      "text/plain": [
       "    MarketValue  Township  Owner Name Prop Category  Physical Addr    Size  \\\n",
       "1     1700000.0         1           1             1              2   625.0   \n",
       "5     1700000.0         1           2             1              3   587.0   \n",
       "8     1300000.0         1           3             1              3  1487.0   \n",
       "9      390000.0         1           4             1              3   518.0   \n",
       "12     400000.0         1           5             1              4   357.0   \n",
       "\n",
       "    Supp RollNo  Effect Date  Zone Code  Usage Code  Valuation Type  Ward  \\\n",
       "1           1.0            1          1           1               2  14.0   \n",
       "5           1.0            1          1           1               2  14.0   \n",
       "8           1.0            1          2           2               2  14.0   \n",
       "9           1.0            1          2           2               2  14.0   \n",
       "12          4.0            2          2           2               1  14.0   \n",
       "\n",
       "    Cycle  Meter Book  Val Cnt  \n",
       "1     3.0           1      1.0  \n",
       "5     3.0           2      1.0  \n",
       "8     3.0           3      1.0  \n",
       "9     3.0           2      1.0  \n",
       "12    3.0           2      1.0  "
      ]
     },
     "execution_count": 91,
     "metadata": {},
     "output_type": "execute_result"
    }
   ],
   "source": [
    "df_copy2 = df_clean.copy()\n",
    "\n",
    "dic = pd.Series(df_copy2['Township'].unique())\n",
    "dic.index = dic.index + 1\n",
    "dic = pd.Series(dic.index.values, index = dic)\n",
    "\n",
    "dic2 = pd.Series(df_copy2['Owner Name'].unique())\n",
    "dic2.index = dic2.index + 1\n",
    "dic2 = pd.Series(dic2.index.values, index = dic2)\n",
    "\n",
    "dic3 = pd.Series(df_copy2['Meter Book'].unique())\n",
    "dic3.index = dic3.index + 1\n",
    "dic3 = pd.Series(dic3.index.values, index = dic3)\n",
    "\n",
    "dic4 = pd.Series(df_copy2['Effect Date'].unique())\n",
    "dic4.index = dic4.index + 1\n",
    "dic4 = pd.Series(dic4.index.values, index = dic4)\n",
    "\n",
    "lookup_table = dict(dic)\n",
    "\n",
    "def lookup_customer(val):\n",
    "    return lookup_table.get(val, np.nan)\n",
    "\n",
    "\n",
    "df_copy2['Township'] = df_copy2['Township'].apply(lambda x: lookup_customer(x));\n",
    "\n",
    "lookup_table = dict(dic2)\n",
    "df_copy2['Owner Name'] = df_copy2['Owner Name'].apply(lambda x: lookup_customer(x));\n",
    "\n",
    "lookup_table = dict(dic3)\n",
    "df_copy2['Meter Book'] = df_copy2['Meter Book'].apply(lambda x: lookup_customer(x));\n",
    "\n",
    "lookup_table = dict(dic4)\n",
    "df_copy2['Effect Date'] = df_copy2['Effect Date'].apply(lambda x: lookup_customer(x));\n",
    "\n",
    "print(\"The dataset after encoding the remaining features:\")\n",
    "df_copy2.head()"
   ]
  },
  {
   "cell_type": "markdown",
   "metadata": {},
   "source": [
    "The above shows that all the variables now have been encoded accordingly. Now that all the features have\n",
    "been encoded now we are ready to plot our correlation plots."
   ]
  },
  {
   "cell_type": "markdown",
   "metadata": {},
   "source": [
    "#### <b> Correlation plots: </b>"
   ]
  },
  {
   "cell_type": "markdown",
   "metadata": {},
   "source": [
    "#### Correlation matrix:"
   ]
  },
  {
   "cell_type": "code",
   "execution_count": 92,
   "metadata": {
    "colab": {
     "base_uri": "https://localhost:8080/",
     "height": 571
    },
    "id": "osBNnIu6CIri",
    "outputId": "95675eb2-2681-440e-9721-cb1b6cbcf664"
   },
   "outputs": [
    {
     "data": {
      "text/html": [
       "<div>\n",
       "<style scoped>\n",
       "    .dataframe tbody tr th:only-of-type {\n",
       "        vertical-align: middle;\n",
       "    }\n",
       "\n",
       "    .dataframe tbody tr th {\n",
       "        vertical-align: top;\n",
       "    }\n",
       "\n",
       "    .dataframe thead th {\n",
       "        text-align: right;\n",
       "    }\n",
       "</style>\n",
       "<table border=\"1\" class=\"dataframe\">\n",
       "  <thead>\n",
       "    <tr style=\"text-align: right;\">\n",
       "      <th></th>\n",
       "      <th>MarketValue</th>\n",
       "      <th>Township</th>\n",
       "      <th>Owner Name</th>\n",
       "      <th>Prop Category</th>\n",
       "      <th>Physical Addr</th>\n",
       "      <th>Size</th>\n",
       "      <th>Supp RollNo</th>\n",
       "      <th>Effect Date</th>\n",
       "      <th>Zone Code</th>\n",
       "      <th>Usage Code</th>\n",
       "      <th>Valuation Type</th>\n",
       "      <th>Ward</th>\n",
       "      <th>Cycle</th>\n",
       "      <th>Meter Book</th>\n",
       "      <th>Val Cnt</th>\n",
       "    </tr>\n",
       "  </thead>\n",
       "  <tbody>\n",
       "    <tr>\n",
       "      <th>MarketValue</th>\n",
       "      <td>1.000000</td>\n",
       "      <td>-0.327406</td>\n",
       "      <td>-0.160885</td>\n",
       "      <td>0.181173</td>\n",
       "      <td>-0.542337</td>\n",
       "      <td>0.059670</td>\n",
       "      <td>0.229679</td>\n",
       "      <td>0.171037</td>\n",
       "      <td>0.206293</td>\n",
       "      <td>0.066778</td>\n",
       "      <td>-0.208405</td>\n",
       "      <td>-0.058767</td>\n",
       "      <td>-0.172985</td>\n",
       "      <td>-0.516866</td>\n",
       "      <td>0.009365</td>\n",
       "    </tr>\n",
       "    <tr>\n",
       "      <th>Township</th>\n",
       "      <td>-0.327406</td>\n",
       "      <td>1.000000</td>\n",
       "      <td>0.663983</td>\n",
       "      <td>-0.071017</td>\n",
       "      <td>0.660923</td>\n",
       "      <td>-0.023414</td>\n",
       "      <td>-0.119610</td>\n",
       "      <td>-0.136450</td>\n",
       "      <td>-0.096687</td>\n",
       "      <td>0.017357</td>\n",
       "      <td>0.157035</td>\n",
       "      <td>0.032328</td>\n",
       "      <td>0.315007</td>\n",
       "      <td>0.636495</td>\n",
       "      <td>-0.010543</td>\n",
       "    </tr>\n",
       "    <tr>\n",
       "      <th>Owner Name</th>\n",
       "      <td>-0.160885</td>\n",
       "      <td>0.663983</td>\n",
       "      <td>1.000000</td>\n",
       "      <td>-0.029382</td>\n",
       "      <td>0.401142</td>\n",
       "      <td>-0.011928</td>\n",
       "      <td>-0.046755</td>\n",
       "      <td>-0.056294</td>\n",
       "      <td>-0.028419</td>\n",
       "      <td>-0.180400</td>\n",
       "      <td>0.070985</td>\n",
       "      <td>-0.037088</td>\n",
       "      <td>0.264867</td>\n",
       "      <td>0.398028</td>\n",
       "      <td>-0.016088</td>\n",
       "    </tr>\n",
       "    <tr>\n",
       "      <th>Prop Category</th>\n",
       "      <td>0.181173</td>\n",
       "      <td>-0.071017</td>\n",
       "      <td>-0.029382</td>\n",
       "      <td>1.000000</td>\n",
       "      <td>-0.104888</td>\n",
       "      <td>0.113640</td>\n",
       "      <td>0.016494</td>\n",
       "      <td>-0.017179</td>\n",
       "      <td>0.676931</td>\n",
       "      <td>0.615011</td>\n",
       "      <td>0.005997</td>\n",
       "      <td>0.023611</td>\n",
       "      <td>0.206364</td>\n",
       "      <td>-0.067472</td>\n",
       "      <td>-0.004061</td>\n",
       "    </tr>\n",
       "    <tr>\n",
       "      <th>Physical Addr</th>\n",
       "      <td>-0.542337</td>\n",
       "      <td>0.660923</td>\n",
       "      <td>0.401142</td>\n",
       "      <td>-0.104888</td>\n",
       "      <td>1.000000</td>\n",
       "      <td>-0.031652</td>\n",
       "      <td>-0.231086</td>\n",
       "      <td>-0.228139</td>\n",
       "      <td>-0.131142</td>\n",
       "      <td>0.024370</td>\n",
       "      <td>0.246554</td>\n",
       "      <td>0.069517</td>\n",
       "      <td>0.369224</td>\n",
       "      <td>0.841648</td>\n",
       "      <td>-0.008586</td>\n",
       "    </tr>\n",
       "    <tr>\n",
       "      <th>Size</th>\n",
       "      <td>0.059670</td>\n",
       "      <td>-0.023414</td>\n",
       "      <td>-0.011928</td>\n",
       "      <td>0.113640</td>\n",
       "      <td>-0.031652</td>\n",
       "      <td>1.000000</td>\n",
       "      <td>0.008612</td>\n",
       "      <td>-0.000645</td>\n",
       "      <td>0.101832</td>\n",
       "      <td>0.087910</td>\n",
       "      <td>-0.005294</td>\n",
       "      <td>0.000533</td>\n",
       "      <td>0.020815</td>\n",
       "      <td>-0.027227</td>\n",
       "      <td>-0.000475</td>\n",
       "    </tr>\n",
       "    <tr>\n",
       "      <th>Supp RollNo</th>\n",
       "      <td>0.229679</td>\n",
       "      <td>-0.119610</td>\n",
       "      <td>-0.046755</td>\n",
       "      <td>0.016494</td>\n",
       "      <td>-0.231086</td>\n",
       "      <td>0.008612</td>\n",
       "      <td>1.000000</td>\n",
       "      <td>0.870027</td>\n",
       "      <td>0.103532</td>\n",
       "      <td>0.043924</td>\n",
       "      <td>-0.828113</td>\n",
       "      <td>-0.024379</td>\n",
       "      <td>-0.097465</td>\n",
       "      <td>-0.246995</td>\n",
       "      <td>0.018126</td>\n",
       "    </tr>\n",
       "    <tr>\n",
       "      <th>Effect Date</th>\n",
       "      <td>0.171037</td>\n",
       "      <td>-0.136450</td>\n",
       "      <td>-0.056294</td>\n",
       "      <td>-0.017179</td>\n",
       "      <td>-0.228139</td>\n",
       "      <td>-0.000645</td>\n",
       "      <td>0.870027</td>\n",
       "      <td>1.000000</td>\n",
       "      <td>0.086885</td>\n",
       "      <td>0.025500</td>\n",
       "      <td>-0.904041</td>\n",
       "      <td>-0.025481</td>\n",
       "      <td>-0.151088</td>\n",
       "      <td>-0.263191</td>\n",
       "      <td>0.016347</td>\n",
       "    </tr>\n",
       "    <tr>\n",
       "      <th>Zone Code</th>\n",
       "      <td>0.206293</td>\n",
       "      <td>-0.096687</td>\n",
       "      <td>-0.028419</td>\n",
       "      <td>0.676931</td>\n",
       "      <td>-0.131142</td>\n",
       "      <td>0.101832</td>\n",
       "      <td>0.103532</td>\n",
       "      <td>0.086885</td>\n",
       "      <td>1.000000</td>\n",
       "      <td>0.815538</td>\n",
       "      <td>-0.080991</td>\n",
       "      <td>0.004524</td>\n",
       "      <td>0.125148</td>\n",
       "      <td>-0.163668</td>\n",
       "      <td>-0.009151</td>\n",
       "    </tr>\n",
       "    <tr>\n",
       "      <th>Usage Code</th>\n",
       "      <td>0.066778</td>\n",
       "      <td>0.017357</td>\n",
       "      <td>-0.180400</td>\n",
       "      <td>0.615011</td>\n",
       "      <td>0.024370</td>\n",
       "      <td>0.087910</td>\n",
       "      <td>0.043924</td>\n",
       "      <td>0.025500</td>\n",
       "      <td>0.815538</td>\n",
       "      <td>1.000000</td>\n",
       "      <td>-0.010466</td>\n",
       "      <td>0.164696</td>\n",
       "      <td>0.116039</td>\n",
       "      <td>0.024676</td>\n",
       "      <td>-0.008780</td>\n",
       "    </tr>\n",
       "    <tr>\n",
       "      <th>Valuation Type</th>\n",
       "      <td>-0.208405</td>\n",
       "      <td>0.157035</td>\n",
       "      <td>0.070985</td>\n",
       "      <td>0.005997</td>\n",
       "      <td>0.246554</td>\n",
       "      <td>-0.005294</td>\n",
       "      <td>-0.828113</td>\n",
       "      <td>-0.904041</td>\n",
       "      <td>-0.080991</td>\n",
       "      <td>-0.010466</td>\n",
       "      <td>1.000000</td>\n",
       "      <td>0.030678</td>\n",
       "      <td>0.166801</td>\n",
       "      <td>0.285353</td>\n",
       "      <td>-0.017715</td>\n",
       "    </tr>\n",
       "    <tr>\n",
       "      <th>Ward</th>\n",
       "      <td>-0.058767</td>\n",
       "      <td>0.032328</td>\n",
       "      <td>-0.037088</td>\n",
       "      <td>0.023611</td>\n",
       "      <td>0.069517</td>\n",
       "      <td>0.000533</td>\n",
       "      <td>-0.024379</td>\n",
       "      <td>-0.025481</td>\n",
       "      <td>0.004524</td>\n",
       "      <td>0.164696</td>\n",
       "      <td>0.030678</td>\n",
       "      <td>1.000000</td>\n",
       "      <td>0.007699</td>\n",
       "      <td>0.058518</td>\n",
       "      <td>-0.001896</td>\n",
       "    </tr>\n",
       "    <tr>\n",
       "      <th>Cycle</th>\n",
       "      <td>-0.172985</td>\n",
       "      <td>0.315007</td>\n",
       "      <td>0.264867</td>\n",
       "      <td>0.206364</td>\n",
       "      <td>0.369224</td>\n",
       "      <td>0.020815</td>\n",
       "      <td>-0.097465</td>\n",
       "      <td>-0.151088</td>\n",
       "      <td>0.125148</td>\n",
       "      <td>0.116039</td>\n",
       "      <td>0.166801</td>\n",
       "      <td>0.007699</td>\n",
       "      <td>1.000000</td>\n",
       "      <td>0.506170</td>\n",
       "      <td>-0.012168</td>\n",
       "    </tr>\n",
       "    <tr>\n",
       "      <th>Meter Book</th>\n",
       "      <td>-0.516866</td>\n",
       "      <td>0.636495</td>\n",
       "      <td>0.398028</td>\n",
       "      <td>-0.067472</td>\n",
       "      <td>0.841648</td>\n",
       "      <td>-0.027227</td>\n",
       "      <td>-0.246995</td>\n",
       "      <td>-0.263191</td>\n",
       "      <td>-0.163668</td>\n",
       "      <td>0.024676</td>\n",
       "      <td>0.285353</td>\n",
       "      <td>0.058518</td>\n",
       "      <td>0.506170</td>\n",
       "      <td>1.000000</td>\n",
       "      <td>-0.019168</td>\n",
       "    </tr>\n",
       "    <tr>\n",
       "      <th>Val Cnt</th>\n",
       "      <td>0.009365</td>\n",
       "      <td>-0.010543</td>\n",
       "      <td>-0.016088</td>\n",
       "      <td>-0.004061</td>\n",
       "      <td>-0.008586</td>\n",
       "      <td>-0.000475</td>\n",
       "      <td>0.018126</td>\n",
       "      <td>0.016347</td>\n",
       "      <td>-0.009151</td>\n",
       "      <td>-0.008780</td>\n",
       "      <td>-0.017715</td>\n",
       "      <td>-0.001896</td>\n",
       "      <td>-0.012168</td>\n",
       "      <td>-0.019168</td>\n",
       "      <td>1.000000</td>\n",
       "    </tr>\n",
       "  </tbody>\n",
       "</table>\n",
       "</div>"
      ],
      "text/plain": [
       "                MarketValue  Township  Owner Name  Prop Category  \\\n",
       "MarketValue        1.000000 -0.327406   -0.160885       0.181173   \n",
       "Township          -0.327406  1.000000    0.663983      -0.071017   \n",
       "Owner Name        -0.160885  0.663983    1.000000      -0.029382   \n",
       "Prop Category      0.181173 -0.071017   -0.029382       1.000000   \n",
       "Physical Addr     -0.542337  0.660923    0.401142      -0.104888   \n",
       "Size               0.059670 -0.023414   -0.011928       0.113640   \n",
       "Supp RollNo        0.229679 -0.119610   -0.046755       0.016494   \n",
       "Effect Date        0.171037 -0.136450   -0.056294      -0.017179   \n",
       "Zone Code          0.206293 -0.096687   -0.028419       0.676931   \n",
       "Usage Code         0.066778  0.017357   -0.180400       0.615011   \n",
       "Valuation Type    -0.208405  0.157035    0.070985       0.005997   \n",
       "Ward              -0.058767  0.032328   -0.037088       0.023611   \n",
       "Cycle             -0.172985  0.315007    0.264867       0.206364   \n",
       "Meter Book        -0.516866  0.636495    0.398028      -0.067472   \n",
       "Val Cnt            0.009365 -0.010543   -0.016088      -0.004061   \n",
       "\n",
       "                Physical Addr      Size  Supp RollNo  Effect Date  Zone Code  \\\n",
       "MarketValue         -0.542337  0.059670     0.229679     0.171037   0.206293   \n",
       "Township             0.660923 -0.023414    -0.119610    -0.136450  -0.096687   \n",
       "Owner Name           0.401142 -0.011928    -0.046755    -0.056294  -0.028419   \n",
       "Prop Category       -0.104888  0.113640     0.016494    -0.017179   0.676931   \n",
       "Physical Addr        1.000000 -0.031652    -0.231086    -0.228139  -0.131142   \n",
       "Size                -0.031652  1.000000     0.008612    -0.000645   0.101832   \n",
       "Supp RollNo         -0.231086  0.008612     1.000000     0.870027   0.103532   \n",
       "Effect Date         -0.228139 -0.000645     0.870027     1.000000   0.086885   \n",
       "Zone Code           -0.131142  0.101832     0.103532     0.086885   1.000000   \n",
       "Usage Code           0.024370  0.087910     0.043924     0.025500   0.815538   \n",
       "Valuation Type       0.246554 -0.005294    -0.828113    -0.904041  -0.080991   \n",
       "Ward                 0.069517  0.000533    -0.024379    -0.025481   0.004524   \n",
       "Cycle                0.369224  0.020815    -0.097465    -0.151088   0.125148   \n",
       "Meter Book           0.841648 -0.027227    -0.246995    -0.263191  -0.163668   \n",
       "Val Cnt             -0.008586 -0.000475     0.018126     0.016347  -0.009151   \n",
       "\n",
       "                Usage Code  Valuation Type      Ward     Cycle  Meter Book  \\\n",
       "MarketValue       0.066778       -0.208405 -0.058767 -0.172985   -0.516866   \n",
       "Township          0.017357        0.157035  0.032328  0.315007    0.636495   \n",
       "Owner Name       -0.180400        0.070985 -0.037088  0.264867    0.398028   \n",
       "Prop Category     0.615011        0.005997  0.023611  0.206364   -0.067472   \n",
       "Physical Addr     0.024370        0.246554  0.069517  0.369224    0.841648   \n",
       "Size              0.087910       -0.005294  0.000533  0.020815   -0.027227   \n",
       "Supp RollNo       0.043924       -0.828113 -0.024379 -0.097465   -0.246995   \n",
       "Effect Date       0.025500       -0.904041 -0.025481 -0.151088   -0.263191   \n",
       "Zone Code         0.815538       -0.080991  0.004524  0.125148   -0.163668   \n",
       "Usage Code        1.000000       -0.010466  0.164696  0.116039    0.024676   \n",
       "Valuation Type   -0.010466        1.000000  0.030678  0.166801    0.285353   \n",
       "Ward              0.164696        0.030678  1.000000  0.007699    0.058518   \n",
       "Cycle             0.116039        0.166801  0.007699  1.000000    0.506170   \n",
       "Meter Book        0.024676        0.285353  0.058518  0.506170    1.000000   \n",
       "Val Cnt          -0.008780       -0.017715 -0.001896 -0.012168   -0.019168   \n",
       "\n",
       "                 Val Cnt  \n",
       "MarketValue     0.009365  \n",
       "Township       -0.010543  \n",
       "Owner Name     -0.016088  \n",
       "Prop Category  -0.004061  \n",
       "Physical Addr  -0.008586  \n",
       "Size           -0.000475  \n",
       "Supp RollNo     0.018126  \n",
       "Effect Date     0.016347  \n",
       "Zone Code      -0.009151  \n",
       "Usage Code     -0.008780  \n",
       "Valuation Type -0.017715  \n",
       "Ward           -0.001896  \n",
       "Cycle          -0.012168  \n",
       "Meter Book     -0.019168  \n",
       "Val Cnt         1.000000  "
      ]
     },
     "execution_count": 92,
     "metadata": {},
     "output_type": "execute_result"
    }
   ],
   "source": [
    "# calculating the correlation matrix\n",
    "df_copy2 = df_copy2.astype('float64')\n",
    "corr = df_copy2.corr()\n",
    "corr"
   ]
  },
  {
   "cell_type": "markdown",
   "metadata": {
    "id": "7ObOf3ywCIrj"
   },
   "source": [
    "####  Heat map: "
   ]
  },
  {
   "cell_type": "code",
   "execution_count": 93,
   "metadata": {
    "colab": {
     "base_uri": "https://localhost:8080/",
     "height": 577
    },
    "id": "pYrbivqUCIrj",
    "outputId": "1ac040d0-f9db-4831-b732-b6b5dce4db61"
   },
   "outputs": [
    {
     "data": {
      "image/png": "[encoded data removed]",
      "text/plain": [
       "<Figure size 864x576 with 2 Axes>"
      ]
     },
     "metadata": {},
     "output_type": "display_data"
    }
   ],
   "source": [
    "fig, ax = plt.subplots(figsize=(12,8))\n",
    "sns.heatmap(corr, vmin=-1, vmax=1, center=0, cmap=sns.diverging_palette(20, 220, n=200), square=True, ax=ax)\n",
    "plt.show()"
   ]
  },
  {
   "cell_type": "markdown",
   "metadata": {
    "id": "oy4OiNOACIrn"
   },
   "source": [
    "#### Scatter plots:"
   ]
  },
  {
   "cell_type": "markdown",
   "metadata": {
    "id": "iYsYsYv7CIro"
   },
   "source": [
    "In the next cells, we jitter encoded variables for better data visualization."
   ]
  },
  {
   "cell_type": "code",
   "execution_count": 94,
   "metadata": {
    "id": "iBHu1VHbCIro"
   },
   "outputs": [],
   "source": [
    "def Jitter(values, jitter=0.5):\n",
    "    n = len(values)\n",
    "    return np.random.normal(0, jitter, n) + values"
   ]
  },
  {
   "cell_type": "code",
   "execution_count": 95,
   "metadata": {
    "id": "tUt10ewvCIrp"
   },
   "outputs": [],
   "source": [
    "df_copy2['Physical Addr'] = Jitter(df_copy2['Physical Addr'])\n",
    "df_copy2['Valuation Type'] = Jitter(df_copy2['Valuation Type'])\n",
    "df_copy2['Usage Code'] = Jitter(df_copy2['Usage Code'])\n",
    "df_copy2['Township'] = Jitter(df_copy2['Township'])\n",
    "df_copy2['Owner Name'] = Jitter(df_copy2['Owner Name'])\n",
    "df_copy2['Effect Date'] = Jitter(df_copy2['Effect Date'])\n",
    "df_copy2['Meter Book'] = Jitter(df_copy2['Meter Book'])"
   ]
  },
  {
   "cell_type": "code",
   "execution_count": 97,
   "metadata": {
    "colab": {
     "base_uri": "https://localhost:8080/",
     "height": 1000
    },
    "id": "SFajWxvQCIrq",
    "outputId": "7a1fe0dd-dece-4edb-a71d-b566f94f2af6",
    "tags": []
   },
   "outputs": [],
   "source": [
    "print(\"Scatter plots:\")\n",
    "plt.figure(figsize=(1200, 1200))\n",
    "mat_plot = sns.pairplot(df_copy2,diag_kind=\"hist\",palette='Dark2',corner=True, height = 2)\n",
    "plt.show()"
   ]
  },
  {
   "cell_type": "markdown",
   "metadata": {
    "id": "GuGj0J32CIrq"
   },
   "source": [
    "#### <b> Key points from the correlation matrix, heat map and scatter plots: </b>\n",
    "- Our predictive variable(Market Value) has very little to non correlation with some of our deterministic variables.\n",
    "- The Supp RollNo, Effect Date,  Zone Code, Usage Code, and Val Count are the only features that are positively correlated to the market value.\n",
    "- Usage Code is the most positively correlated feature to market value. \n",
    "- The remaining features were all negatively correlated to market value. The Ward feature was the most negatively correlated to the market value. \n",
    "- Some of the features are strongly correlated, for example, there is a strong positive correlation between Owner Name and Township. \n",
    "- These variables are likely to cause us trouble when we fit our linear regression model later on. \n",
    "- We are going to into account these kinds of relationships in the next section when we fit our linear regression model."
   ]
  },
  {
   "cell_type": "markdown",
   "metadata": {},
   "source": [
    "\n",
    "### <b> Summary: </b>\n",
    "\n",
    "In this section, we explored the dataset by identifying its contents and attributes. We identified outliers and remove data points containing these outliers. We then investigated relationships among features. We saw some of the deterministic features were highly correlated. We plan to rectify this in the sections below. Now that we are done with our data wrangling and exploration analysis, we are in a\n",
    "good position to build our linear model.\n",
    "\n",
    "<br>"
   ]
  },
  {
   "cell_type": "markdown",
   "metadata": {},
   "source": [
    "<a id='Data_Splitting'></a>"
   ]
  },
  {
   "cell_type": "markdown",
   "metadata": {
    "id": "-yiuBonmX4El"
   },
   "source": [
    "# <b> Data Splitting: </b>"
   ]
  },
  {
   "cell_type": "markdown",
   "metadata": {},
   "source": [
    "In this section, we split our dataset into training and testing sets. We use a 67 / 33 (train / test) split. We will use the training set for modelling learning purposes and the test set will be used for validation purposes. To be more specific, the test set will help us check if our models overfit or underfit the training data set."
   ]
  },
  {
   "cell_type": "code",
   "execution_count": 98,
   "metadata": {
    "id": "Ya1NE8jeX4Em"
   },
   "outputs": [],
   "source": [
    "#Split the data into Train, and Test\n",
    "df = df_copy2.copy()\n",
    "df.head()\n",
    "X = df.loc[:, df.columns != 'MarketValue']\n",
    "y = df.loc[:, 'MarketValue']\n",
    "\n",
    "#Split the data into Train, and Test\n",
    "X_train, X_test, y_train, y_test = train_test_split(X, y, test_size=0.33, random_state=42)\n",
    "##Add constant(or bias) to the dataset\n",
    "X_train = sm.add_constant(X_train)"
   ]
  },
  {
   "cell_type": "code",
   "execution_count": 99,
   "metadata": {
    "id": "WP3XVx6mX4En",
    "outputId": "97815109-b41c-4021-c78f-3bd7e247e247"
   },
   "outputs": [
    {
     "name": "stdout",
     "output_type": "stream",
     "text": [
      "Size of the training data is:  26858\n",
      "Size of the test data is: 13229\n"
     ]
    }
   ],
   "source": [
    "print('Size of the training data is: ', len(y_train))\n",
    "print('Size of the test data is:', len(y_test))"
   ]
  },
  {
   "cell_type": "markdown",
   "metadata": {
    "id": "oJnfBA7cX4Eo"
   },
   "source": [
    "<br>\n",
    "</br>\n",
    "<blockqoute>In the next few sections, we are going to try and fit a linear regression model that will capture the relationship between the marketValue and Township, Owner Name, Prop Category, Physical Addr, Size, Supp RollNo, Effect Date, Zone Code, Usage Code, Valuation Type, Ward, Cycle, Meter Book and Val Cnt.\n",
    "We expect our linear regression model to take this form : $$ Y= B_{1}x_{1} +B_{2}x_{2}+ ... $$ where $B_{i}\\  $ for  i = {1,2,3, ...} are the weights associated with the respective regressors and Y is our target variable, the market value. \n",
    "</blockqoute>\n",
    "\n",
    "# <b>  Hypotheses: </b>\n",
    "        \n",
    "\\begin{align}\n",
    "\\textit{Null Hypothesis : } H_{0}: B_{1} &= B_{2} = ... = B_{n} = 0\\\\\n",
    "\\textit{Alternate  Hypothesis : } H_{1}:  &  \\ B_{i} \\neq \\ 0  for  \\ at \\ least \\ one \\ i.\n",
    "\\end{align}\n",
    "    \n",
    "The null hypothesis above states that there is no factor that influences the market value. Whereas, the alternative hypothesis states that at least one factor influences the market value. \n",
    "\n",
    "\n"
   ]
  },
  {
   "cell_type": "markdown",
   "metadata": {},
   "source": [
    "<a id='models'></a>"
   ]
  },
  {
   "cell_type": "markdown",
   "metadata": {
    "id": "lhovL7MGX4Ep"
   },
   "source": [
    "# <b> Models: </b>"
   ]
  },
  {
   "cell_type": "markdown",
   "metadata": {
    "id": "og5XzOzGX4Ep"
   },
   "source": [
    "In this section, we fit our model using linear regression and analyze its performance. The model fitting will be based on R-squared. Since we want to know how much our independent variables influence our dependent (Market Value), the R-squared measure is perfect for our modeling.\n",
    "\n",
    "Below we fit our initial models and evaluate their respective performances.\n",
    "\n",
    "### **Initial models:**\n",
    "\n",
    "#### **Model 1: unmodified inputs:**\n",
    "In this next cell, we fit our model on the original training data."
   ]
  },
  {
   "cell_type": "code",
   "execution_count": 100,
   "metadata": {
    "id": "ciPAQyJdX4Eq",
    "outputId": "2787d33e-6201-46e7-b52f-f360ef9c2187",
    "scrolled": true
   },
   "outputs": [
    {
     "name": "stdout",
     "output_type": "stream",
     "text": [
      "                            OLS Regression Results                            \n",
      "==============================================================================\n",
      "Dep. Variable:            MarketValue   R-squared:                       0.344\n",
      "Model:                            OLS   Adj. R-squared:                  0.343\n",
      "Method:                 Least Squares   F-statistic:                     1004.\n",
      "Date:                Mon, 21 Jun 2021   Prob (F-statistic):               0.00\n",
      "Time:                        14:44:49   Log-Likelihood:            -3.8021e+05\n",
      "No. Observations:               26858   AIC:                         7.604e+05\n",
      "Df Residuals:                   26843   BIC:                         7.606e+05\n",
      "Df Model:                          14                                         \n",
      "Covariance Type:            nonrobust                                         \n",
      "==================================================================================\n",
      "                     coef    std err          t      P>|t|      [0.025      0.975]\n",
      "----------------------------------------------------------------------------------\n",
      "const            5.79e+05   9.54e+04      6.070      0.000    3.92e+05    7.66e+05\n",
      "Township         179.1123     26.862      6.668      0.000     126.461     231.763\n",
      "Owner Name         1.6761      0.412      4.069      0.000       0.869       2.484\n",
      "Prop Category   2.878e+04   2305.928     12.480      0.000    2.43e+04    3.33e+04\n",
      "Physical Addr   -430.1950     11.444    -37.590      0.000    -452.627    -407.763\n",
      "Size               0.0504      0.009      5.334      0.000       0.032       0.069\n",
      "Supp RollNo     7.116e+04   3599.521     19.769      0.000    6.41e+04    7.82e+04\n",
      "Effect Date    -3.717e+04   3039.675    -12.227      0.000   -4.31e+04   -3.12e+04\n",
      "Zone Code       1.003e+04   1275.037      7.865      0.000    7529.379    1.25e+04\n",
      "Usage Code     -3711.2501    833.654     -4.452      0.000   -5345.256   -2077.244\n",
      "Valuation Type   543.4287   3890.029      0.140      0.889   -7081.233    8168.090\n",
      "Ward            -136.0642     49.007     -2.776      0.005    -232.120     -40.008\n",
      "Cycle            979.3428    151.843      6.450      0.000     681.722    1276.963\n",
      "Meter Book     -1619.4756     74.513    -21.734      0.000   -1765.526   -1473.425\n",
      "Val Cnt         1.498e+05   9.44e+04      1.587      0.113   -3.52e+04    3.35e+05\n",
      "==============================================================================\n",
      "Omnibus:                     3181.281   Durbin-Watson:                   2.001\n",
      "Prob(Omnibus):                  0.000   Jarque-Bera (JB):             4775.775\n",
      "Skew:                           0.875   Prob(JB):                         0.00\n",
      "Kurtosis:                       4.097   Cond. No.                     1.45e+07\n",
      "==============================================================================\n",
      "\n",
      "Notes:\n",
      "[1] Standard Errors assume that the covariance matrix of the errors is correctly specified.\n",
      "[2] The condition number is large, 1.45e+07. This might indicate that there are\n",
      "strong multicollinearity or other numerical problems.\n"
     ]
    }
   ],
   "source": [
    "model = sm.OLS(y_train, X_train)\n",
    "result = model.fit()\n",
    "print(result.summary())"
   ]
  },
  {
   "cell_type": "markdown",
   "metadata": {},
   "source": [
    "From the above model, we have an R-squared value of $ \\approx 0.3$. The model also has multicollinearity\n",
    "between some of the variables, hence it produced a high condition number. This is consistent with our findings from the data exploration section."
   ]
  },
  {
   "cell_type": "markdown",
   "metadata": {},
   "source": [
    "### <b> Data transformation: </b>\n",
    "In this section, we transform our input data to have a polynomial degree of two and three. We are then\n",
    "going to fit two models on these two different datasets."
   ]
  },
  {
   "cell_type": "markdown",
   "metadata": {
    "id": "HoJEJk-lX4Eq"
   },
   "source": [
    "#### <b> Fixing the data to have a polynomial linear regression of degree 2:</b>\n",
    "In this next cell, we transform the data to have a polynomial degree of 2."
   ]
  },
  {
   "cell_type": "code",
   "execution_count": 101,
   "metadata": {
    "id": "7rprzidSX4Er",
    "outputId": "f257ef1b-2f1d-4969-cc50-db3eb239bc79"
   },
   "outputs": [
    {
     "data": {
      "text/html": [
       "<div>\n",
       "<style scoped>\n",
       "    .dataframe tbody tr th:only-of-type {\n",
       "        vertical-align: middle;\n",
       "    }\n",
       "\n",
       "    .dataframe tbody tr th {\n",
       "        vertical-align: top;\n",
       "    }\n",
       "\n",
       "    .dataframe thead th {\n",
       "        text-align: right;\n",
       "    }\n",
       "</style>\n",
       "<table border=\"1\" class=\"dataframe\">\n",
       "  <thead>\n",
       "    <tr style=\"text-align: right;\">\n",
       "      <th></th>\n",
       "      <th>Township_sqr</th>\n",
       "      <th>Owner Name_sqr</th>\n",
       "      <th>Prop Category_sqr</th>\n",
       "      <th>Physical Addr_sqr</th>\n",
       "      <th>Size_sqr</th>\n",
       "      <th>Supp RollNo_sqr</th>\n",
       "      <th>Effect Date_sqr</th>\n",
       "      <th>Zone Code_sqr</th>\n",
       "      <th>Usage Code_sqr</th>\n",
       "      <th>Valuation Type_sqr</th>\n",
       "      <th>Ward_sqr</th>\n",
       "      <th>Cycle_sqr</th>\n",
       "      <th>Meter Book_sqr</th>\n",
       "      <th>Val Cnt_sqr</th>\n",
       "    </tr>\n",
       "  </thead>\n",
       "  <tbody>\n",
       "    <tr>\n",
       "      <th>5757</th>\n",
       "      <td>1209.776749</td>\n",
       "      <td>1.274835e+07</td>\n",
       "      <td>4.0</td>\n",
       "      <td>9.267144e+04</td>\n",
       "      <td>1432809.0</td>\n",
       "      <td>4.0</td>\n",
       "      <td>10.939547</td>\n",
       "      <td>81.0</td>\n",
       "      <td>83.959228</td>\n",
       "      <td>2.514612</td>\n",
       "      <td>225.0</td>\n",
       "      <td>1.0</td>\n",
       "      <td>3370.328224</td>\n",
       "      <td>1.0</td>\n",
       "    </tr>\n",
       "    <tr>\n",
       "      <th>49719</th>\n",
       "      <td>107628.847808</td>\n",
       "      <td>1.858407e+06</td>\n",
       "      <td>4.0</td>\n",
       "      <td>1.259343e+06</td>\n",
       "      <td>492804.0</td>\n",
       "      <td>1.0</td>\n",
       "      <td>0.530308</td>\n",
       "      <td>81.0</td>\n",
       "      <td>287.607685</td>\n",
       "      <td>3.895789</td>\n",
       "      <td>784.0</td>\n",
       "      <td>400.0</td>\n",
       "      <td>40302.293149</td>\n",
       "      <td>1.0</td>\n",
       "    </tr>\n",
       "  </tbody>\n",
       "</table>\n",
       "</div>"
      ],
      "text/plain": [
       "        Township_sqr  Owner Name_sqr  Prop Category_sqr  Physical Addr_sqr  \\\n",
       "5757     1209.776749    1.274835e+07                4.0       9.267144e+04   \n",
       "49719  107628.847808    1.858407e+06                4.0       1.259343e+06   \n",
       "\n",
       "        Size_sqr  Supp RollNo_sqr  Effect Date_sqr  Zone Code_sqr  \\\n",
       "5757   1432809.0              4.0        10.939547           81.0   \n",
       "49719   492804.0              1.0         0.530308           81.0   \n",
       "\n",
       "       Usage Code_sqr  Valuation Type_sqr  Ward_sqr  Cycle_sqr  \\\n",
       "5757        83.959228            2.514612     225.0        1.0   \n",
       "49719      287.607685            3.895789     784.0      400.0   \n",
       "\n",
       "       Meter Book_sqr  Val Cnt_sqr  \n",
       "5757      3370.328224          1.0  \n",
       "49719    40302.293149          1.0  "
      ]
     },
     "execution_count": 101,
     "metadata": {},
     "output_type": "execute_result"
    }
   ],
   "source": [
    "X_trained_square = X_train.loc[:,X_train.columns !='const'] * X_train.loc[:,X_train.columns !='const']\n",
    "X_trained_square = X_trained_square.rename(columns = {'Township': 'Township_sqr', 'Owner Name': 'Owner Name_sqr', 'Prop Category': 'Prop Category_sqr', 'Physical Addr': 'Physical Addr_sqr', 'Size':'Size_sqr', 'Supp RollNo':'Supp RollNo_sqr','Effect Date':'Effect Date_sqr', 'Zone Code':'Zone Code_sqr', 'Usage Code':'Usage Code_sqr','Valuation Type':'Valuation Type_sqr', 'Ward':'Ward_sqr', 'Cycle':'Cycle_sqr', 'Meter Book':'Meter Book_sqr', 'Val Cnt':'Val Cnt_sqr'}, inplace = False)\n",
    "X_trained_square.head(2)"
   ]
  },
  {
   "cell_type": "markdown",
   "metadata": {
    "id": "NOkID6SvX4Er"
   },
   "source": [
    "#### <b> Fixing the data to have a polynomial linear regression of degree 3:</b>\n",
    "In this next cell, we transform the data to have a polynomial degree of 3."
   ]
  },
  {
   "cell_type": "code",
   "execution_count": 102,
   "metadata": {
    "id": "uZXoyE4GX4Er",
    "outputId": "69874c26-6f9c-4085-9b55-376ac3b942fc"
   },
   "outputs": [
    {
     "data": {
      "text/html": [
       "<div>\n",
       "<style scoped>\n",
       "    .dataframe tbody tr th:only-of-type {\n",
       "        vertical-align: middle;\n",
       "    }\n",
       "\n",
       "    .dataframe tbody tr th {\n",
       "        vertical-align: top;\n",
       "    }\n",
       "\n",
       "    .dataframe thead th {\n",
       "        text-align: right;\n",
       "    }\n",
       "</style>\n",
       "<table border=\"1\" class=\"dataframe\">\n",
       "  <thead>\n",
       "    <tr style=\"text-align: right;\">\n",
       "      <th></th>\n",
       "      <th>Township_cb</th>\n",
       "      <th>Owner Name_cb</th>\n",
       "      <th>Prop Category_cb</th>\n",
       "      <th>Physical Addr_cb</th>\n",
       "      <th>Size_cb</th>\n",
       "      <th>Supp RollNo_cb</th>\n",
       "      <th>Effect Date_cb</th>\n",
       "      <th>Zone Code_cb</th>\n",
       "      <th>Usage Code_cb</th>\n",
       "      <th>Valuation Type_cb</th>\n",
       "      <th>Ward_cb</th>\n",
       "      <th>Cycle_cb</th>\n",
       "      <th>Meter Book_cb</th>\n",
       "      <th>Val Cnt_cb</th>\n",
       "    </tr>\n",
       "  </thead>\n",
       "  <tbody>\n",
       "    <tr>\n",
       "      <th>5757</th>\n",
       "      <td>4.207827e+04</td>\n",
       "      <td>4.551777e+10</td>\n",
       "      <td>8.0</td>\n",
       "      <td>2.821103e+07</td>\n",
       "      <td>1.715072e+09</td>\n",
       "      <td>8.0</td>\n",
       "      <td>36.182539</td>\n",
       "      <td>729.0</td>\n",
       "      <td>769.312258</td>\n",
       "      <td>3.987554</td>\n",
       "      <td>3375.0</td>\n",
       "      <td>1.0</td>\n",
       "      <td>1.956628e+05</td>\n",
       "      <td>1.0</td>\n",
       "    </tr>\n",
       "    <tr>\n",
       "      <th>49719</th>\n",
       "      <td>3.530962e+07</td>\n",
       "      <td>2.533445e+09</td>\n",
       "      <td>8.0</td>\n",
       "      <td>1.413240e+09</td>\n",
       "      <td>3.459484e+08</td>\n",
       "      <td>1.0</td>\n",
       "      <td>0.386182</td>\n",
       "      <td>729.0</td>\n",
       "      <td>4877.538767</td>\n",
       "      <td>7.689411</td>\n",
       "      <td>21952.0</td>\n",
       "      <td>8000.0</td>\n",
       "      <td>8.090859e+06</td>\n",
       "      <td>1.0</td>\n",
       "    </tr>\n",
       "  </tbody>\n",
       "</table>\n",
       "</div>"
      ],
      "text/plain": [
       "        Township_cb  Owner Name_cb  Prop Category_cb  Physical Addr_cb  \\\n",
       "5757   4.207827e+04   4.551777e+10               8.0      2.821103e+07   \n",
       "49719  3.530962e+07   2.533445e+09               8.0      1.413240e+09   \n",
       "\n",
       "            Size_cb  Supp RollNo_cb  Effect Date_cb  Zone Code_cb  \\\n",
       "5757   1.715072e+09             8.0       36.182539         729.0   \n",
       "49719  3.459484e+08             1.0        0.386182         729.0   \n",
       "\n",
       "       Usage Code_cb  Valuation Type_cb  Ward_cb  Cycle_cb  Meter Book_cb  \\\n",
       "5757      769.312258           3.987554   3375.0       1.0   1.956628e+05   \n",
       "49719    4877.538767           7.689411  21952.0    8000.0   8.090859e+06   \n",
       "\n",
       "       Val Cnt_cb  \n",
       "5757          1.0  \n",
       "49719         1.0  "
      ]
     },
     "execution_count": 102,
     "metadata": {},
     "output_type": "execute_result"
    }
   ],
   "source": [
    "X_trained_cube = X_train.loc[:,X_train.columns !='const'] * X_train.loc[:,X_train.columns !='const'] * X_train.loc[:,X_train.columns !='const']\n",
    "X_trained_cube = X_trained_cube.rename(columns = {'Township': 'Township_cb', 'Owner Name': 'Owner Name_cb', 'Prop Category': 'Prop Category_cb', 'Physical Addr': 'Physical Addr_cb', 'Size':'Size_cb', 'Supp RollNo':'Supp RollNo_cb','Effect Date':'Effect Date_cb', 'Zone Code':'Zone Code_cb', 'Usage Code':'Usage Code_cb','Valuation Type':'Valuation Type_cb', 'Ward':'Ward_cb', 'Cycle':'Cycle_cb', 'Meter Book':'Meter Book_cb', 'Val Cnt':'Val Cnt_cb'}, inplace = False)\n",
    "X_trained_cube.head(2)"
   ]
  },
  {
   "cell_type": "markdown",
   "metadata": {
    "id": "cZ0KlOZUX4Er"
   },
   "source": [
    "####  **Complete training data for polynomial of degree 2:**\n",
    "In this next cell, we join our original data with the training input data with a polynomial degree of 2.\n"
   ]
  },
  {
   "cell_type": "code",
   "execution_count": 103,
   "metadata": {
    "id": "E8SLC0apX4Es",
    "outputId": "a04fec8c-cd01-4d05-b6ba-f1604ed944d4"
   },
   "outputs": [
    {
     "data": {
      "text/html": [
       "<div>\n",
       "<style scoped>\n",
       "    .dataframe tbody tr th:only-of-type {\n",
       "        vertical-align: middle;\n",
       "    }\n",
       "\n",
       "    .dataframe tbody tr th {\n",
       "        vertical-align: top;\n",
       "    }\n",
       "\n",
       "    .dataframe thead th {\n",
       "        text-align: right;\n",
       "    }\n",
       "</style>\n",
       "<table border=\"1\" class=\"dataframe\">\n",
       "  <thead>\n",
       "    <tr style=\"text-align: right;\">\n",
       "      <th></th>\n",
       "      <th>const</th>\n",
       "      <th>Township</th>\n",
       "      <th>Owner Name</th>\n",
       "      <th>Prop Category</th>\n",
       "      <th>Physical Addr</th>\n",
       "      <th>Size</th>\n",
       "      <th>Supp RollNo</th>\n",
       "      <th>Effect Date</th>\n",
       "      <th>Zone Code</th>\n",
       "      <th>Usage Code</th>\n",
       "      <th>...</th>\n",
       "      <th>Size_sqr</th>\n",
       "      <th>Supp RollNo_sqr</th>\n",
       "      <th>Effect Date_sqr</th>\n",
       "      <th>Zone Code_sqr</th>\n",
       "      <th>Usage Code_sqr</th>\n",
       "      <th>Valuation Type_sqr</th>\n",
       "      <th>Ward_sqr</th>\n",
       "      <th>Cycle_sqr</th>\n",
       "      <th>Meter Book_sqr</th>\n",
       "      <th>Val Cnt_sqr</th>\n",
       "    </tr>\n",
       "  </thead>\n",
       "  <tbody>\n",
       "    <tr>\n",
       "      <th>5757</th>\n",
       "      <td>1.0</td>\n",
       "      <td>34.781845</td>\n",
       "      <td>3570.483216</td>\n",
       "      <td>2.0</td>\n",
       "      <td>304.419843</td>\n",
       "      <td>1197.0</td>\n",
       "      <td>2.0</td>\n",
       "      <td>3.307499</td>\n",
       "      <td>9.0</td>\n",
       "      <td>9.162927</td>\n",
       "      <td>...</td>\n",
       "      <td>1432809.0</td>\n",
       "      <td>4.0</td>\n",
       "      <td>10.939547</td>\n",
       "      <td>81.0</td>\n",
       "      <td>83.959228</td>\n",
       "      <td>2.514612</td>\n",
       "      <td>225.0</td>\n",
       "      <td>1.0</td>\n",
       "      <td>3370.328224</td>\n",
       "      <td>1.0</td>\n",
       "    </tr>\n",
       "    <tr>\n",
       "      <th>49719</th>\n",
       "      <td>1.0</td>\n",
       "      <td>328.068358</td>\n",
       "      <td>1363.234204</td>\n",
       "      <td>2.0</td>\n",
       "      <td>1122.204442</td>\n",
       "      <td>702.0</td>\n",
       "      <td>1.0</td>\n",
       "      <td>0.728222</td>\n",
       "      <td>9.0</td>\n",
       "      <td>16.959000</td>\n",
       "      <td>...</td>\n",
       "      <td>492804.0</td>\n",
       "      <td>1.0</td>\n",
       "      <td>0.530308</td>\n",
       "      <td>81.0</td>\n",
       "      <td>287.607685</td>\n",
       "      <td>3.895789</td>\n",
       "      <td>784.0</td>\n",
       "      <td>400.0</td>\n",
       "      <td>40302.293149</td>\n",
       "      <td>1.0</td>\n",
       "    </tr>\n",
       "  </tbody>\n",
       "</table>\n",
       "<p>2 rows × 29 columns</p>\n",
       "</div>"
      ],
      "text/plain": [
       "       const    Township   Owner Name  Prop Category  Physical Addr    Size  \\\n",
       "5757     1.0   34.781845  3570.483216            2.0     304.419843  1197.0   \n",
       "49719    1.0  328.068358  1363.234204            2.0    1122.204442   702.0   \n",
       "\n",
       "       Supp RollNo  Effect Date  Zone Code  Usage Code  ...   Size_sqr  \\\n",
       "5757           2.0     3.307499        9.0    9.162927  ...  1432809.0   \n",
       "49719          1.0     0.728222        9.0   16.959000  ...   492804.0   \n",
       "\n",
       "       Supp RollNo_sqr  Effect Date_sqr  Zone Code_sqr  Usage Code_sqr  \\\n",
       "5757               4.0        10.939547           81.0       83.959228   \n",
       "49719              1.0         0.530308           81.0      287.607685   \n",
       "\n",
       "       Valuation Type_sqr  Ward_sqr  Cycle_sqr  Meter Book_sqr  Val Cnt_sqr  \n",
       "5757             2.514612     225.0        1.0     3370.328224          1.0  \n",
       "49719            3.895789     784.0      400.0    40302.293149          1.0  \n",
       "\n",
       "[2 rows x 29 columns]"
      ]
     },
     "execution_count": 103,
     "metadata": {},
     "output_type": "execute_result"
    }
   ],
   "source": [
    "data_list = [X_train, X_trained_square]\n",
    "\n",
    "X_train_sqr = pd.concat(data_list, axis=1)\n",
    "X_train_sqr.head(2)"
   ]
  },
  {
   "cell_type": "markdown",
   "metadata": {
    "id": "PWki33UFX4Et"
   },
   "source": [
    "#### <b> Complete training data for polynomial of degree 3: <b>\n",
    "In this next cell, we join our original training data with the training input data with a polynomial degree of 2 and with the training input data with a polynomial degree of 3."
   ]
  },
  {
   "cell_type": "code",
   "execution_count": 104,
   "metadata": {
    "id": "xV1a6kXgX4Et",
    "outputId": "14ed503a-56af-4771-efad-4abbf9b7176c"
   },
   "outputs": [
    {
     "data": {
      "text/html": [
       "<div>\n",
       "<style scoped>\n",
       "    .dataframe tbody tr th:only-of-type {\n",
       "        vertical-align: middle;\n",
       "    }\n",
       "\n",
       "    .dataframe tbody tr th {\n",
       "        vertical-align: top;\n",
       "    }\n",
       "\n",
       "    .dataframe thead th {\n",
       "        text-align: right;\n",
       "    }\n",
       "</style>\n",
       "<table border=\"1\" class=\"dataframe\">\n",
       "  <thead>\n",
       "    <tr style=\"text-align: right;\">\n",
       "      <th></th>\n",
       "      <th>const</th>\n",
       "      <th>Township</th>\n",
       "      <th>Owner Name</th>\n",
       "      <th>Prop Category</th>\n",
       "      <th>Physical Addr</th>\n",
       "      <th>Size</th>\n",
       "      <th>Supp RollNo</th>\n",
       "      <th>Effect Date</th>\n",
       "      <th>Zone Code</th>\n",
       "      <th>Usage Code</th>\n",
       "      <th>...</th>\n",
       "      <th>Size_cb</th>\n",
       "      <th>Supp RollNo_cb</th>\n",
       "      <th>Effect Date_cb</th>\n",
       "      <th>Zone Code_cb</th>\n",
       "      <th>Usage Code_cb</th>\n",
       "      <th>Valuation Type_cb</th>\n",
       "      <th>Ward_cb</th>\n",
       "      <th>Cycle_cb</th>\n",
       "      <th>Meter Book_cb</th>\n",
       "      <th>Val Cnt_cb</th>\n",
       "    </tr>\n",
       "  </thead>\n",
       "  <tbody>\n",
       "    <tr>\n",
       "      <th>5757</th>\n",
       "      <td>1.0</td>\n",
       "      <td>34.781845</td>\n",
       "      <td>3570.483216</td>\n",
       "      <td>2.0</td>\n",
       "      <td>304.419843</td>\n",
       "      <td>1197.0</td>\n",
       "      <td>2.0</td>\n",
       "      <td>3.307499</td>\n",
       "      <td>9.0</td>\n",
       "      <td>9.162927</td>\n",
       "      <td>...</td>\n",
       "      <td>1.715072e+09</td>\n",
       "      <td>8.0</td>\n",
       "      <td>36.182539</td>\n",
       "      <td>729.0</td>\n",
       "      <td>769.312258</td>\n",
       "      <td>3.987554</td>\n",
       "      <td>3375.0</td>\n",
       "      <td>1.0</td>\n",
       "      <td>1.956628e+05</td>\n",
       "      <td>1.0</td>\n",
       "    </tr>\n",
       "    <tr>\n",
       "      <th>49719</th>\n",
       "      <td>1.0</td>\n",
       "      <td>328.068358</td>\n",
       "      <td>1363.234204</td>\n",
       "      <td>2.0</td>\n",
       "      <td>1122.204442</td>\n",
       "      <td>702.0</td>\n",
       "      <td>1.0</td>\n",
       "      <td>0.728222</td>\n",
       "      <td>9.0</td>\n",
       "      <td>16.959000</td>\n",
       "      <td>...</td>\n",
       "      <td>3.459484e+08</td>\n",
       "      <td>1.0</td>\n",
       "      <td>0.386182</td>\n",
       "      <td>729.0</td>\n",
       "      <td>4877.538767</td>\n",
       "      <td>7.689411</td>\n",
       "      <td>21952.0</td>\n",
       "      <td>8000.0</td>\n",
       "      <td>8.090859e+06</td>\n",
       "      <td>1.0</td>\n",
       "    </tr>\n",
       "  </tbody>\n",
       "</table>\n",
       "<p>2 rows × 43 columns</p>\n",
       "</div>"
      ],
      "text/plain": [
       "       const    Township   Owner Name  Prop Category  Physical Addr    Size  \\\n",
       "5757     1.0   34.781845  3570.483216            2.0     304.419843  1197.0   \n",
       "49719    1.0  328.068358  1363.234204            2.0    1122.204442   702.0   \n",
       "\n",
       "       Supp RollNo  Effect Date  Zone Code  Usage Code  ...       Size_cb  \\\n",
       "5757           2.0     3.307499        9.0    9.162927  ...  1.715072e+09   \n",
       "49719          1.0     0.728222        9.0   16.959000  ...  3.459484e+08   \n",
       "\n",
       "       Supp RollNo_cb  Effect Date_cb  Zone Code_cb  Usage Code_cb  \\\n",
       "5757              8.0       36.182539         729.0     769.312258   \n",
       "49719             1.0        0.386182         729.0    4877.538767   \n",
       "\n",
       "       Valuation Type_cb  Ward_cb  Cycle_cb  Meter Book_cb  Val Cnt_cb  \n",
       "5757            3.987554   3375.0       1.0   1.956628e+05         1.0  \n",
       "49719           7.689411  21952.0    8000.0   8.090859e+06         1.0  \n",
       "\n",
       "[2 rows x 43 columns]"
      ]
     },
     "execution_count": 104,
     "metadata": {},
     "output_type": "execute_result"
    }
   ],
   "source": [
    "data_list = [X_train, X_trained_square,X_trained_cube]\n",
    "\n",
    "X_train_cb = pd.concat(data_list, axis=1)\n",
    "X_train_cb.head(2)"
   ]
  },
  {
   "cell_type": "markdown",
   "metadata": {
    "id": "D5W7jJf-X4Et"
   },
   "source": [
    "### **Model 2: Polynomial linear regression model - polynomial of degree 2**\n",
    "In this section, we fit our model one data with a degree of one and two."
   ]
  },
  {
   "cell_type": "code",
   "execution_count": 105,
   "metadata": {
    "id": "9J0a6R2yX4Eu",
    "outputId": "626efbe5-cd78-469b-a28f-3d91bf08cb6b"
   },
   "outputs": [
    {
     "name": "stdout",
     "output_type": "stream",
     "text": [
      "                            OLS Regression Results                            \n",
      "==============================================================================\n",
      "Dep. Variable:            MarketValue   R-squared:                       0.452\n",
      "Model:                            OLS   Adj. R-squared:                  0.452\n",
      "Method:                 Least Squares   F-statistic:                     820.3\n",
      "Date:                Mon, 21 Jun 2021   Prob (F-statistic):               0.00\n",
      "Time:                        14:44:57   Log-Likelihood:            -3.7778e+05\n",
      "No. Observations:               26858   AIC:                         7.556e+05\n",
      "Df Residuals:                   26830   BIC:                         7.558e+05\n",
      "Df Model:                          27                                         \n",
      "Covariance Type:            nonrobust                                         \n",
      "======================================================================================\n",
      "                         coef    std err          t      P>|t|      [0.025      0.975]\n",
      "--------------------------------------------------------------------------------------\n",
      "const               6.018e+05   2.87e+04     20.937      0.000    5.45e+05    6.58e+05\n",
      "Township           -1491.5893     96.286    -15.491      0.000   -1680.314   -1302.865\n",
      "Owner Name             5.5186      1.374      4.017      0.000       2.826       8.211\n",
      "Prop Category       -2.84e+05   1.34e+04    -21.265      0.000    -3.1e+05   -2.58e+05\n",
      "Physical Addr       -550.2804     37.449    -14.694      0.000    -623.681    -476.879\n",
      "Size                   0.1844      0.018     10.362      0.000       0.150       0.219\n",
      "Supp RollNo         4.361e+04   1.44e+04      3.037      0.002    1.55e+04    7.18e+04\n",
      "Effect Date         6037.9804   6099.583      0.990      0.322   -5917.522     1.8e+04\n",
      "Zone Code            335.9720   3808.150      0.088      0.930   -7128.202    7800.147\n",
      "Usage Code         -1890.4498   2393.109     -0.790      0.430   -6581.068    2800.169\n",
      "Valuation Type      1.356e+04   1.37e+04      0.991      0.322   -1.33e+04    4.04e+04\n",
      "Ward                1.784e+04    430.186     41.477      0.000     1.7e+04    1.87e+04\n",
      "Cycle              -3.579e+04    591.861    -60.472      0.000    -3.7e+04   -3.46e+04\n",
      "Meter Book          3250.4725    237.968     13.659      0.000    2784.042    3716.903\n",
      "Val Cnt             4.197e+05   1.63e+04     25.753      0.000    3.88e+05    4.52e+05\n",
      "Township_sqr           2.5958      0.189     13.722      0.000       2.225       2.967\n",
      "Owner Name_sqr        -0.0001   5.43e-05     -2.246      0.025      -0.000   -1.55e-05\n",
      "Prop Category_sqr   3.486e+04   1421.963     24.517      0.000    3.21e+04    3.77e+04\n",
      "Physical Addr_sqr      0.2450      0.029      8.326      0.000       0.187       0.303\n",
      "Size_sqr           -9.328e-09   1.06e-09     -8.763      0.000   -1.14e-08   -7.24e-09\n",
      "Supp RollNo_sqr     4718.9387   2476.095      1.906      0.057    -134.337    9572.215\n",
      "Effect Date_sqr    -1.018e+04   1303.893     -7.808      0.000   -1.27e+04   -7625.178\n",
      "Zone Code_sqr         29.8465    121.797      0.245      0.806    -208.883     268.576\n",
      "Usage Code_sqr        73.0018     55.636      1.312      0.189     -36.049     182.052\n",
      "Valuation Type_sqr -1406.9120   3645.484     -0.386      0.700   -8552.251    5738.427\n",
      "Ward_sqr             -17.7650      0.426    -41.744      0.000     -18.599     -16.931\n",
      "Cycle_sqr            691.1589     10.847     63.721      0.000     669.899     712.419\n",
      "Meter Book_sqr       -16.5079      0.965    -17.103      0.000     -18.400     -14.616\n",
      "Val Cnt_sqr        -7.125e+04   2.58e+04     -2.761      0.006   -1.22e+05   -2.07e+04\n",
      "==============================================================================\n",
      "Omnibus:                     3221.266   Durbin-Watson:                   1.990\n",
      "Prob(Omnibus):                  0.000   Jarque-Bera (JB):             5324.093\n",
      "Skew:                           0.835   Prob(JB):                         0.00\n",
      "Kurtosis:                       4.402   Cond. No.                     1.59e+15\n",
      "==============================================================================\n",
      "\n",
      "Notes:\n",
      "[1] Standard Errors assume that the covariance matrix of the errors is correctly specified.\n",
      "[2] The condition number is large, 1.59e+15. This might indicate that there are\n",
      "strong multicollinearity or other numerical problems.\n"
     ]
    }
   ],
   "source": [
    "model = sm.OLS(y_train, X_train_sqr)\n",
    "result = model.fit()\n",
    "print(result.summary())"
   ]
  },
  {
   "cell_type": "markdown",
   "metadata": {
    "id": "hgm6Gv-VX4Eu"
   },
   "source": [
    "From the above model, we have an R-squared value of $\\approx 0.45$. The model also has multicollinearity between some of the variables, hence it produced a high condition number."
   ]
  },
  {
   "cell_type": "markdown",
   "metadata": {
    "id": "Lvmlk-BwX4Eu"
   },
   "source": [
    "### **Model 3 : Polynomial linear regression model - polynomial of degree 3**"
   ]
  },
  {
   "cell_type": "code",
   "execution_count": 106,
   "metadata": {
    "id": "AJeMTqP-X4Eu",
    "outputId": "58b7840d-becb-4305-a1b6-632f6e6aaa67"
   },
   "outputs": [
    {
     "name": "stdout",
     "output_type": "stream",
     "text": [
      "                            OLS Regression Results                            \n",
      "==============================================================================\n",
      "Dep. Variable:            MarketValue   R-squared:                      -0.455\n",
      "Model:                            OLS   Adj. R-squared:                 -0.455\n",
      "Method:                 Least Squares   F-statistic:                    -1199.\n",
      "Date:                Mon, 21 Jun 2021   Prob (F-statistic):               1.00\n",
      "Time:                        14:44:58   Log-Likelihood:            -3.9090e+05\n",
      "No. Observations:               26858   AIC:                         7.818e+05\n",
      "Df Residuals:                   26850   BIC:                         7.819e+05\n",
      "Df Model:                           7                                         \n",
      "Covariance Type:            nonrobust                                         \n",
      "======================================================================================\n",
      "                         coef    std err          t      P>|t|      [0.025      0.975]\n",
      "--------------------------------------------------------------------------------------\n",
      "const               3.642e-06   7.17e-07      5.082      0.000    2.24e-06    5.05e-06\n",
      "Township            3.554e-07   7.11e-08      5.002      0.000    2.16e-07    4.95e-07\n",
      "Owner Name          1.237e-06   7.72e-08     16.025      0.000    1.09e-06    1.39e-06\n",
      "Prop Category       1.468e-09   3.01e-10      4.873      0.000    8.78e-10    2.06e-09\n",
      "Physical Addr       8.893e-08    1.1e-08      8.090      0.000    6.74e-08     1.1e-07\n",
      "Size                1.344e-05   2.86e-06      4.708      0.000    7.85e-06     1.9e-05\n",
      "Supp RollNo         4.555e-10   7.04e-11      6.473      0.000    3.18e-10    5.93e-10\n",
      "Effect Date         3.554e-10   4.37e-11      8.133      0.000     2.7e-10    4.41e-10\n",
      "Zone Code           3.884e-09   6.53e-10      5.953      0.000    2.61e-09    5.16e-09\n",
      "Usage Code          7.481e-09   1.58e-09      4.743      0.000    4.39e-09    1.06e-08\n",
      "Valuation Type      9.749e-10   2.04e-10      4.771      0.000    5.74e-10    1.38e-09\n",
      "Ward                 5.83e-09   8.44e-10      6.909      0.000    4.18e-09    7.48e-09\n",
      "Cycle               2.498e-08   6.01e-09      4.158      0.000    1.32e-08    3.67e-08\n",
      "Meter Book          1.481e-07   3.71e-08      3.990      0.000    7.54e-08    2.21e-07\n",
      "Val Cnt             4.537e-10   8.92e-11      5.086      0.000    2.79e-10    6.29e-10\n",
      "Township_sqr        3.057e-05   4.27e-06      7.166      0.000    2.22e-05    3.89e-05\n",
      "Owner Name_sqr         0.0066   8.33e-05     79.680      0.000       0.006       0.007\n",
      "Prop Category_sqr   7.207e-09   1.52e-09      4.746      0.000    4.23e-09    1.02e-08\n",
      "Physical Addr_sqr   1.513e-05   8.92e-07     16.962      0.000    1.34e-05    1.69e-05\n",
      "Size_sqr            2.387e-08   3.79e-09      6.303      0.000    1.64e-08    3.13e-08\n",
      "Supp RollNo_sqr     5.463e-10   1.89e-11     28.935      0.000    5.09e-10    5.83e-10\n",
      "Effect Date_sqr     1.502e-10   9.17e-11      1.638      0.102   -2.96e-11     3.3e-10\n",
      "Zone Code_sqr       3.457e-08    3.7e-09      9.351      0.000    2.73e-08    4.18e-08\n",
      "Usage Code_sqr      1.361e-07   2.92e-08      4.656      0.000    7.88e-08    1.93e-07\n",
      "Valuation Type_sqr  2.147e-09   4.61e-10      4.654      0.000    1.24e-09    3.05e-09\n",
      "Ward_sqr            4.257e-07   7.55e-08      5.640      0.000    2.78e-07    5.74e-07\n",
      "Cycle_sqr           1.236e-06   3.02e-07      4.099      0.000    6.45e-07    1.83e-06\n",
      "Meter Book_sqr      3.385e-05   8.86e-06      3.821      0.000    1.65e-05    5.12e-05\n",
      "Val Cnt_sqr         4.512e-10   8.85e-11      5.097      0.000    2.78e-10    6.25e-10\n",
      "Township_cb            0.0069      0.000     42.864      0.000       0.007       0.007\n",
      "Owner Name_cb      -2.716e-07   3.66e-09    -74.261      0.000   -2.79e-07   -2.64e-07\n",
      "Prop Category_cb    4.817e-08   1.03e-08      4.698      0.000    2.81e-08    6.83e-08\n",
      "Physical Addr_cb      -0.0003   1.09e-05    -24.388      0.000      -0.000      -0.000\n",
      "Size_cb            -9.526e-16   1.73e-16     -5.496      0.000   -1.29e-15   -6.13e-16\n",
      "Supp RollNo_cb      1.071e-09   1.74e-10      6.160      0.000    7.31e-10    1.41e-09\n",
      "Effect Date_cb     -9.172e-10   7.05e-10     -1.300      0.194    -2.3e-09    4.65e-10\n",
      "Zone Code_cb         3.26e-07    6.6e-09     49.398      0.000    3.13e-07    3.39e-07\n",
      "Usage Code_cb       2.626e-06   5.55e-07      4.728      0.000    1.54e-06    3.71e-06\n",
      "Valuation Type_cb   4.933e-09   1.08e-09      4.586      0.000    2.82e-09    7.04e-09\n",
      "Ward_cb                0.0003   6.92e-05      3.696      0.000       0.000       0.000\n",
      "Cycle_cb             6.93e-05   1.73e-05      4.010      0.000    3.54e-05       0.000\n",
      "Meter Book_cb          0.0072      0.002      3.748      0.000       0.003       0.011\n",
      "Val Cnt_cb          4.434e-10   8.64e-11      5.132      0.000    2.74e-10    6.13e-10\n",
      "==============================================================================\n",
      "Omnibus:                     2446.934   Durbin-Watson:                   1.707\n",
      "Prob(Omnibus):                  0.000   Jarque-Bera (JB):             3168.451\n",
      "Skew:                           0.831   Prob(JB):                         0.00\n",
      "Kurtosis:                       3.257   Cond. No.                     2.79e+16\n",
      "==============================================================================\n",
      "\n",
      "Notes:\n",
      "[1] Standard Errors assume that the covariance matrix of the errors is correctly specified.\n",
      "[2] The condition number is large, 2.79e+16. This might indicate that there are\n",
      "strong multicollinearity or other numerical problems.\n"
     ]
    }
   ],
   "source": [
    "model = sm.OLS(y_train, X_train_cb)\n",
    "result = model.fit()\n",
    "print(result.summary())"
   ]
  },
  {
   "cell_type": "markdown",
   "metadata": {
    "id": "gsJdInG-X4Ev"
   },
   "source": [
    "From the above model, we have an R-squared value of $\\approx -0.46$. The model also has multicollinearity between some of the variables, hence it produced a high condition number."
   ]
  },
  {
   "cell_type": "markdown",
   "metadata": {
    "id": "FZ6I4S-SX4Ev"
   },
   "source": [
    "### ***Discussion of our initial models:***\n",
    "\n",
    "From the above models,  the polynomial linear regression model with a polynomial of degree 2 has the highest R-squared value, followed by the polynomial linear regression model with a polynomial of degree 3, this model performed the worst with a negative R-squared, meaning this model is not fitting the data. We will continue and optimized all the models and see which one will be the best. Since our model selection is based on R-squared the best model will be the one with the highest R-squared value."
   ]
  },
  {
   "cell_type": "markdown",
   "metadata": {
    "id": "SMITmvQkX4Ev"
   },
   "source": [
    "### <b> Optimizing the regression model: </b>\n",
    "We use different methods to optimize our regression method, intending to improve our model's performance by:\n",
    "1. Using Variance Inflation Factors(VIF) to remove features causing multicollinearity.\n",
    "2. Forward-Backwards feature selection to add significant features.\n",
    " 3. Forward Selection to fit the optimal model."
   ]
  },
  {
   "cell_type": "markdown",
   "metadata": {
    "id": "wzgjQshZX4Ew"
   },
   "source": [
    "### **Feature Selection:**"
   ]
  },
  {
   "cell_type": "markdown",
   "metadata": {
    "id": "bauLijqHX4Ew"
   },
   "source": [
    "#### **Using VIF to remove features:**\n",
    "\n",
    "Below, we investigate the Variance inflation factor (VIF) to measure the amount of multicollinearity in the features. We will use the function in the below cell to calculate VIF and remove features that have a VIF value greater than our threshold of 5.0. We will apply this function to the different three datasets we produced above for training purposes. The first data set contains the original training dataset and the remaining datasets are the transformed forms of the original training dataset."
   ]
  },
  {
   "cell_type": "code",
   "execution_count": 107,
   "metadata": {
    "id": "propW9gzX4Ew"
   },
   "outputs": [],
   "source": [
    "def calculate_vif_(X, thresh=5.0):\n",
    "    variables = list(range(X.shape[1]))\n",
    "    dropped = True\n",
    "    while dropped:\n",
    "        dropped = False\n",
    "        vif = [variance_inflation_factor(X.iloc[:, variables].values, ix)\n",
    "               for ix in range(X.iloc[:, variables].shape[1])]\n",
    "\n",
    "        maxloc = vif.index(max(vif))\n",
    "        if max(vif) > thresh:\n",
    "            print('dropping \\'' + X.iloc[:, variables].columns[maxloc] +\n",
    "                  '\\' at index: ' + str(maxloc))\n",
    "            del variables[maxloc]\n",
    "            dropped = True\n",
    "\n",
    "    print('Remaining variables:')\n",
    "    print(X.columns[variables])\n",
    "    return X.iloc[:, variables]"
   ]
  },
  {
   "cell_type": "markdown",
   "metadata": {
    "id": "ajPyypdmX4Ex"
   },
   "source": [
    "##### **VIF applied for normal linear regression:**\n",
    "In this next cell, we apply the VIF function to the original training set."
   ]
  },
  {
   "cell_type": "code",
   "execution_count": 108,
   "metadata": {
    "id": "bjDx8yyVX4Ex",
    "outputId": "3ed74028-f5be-42c7-8f75-3aa8631f4065"
   },
   "outputs": [
    {
     "name": "stdout",
     "output_type": "stream",
     "text": [
      "dropping 'const' at index: 0\n",
      "dropping 'Zone Code' at index: 7\n",
      "dropping 'Val Cnt' at index: 12\n",
      "dropping 'Meter Book' at index: 11\n",
      "dropping 'Township' at index: 0\n",
      "dropping 'Usage Code' at index: 6\n",
      "dropping 'Supp RollNo' at index: 4\n",
      "dropping 'Physical Addr' at index: 2\n",
      "Remaining variables:\n",
      "Index(['Owner Name', 'Prop Category', 'Size', 'Effect Date', 'Valuation Type',\n",
      "       'Ward', 'Cycle'],\n",
      "      dtype='object')\n"
     ]
    }
   ],
   "source": [
    "X_train = calculate_vif_(X_train)"
   ]
  },
  {
   "cell_type": "markdown",
   "metadata": {
    "id": "s2vz0s1uX4Ey"
   },
   "source": [
    "##### **VIF applied for polynomial Linear regression of degree 2:**\n",
    "In this next cell, we apply the VIF function to the training set with linear features and features with a polynomial degree of 2."
   ]
  },
  {
   "cell_type": "code",
   "execution_count": 109,
   "metadata": {
    "id": "ApgPOlidX4Ey",
    "outputId": "e7c67746-99be-469a-a3a9-b3432fb2c17a"
   },
   "outputs": [
    {
     "name": "stderr",
     "output_type": "stream",
     "text": [
      "/home/tas/.local/lib/python3.8/site-packages/statsmodels/regression/linear_model.py:1715: RuntimeWarning: divide by zero encountered in double_scalars\n",
      "  return 1 - self.ssr/self.centered_tss\n"
     ]
    },
    {
     "name": "stdout",
     "output_type": "stream",
     "text": [
      "dropping 'Ward' at index: 11\n",
      "dropping 'Prop Category_sqr' at index: 16\n",
      "dropping 'Val Cnt_sqr' at index: 26\n",
      "dropping 'Meter Book' at index: 12\n",
      "dropping 'Supp RollNo' at index: 6\n",
      "dropping 'Zone Code' at index: 7\n",
      "dropping 'Township' at index: 1\n",
      "dropping 'Physical Addr_sqr' at index: 12\n",
      "dropping 'Owner Name_sqr' at index: 11\n",
      "dropping 'Valuation Type' at index: 7\n",
      "dropping 'Usage Code' at index: 6\n",
      "dropping 'Cycle' at index: 6\n",
      "dropping 'Effect Date_sqr' at index: 10\n",
      "Remaining variables:\n",
      "Index(['const', 'Owner Name', 'Prop Category', 'Physical Addr', 'Size',\n",
      "       'Effect Date', 'Val Cnt', 'Township_sqr', 'Size_sqr', 'Supp RollNo_sqr',\n",
      "       'Zone Code_sqr', 'Usage Code_sqr', 'Valuation Type_sqr', 'Ward_sqr',\n",
      "       'Cycle_sqr', 'Meter Book_sqr'],\n",
      "      dtype='object')\n"
     ]
    }
   ],
   "source": [
    "X_train_sqr = calculate_vif_(X_train_sqr)"
   ]
  },
  {
   "cell_type": "markdown",
   "metadata": {
    "id": "Zoqspco9X4Ez"
   },
   "source": [
    "##### **VIF applied for polynomial Linear regression of degree 3:**\n",
    "In this next cell, we apply the VIF function to the training set with linear features and features with a polynomial degree of 2."
   ]
  },
  {
   "cell_type": "code",
   "execution_count": 110,
   "metadata": {
    "id": "B1wUYgVxX4Ez",
    "outputId": "81e06567-e251-4aa9-e5b3-6fddd7fa1014"
   },
   "outputs": [
    {
     "name": "stdout",
     "output_type": "stream",
     "text": [
      "dropping 'Ward_sqr' at index: 25\n",
      "dropping 'Size_sqr' at index: 19\n",
      "dropping 'Owner Name_cb' at index: 28\n",
      "dropping 'Meter Book_sqr' at index: 25\n",
      "dropping 'Township_sqr' at index: 15\n",
      "dropping 'Physical Addr' at index: 4\n",
      "dropping 'Physical Addr_cb' at index: 26\n",
      "dropping 'Ward' at index: 10\n",
      "dropping 'Owner Name' at index: 2\n",
      "dropping 'Township' at index: 1\n",
      "Remaining variables:\n",
      "Index(['const', 'Prop Category', 'Size', 'Supp RollNo', 'Effect Date',\n",
      "       'Zone Code', 'Usage Code', 'Valuation Type', 'Cycle', 'Meter Book',\n",
      "       'Val Cnt', 'Owner Name_sqr', 'Prop Category_sqr', 'Physical Addr_sqr',\n",
      "       'Supp RollNo_sqr', 'Effect Date_sqr', 'Zone Code_sqr', 'Usage Code_sqr',\n",
      "       'Valuation Type_sqr', 'Cycle_sqr', 'Val Cnt_sqr', 'Township_cb',\n",
      "       'Prop Category_cb', 'Size_cb', 'Supp RollNo_cb', 'Effect Date_cb',\n",
      "       'Zone Code_cb', 'Usage Code_cb', 'Valuation Type_cb', 'Ward_cb',\n",
      "       'Cycle_cb', 'Meter Book_cb', 'Val Cnt_cb'],\n",
      "      dtype='object')\n"
     ]
    }
   ],
   "source": [
    "X_train_cb = calculate_vif_(X_train_cb)"
   ]
  },
  {
   "cell_type": "markdown",
   "metadata": {
    "id": "D5sUD0D3X4Ez"
   },
   "source": [
    "<br></br>\n",
    "Our stepwise function is where most of the features will be selected. We will use the p-values to determine if a variable should be added to our model. If the p-value is less than 5% we discard the feature.\n",
    "\n",
    "Hypothesis testing on the features:\n",
    "\n",
    "On each feature, we are testing whether the feature has no impact on the market value $H_{0}: B_{1}= B_{2} = ... = B_{n} = 0$ \n",
    "\n",
    "Our error term is 5% (0.05).\n",
    "\n",
    "The t-stat we will receive will be used to calculate the p-value, for each feature. If the p-value is less than our error term which is 0.05 we will reject the null hypothesis and therefore will add the feature into our model since the null hypothesis says that it does not have an influence on the market value is rejected. If we get any value with a p-value higher than 0.05, we will fail to reject the null hypothesis thus there is a chance that the feature does not have an influence on market value thus we discard it from our model.\n",
    "<br></br>"
   ]
  },
  {
   "cell_type": "markdown",
   "metadata": {
    "id": "Y4uPs5VRX4E1"
   },
   "source": [
    "#### **Forward stepwise selection:**\n",
    "In this next cell, we present our forward stepwise feature selection function."
   ]
  },
  {
   "cell_type": "code",
   "execution_count": 111,
   "metadata": {
    "id": "qqFGCO4lX4E1"
   },
   "outputs": [],
   "source": [
    "def stepwise_selection_forward(X, y, \n",
    "                       initial_list=[], \n",
    "                       threshold_in=0.05,\n",
    "                       verbose=True):\n",
    "    \"\"\" Perform a forward-backward feature selection \n",
    "    based on p-value from statsmodels.api.OLS\n",
    "    Parameters:\n",
    "        X - pandas.DataFrame with candidate features\n",
    "        y - list-like with the target\n",
    "        initial_list - list of features to start with (column names of X)\n",
    "        threshold_in - include a feature if its p-value < threshold_in\n",
    "        threshold_out - exclude a feature if its p-value > threshold_out\n",
    "        verbose - whether to print the sequence of inclusions and exclusions\n",
    "    Returns: list of selected features \n",
    "    \"\"\"\n",
    "    included = list(initial_list)\n",
    "    while True:\n",
    "        changed=False\n",
    "        # forward step\n",
    "        excluded = list(set(X.columns)-set(included))\n",
    "        new_pval = pd.Series(index=excluded, dtype='float64')\n",
    "        for new_column in excluded:\n",
    "            model = sm.OLS(y, pd.DataFrame(X[included+[new_column]])).fit()\n",
    "            new_pval[new_column] = model.pvalues[new_column]\n",
    "        best_pval = new_pval.min()\n",
    "        if best_pval < threshold_in:\n",
    "            best_feature = new_pval.idxmin()\n",
    "            included.append(best_feature)\n",
    "            changed=True\n",
    "            if verbose:\n",
    "                print('Add  {:30} with p-value {:.6}'.format(best_feature, best_pval))\n",
    "        \n",
    "        if not changed:\n",
    "            break\n",
    "\n",
    "        \n",
    "    return included"
   ]
  },
  {
   "cell_type": "markdown",
   "metadata": {
    "id": "nUso5BDgX4E2"
   },
   "source": [
    "Since the p-value of the features is influenced by other feature in the model, we have to do Backwards stepwise selection to discard those feature that has changed p-value such that the new p-value is greater than 0.05 and thus falls outside our rejection region of the null hypothesis."
   ]
  },
  {
   "cell_type": "markdown",
   "metadata": {
    "id": "lXTNmJ-gX4E2"
   },
   "source": [
    "#### **Backwards stepwise selection:**\n",
    "In the next cell, we present our backward stepwise feature selection function."
   ]
  },
  {
   "cell_type": "code",
   "execution_count": 112,
   "metadata": {
    "id": "SDD-7s_MX4E3"
   },
   "outputs": [],
   "source": [
    "def stepwise_selection_backwards(X, y, \n",
    "                       initial_list=[],\n",
    "                       threshold_out = 0.05, \n",
    "                       verbose=True):\n",
    "    \"\"\" Perform a forward-backward feature selection \n",
    "    based on p-value from statsmodels.api.OLS\n",
    "    Parameters:\n",
    "        X - pandas.DataFrame with candidate features\n",
    "        y - list-like with the target\n",
    "        initial_list - list of features to start with (column names of X)\n",
    "        threshold_in - include a feature if its p-value < threshold_in\n",
    "        threshold_out - exclude a feature if its p-value > threshold_out\n",
    "        verbose - whether to print the sequence of inclusions and exclusions\n",
    "    Returns: list of selected features \n",
    "    \"\"\"\n",
    "    included=list(initial_list)\n",
    "\n",
    "    while True:\n",
    "        changed=False\n",
    "        # backward step\n",
    "        model = sm.OLS(y, X[included]).fit()\n",
    "        # use all coefs except intercept\n",
    "        pvalues = model.pvalues.iloc[1:]\n",
    "        worst_pval = pvalues.max() # null if pvalues is empty\n",
    "        if worst_pval > threshold_out:\n",
    "            changed=True\n",
    "            worst_feature = pvalues.idxmax()\n",
    "            included.remove(worst_feature)\n",
    "            if verbose:\n",
    "                print('Drop {:30} with p-value {:.6}'.format(worst_feature, worst_pval))\n",
    "        if not changed:\n",
    "            break\n",
    "        \n",
    "    return included\n"
   ]
  },
  {
   "cell_type": "markdown",
   "metadata": {
    "id": "MdYwHe1BX4E4"
   },
   "source": [
    "#### **Putting data through the stepwise selection process:**\n",
    "In this section, we will put our three training sets through the stepwise selection processes. We show which feature we will include in each model of the three models and which feature we will remove. "
   ]
  },
  {
   "cell_type": "markdown",
   "metadata": {
    "id": "B_9Wj3E7X4E4"
   },
   "source": [
    "##### **For normal Linear regression:**\n"
   ]
  },
  {
   "cell_type": "code",
   "execution_count": 113,
   "metadata": {
    "id": "h-GRSwlXX4E4",
    "outputId": "60aee699-e22d-4c4a-aecc-f266e7e5b9a6"
   },
   "outputs": [
    {
     "name": "stdout",
     "output_type": "stream",
     "text": [
      "Add  Cycle                          with p-value 0.0\n",
      "Add  Prop Category                  with p-value 0.0\n",
      "Add  Valuation Type                 with p-value 0.0\n",
      "Add  Effect Date                    with p-value 0.0\n",
      "Add  Owner Name                     with p-value 7.85355e-12\n",
      "Add  Ward                           with p-value 1.02088e-11\n",
      "Add  Size                           with p-value 8.31049e-08\n"
     ]
    }
   ],
   "source": [
    "remaining_var = stepwise_selection_forward(X_train.loc[:, X_train.columns], y_train) #Need to exclude const because it is also added inside the fuctions\n",
    "remaining_var = stepwise_selection_backwards(X_train.loc[:, X_train.columns], y_train, remaining_var)"
   ]
  },
  {
   "cell_type": "markdown",
   "metadata": {
    "id": "JSEu3aIBX4E5"
   },
   "source": [
    "##### **For polynomial linear regression of degree 2:**\n"
   ]
  },
  {
   "cell_type": "code",
   "execution_count": 114,
   "metadata": {
    "id": "QU-KuhRhX4FH",
    "outputId": "a66a9991-78cc-4196-ef23-bc59adfcdb52"
   },
   "outputs": [
    {
     "name": "stdout",
     "output_type": "stream",
     "text": [
      "Add  Prop Category                  with p-value 0.0\n",
      "Add  Effect Date                    with p-value 0.0\n",
      "Add  Meter Book_sqr                 with p-value 0.0\n",
      "Add  Valuation Type_sqr             with p-value 0.0\n",
      "Add  Val Cnt                        with p-value 0.0\n",
      "Add  Physical Addr                  with p-value 0.0\n",
      "Add  Cycle_sqr                      with p-value 4.89544e-97\n",
      "Add  Supp RollNo_sqr                with p-value 9.16609e-69\n",
      "Add  Township_sqr                   with p-value 3.63132e-46\n",
      "Add  const                          with p-value 4.4964e-11\n",
      "Add  Zone Code_sqr                  with p-value 9.53433e-10\n",
      "Add  Size                           with p-value 2.53915e-08\n",
      "Add  Size_sqr                       with p-value 2.53375e-12\n",
      "Add  Usage Code_sqr                 with p-value 1.65346e-07\n",
      "Add  Ward_sqr                       with p-value 0.000353382\n",
      "Add  Owner Name                     with p-value 0.00163853\n",
      "Drop Val Cnt                        with p-value 0.084386\n"
     ]
    }
   ],
   "source": [
    "remaining_var_two = stepwise_selection_forward(X_train_sqr.loc[:, X_train_sqr.columns], y_train) #Need to exclude const because it is also added inside the fuctions\n",
    "remaining_var_two = stepwise_selection_backwards(X_train_sqr.loc[:, X_train_sqr.columns], y_train, remaining_var_two)"
   ]
  },
  {
   "cell_type": "markdown",
   "metadata": {
    "id": "BWgNBURRX4FJ"
   },
   "source": [
    "##### **For polynomial Linear regression of degree 3:**\n"
   ]
  },
  {
   "cell_type": "code",
   "execution_count": 115,
   "metadata": {
    "id": "7dWUwxwbX4FJ",
    "outputId": "90953fde-81ee-4319-e406-6402bf16429a"
   },
   "outputs": [
    {
     "name": "stdout",
     "output_type": "stream",
     "text": [
      "Add  Supp RollNo                    with p-value 0.0\n",
      "Add  Effect Date_sqr                with p-value 0.0\n",
      "Add  Val Cnt_cb                     with p-value 0.0\n",
      "Add  Meter Book                     with p-value 0.0\n",
      "Add  Prop Category                  with p-value 0.0\n",
      "Add  Val Cnt_sqr                    with p-value 0.0\n",
      "Add  Cycle_cb                       with p-value 5.37606e-275\n",
      "Add  Cycle                          with p-value 5.16887e-246\n",
      "Add  Cycle_sqr                      with p-value 0.0\n",
      "Add  Prop Category_sqr              with p-value 3.7947e-157\n",
      "Add  Physical Addr_sqr              with p-value 2.70312e-57\n",
      "Add  Val Cnt                        with p-value 1.58066e-19\n",
      "Add  Prop Category_cb               with p-value 1.33004e-16\n",
      "Add  const                          with p-value 2.93541e-15\n",
      "Add  Size                           with p-value 1.216e-05\n",
      "Add  Size_cb                        with p-value 4.16842e-42\n",
      "Add  Owner Name_sqr                 with p-value 0.0\n",
      "Add  Valuation Type_cb              with p-value 4.99089e-175\n",
      "Add  Valuation Type_sqr             with p-value 6.71282e-174\n",
      "Add  Valuation Type                 with p-value 2.44772e-172\n",
      "Add  Effect Date                    with p-value 1.00415e-159\n",
      "Add  Meter Book_cb                  with p-value 2.83007e-143\n",
      "Add  Effect Date_cb                 with p-value 0.0\n",
      "Add  Supp RollNo_sqr                with p-value 2.99621e-287\n",
      "Add  Supp RollNo_cb                 with p-value 2.07534e-263\n",
      "Add  Usage Code_cb                  with p-value 1.97787e-150\n",
      "Add  Zone Code                      with p-value 3e-251\n",
      "Add  Usage Code                     with p-value 1.43411e-234\n",
      "Add  Zone Code_sqr                  with p-value 2.35706e-185\n",
      "Add  Usage Code_sqr                 with p-value 6.06856e-171\n",
      "Add  Zone Code_cb                   with p-value 2.66873e-153\n",
      "Add  Township_cb                    with p-value 6.71132e-45\n",
      "Add  Ward_cb                        with p-value 0.038602\n"
     ]
    }
   ],
   "source": [
    "remaining_var_three = stepwise_selection_forward(X_train_cb.loc[:, X_train_cb.columns], y_train) #Need to exclude const because it is also added inside the fuctions\n",
    "remaining_var_three = stepwise_selection_backwards(X_train_cb.loc[:, X_train_cb.columns], y_train, remaining_var_three)"
   ]
  },
  {
   "cell_type": "markdown",
   "metadata": {
    "id": "emCQLPnCX4FK"
   },
   "source": [
    "#### **Presenting the new models with the constants as part of our models:**"
   ]
  },
  {
   "cell_type": "markdown",
   "metadata": {
    "id": "lRvVsls6X4FK"
   },
   "source": [
    "##### **For normal Linear regression:**\n"
   ]
  },
  {
   "cell_type": "code",
   "execution_count": 116,
   "metadata": {
    "id": "p_u7xNQvX4FK",
    "outputId": "1721b620-bcc2-4d13-b7db-1f66dc83e2c0"
   },
   "outputs": [
    {
     "data": {
      "text/html": [
       "<table class=\"simpletable\">\n",
       "<caption>OLS Regression Results</caption>\n",
       "<tr>\n",
       "  <th>Dep. Variable:</th>       <td>MarketValue</td>   <th>  R-squared:         </th>  <td>   0.110</td>  \n",
       "</tr>\n",
       "<tr>\n",
       "  <th>Model:</th>                   <td>OLS</td>       <th>  Adj. R-squared:    </th>  <td>   0.110</td>  \n",
       "</tr>\n",
       "<tr>\n",
       "  <th>Method:</th>             <td>Least Squares</td>  <th>  F-statistic:       </th>  <td>   473.2</td>  \n",
       "</tr>\n",
       "<tr>\n",
       "  <th>Date:</th>             <td>Mon, 21 Jun 2021</td> <th>  Prob (F-statistic):</th>   <td>  0.00</td>   \n",
       "</tr>\n",
       "<tr>\n",
       "  <th>Time:</th>                 <td>14:47:02</td>     <th>  Log-Likelihood:    </th> <td>-3.8430e+05</td>\n",
       "</tr>\n",
       "<tr>\n",
       "  <th>No. Observations:</th>      <td> 26858</td>      <th>  AIC:               </th>  <td>7.686e+05</td> \n",
       "</tr>\n",
       "<tr>\n",
       "  <th>Df Residuals:</th>          <td> 26850</td>      <th>  BIC:               </th>  <td>7.687e+05</td> \n",
       "</tr>\n",
       "<tr>\n",
       "  <th>Df Model:</th>              <td>     7</td>      <th>                     </th>      <td> </td>     \n",
       "</tr>\n",
       "<tr>\n",
       "  <th>Covariance Type:</th>      <td>nonrobust</td>    <th>                     </th>      <td> </td>     \n",
       "</tr>\n",
       "</table>\n",
       "<table class=\"simpletable\">\n",
       "<tr>\n",
       "         <td></td>           <th>coef</th>     <th>std err</th>      <th>t</th>      <th>P>|t|</th>  <th>[0.025</th>    <th>0.975]</th>  \n",
       "</tr>\n",
       "<tr>\n",
       "  <th>const</th>          <td>  4.62e+05</td> <td>  1.2e+04</td> <td>   38.419</td> <td> 0.000</td> <td> 4.38e+05</td> <td> 4.86e+05</td>\n",
       "</tr>\n",
       "<tr>\n",
       "  <th>Cycle</th>          <td>-4090.2583</td> <td>  152.625</td> <td>  -26.799</td> <td> 0.000</td> <td>-4389.412</td> <td>-3791.104</td>\n",
       "</tr>\n",
       "<tr>\n",
       "  <th>Prop Category</th>  <td> 6.882e+04</td> <td> 1965.809</td> <td>   35.010</td> <td> 0.000</td> <td>  6.5e+04</td> <td> 7.27e+04</td>\n",
       "</tr>\n",
       "<tr>\n",
       "  <th>Valuation Type</th> <td>-3.665e+04</td> <td> 4412.732</td> <td>   -8.304</td> <td> 0.000</td> <td>-4.53e+04</td> <td> -2.8e+04</td>\n",
       "</tr>\n",
       "<tr>\n",
       "  <th>Effect Date</th>    <td> 3.577e+04</td> <td> 2505.773</td> <td>   14.275</td> <td> 0.000</td> <td> 3.09e+04</td> <td> 4.07e+04</td>\n",
       "</tr>\n",
       "<tr>\n",
       "  <th>Owner Name</th>     <td>   -5.3289</td> <td>    0.316</td> <td>  -16.880</td> <td> 0.000</td> <td>   -5.948</td> <td>   -4.710</td>\n",
       "</tr>\n",
       "<tr>\n",
       "  <th>Ward</th>           <td> -591.5946</td> <td>   54.472</td> <td>  -10.860</td> <td> 0.000</td> <td> -698.363</td> <td> -484.826</td>\n",
       "</tr>\n",
       "<tr>\n",
       "  <th>Size</th>           <td>    0.0775</td> <td>    0.011</td> <td>    7.057</td> <td> 0.000</td> <td>    0.056</td> <td>    0.099</td>\n",
       "</tr>\n",
       "</table>\n",
       "<table class=\"simpletable\">\n",
       "<tr>\n",
       "  <th>Omnibus:</th>       <td>3410.442</td> <th>  Durbin-Watson:     </th> <td>   1.988</td>\n",
       "</tr>\n",
       "<tr>\n",
       "  <th>Prob(Omnibus):</th>  <td> 0.000</td>  <th>  Jarque-Bera (JB):  </th> <td>4848.830</td>\n",
       "</tr>\n",
       "<tr>\n",
       "  <th>Skew:</th>           <td> 1.013</td>  <th>  Prob(JB):          </th> <td>    0.00</td>\n",
       "</tr>\n",
       "<tr>\n",
       "  <th>Kurtosis:</th>       <td> 3.477</td>  <th>  Cond. No.          </th> <td>1.18e+06</td>\n",
       "</tr>\n",
       "</table><br/><br/>Notes:<br/>[1] Standard Errors assume that the covariance matrix of the errors is correctly specified.<br/>[2] The condition number is large, 1.18e+06. This might indicate that there are<br/>strong multicollinearity or other numerical problems."
      ],
      "text/plain": [
       "<class 'statsmodels.iolib.summary.Summary'>\n",
       "\"\"\"\n",
       "                            OLS Regression Results                            \n",
       "==============================================================================\n",
       "Dep. Variable:            MarketValue   R-squared:                       0.110\n",
       "Model:                            OLS   Adj. R-squared:                  0.110\n",
       "Method:                 Least Squares   F-statistic:                     473.2\n",
       "Date:                Mon, 21 Jun 2021   Prob (F-statistic):               0.00\n",
       "Time:                        14:47:02   Log-Likelihood:            -3.8430e+05\n",
       "No. Observations:               26858   AIC:                         7.686e+05\n",
       "Df Residuals:                   26850   BIC:                         7.687e+05\n",
       "Df Model:                           7                                         \n",
       "Covariance Type:            nonrobust                                         \n",
       "==================================================================================\n",
       "                     coef    std err          t      P>|t|      [0.025      0.975]\n",
       "----------------------------------------------------------------------------------\n",
       "const            4.62e+05    1.2e+04     38.419      0.000    4.38e+05    4.86e+05\n",
       "Cycle          -4090.2583    152.625    -26.799      0.000   -4389.412   -3791.104\n",
       "Prop Category   6.882e+04   1965.809     35.010      0.000     6.5e+04    7.27e+04\n",
       "Valuation Type -3.665e+04   4412.732     -8.304      0.000   -4.53e+04    -2.8e+04\n",
       "Effect Date     3.577e+04   2505.773     14.275      0.000    3.09e+04    4.07e+04\n",
       "Owner Name        -5.3289      0.316    -16.880      0.000      -5.948      -4.710\n",
       "Ward            -591.5946     54.472    -10.860      0.000    -698.363    -484.826\n",
       "Size               0.0775      0.011      7.057      0.000       0.056       0.099\n",
       "==============================================================================\n",
       "Omnibus:                     3410.442   Durbin-Watson:                   1.988\n",
       "Prob(Omnibus):                  0.000   Jarque-Bera (JB):             4848.830\n",
       "Skew:                           1.013   Prob(JB):                         0.00\n",
       "Kurtosis:                       3.477   Cond. No.                     1.18e+06\n",
       "==============================================================================\n",
       "\n",
       "Notes:\n",
       "[1] Standard Errors assume that the covariance matrix of the errors is correctly specified.\n",
       "[2] The condition number is large, 1.18e+06. This might indicate that there are\n",
       "strong multicollinearity or other numerical problems.\n",
       "\"\"\""
      ]
     },
     "execution_count": 116,
     "metadata": {},
     "output_type": "execute_result"
    }
   ],
   "source": [
    "##The we make our new predictions.\n",
    "#Append the bias term into the X data\n",
    "X_train = sm.add_constant(X_train[remaining_var])\n",
    "model = sm.OLS(y_train, X_train)\n",
    "result = model.fit()\n",
    "result.summary()"
   ]
  },
  {
   "cell_type": "markdown",
   "metadata": {
    "id": "i7KWXGctX4FK"
   },
   "source": [
    "##### **For polynomial Linear regression of degree 2:**\n"
   ]
  },
  {
   "cell_type": "code",
   "execution_count": 117,
   "metadata": {
    "id": "7WiTp1iPX4FL",
    "outputId": "5fb04a4f-002c-417d-92a0-304ddcb78769"
   },
   "outputs": [
    {
     "data": {
      "text/html": [
       "<table class=\"simpletable\">\n",
       "<caption>OLS Regression Results</caption>\n",
       "<tr>\n",
       "  <th>Dep. Variable:</th>       <td>MarketValue</td>   <th>  R-squared:         </th>  <td>   0.350</td>  \n",
       "</tr>\n",
       "<tr>\n",
       "  <th>Model:</th>                   <td>OLS</td>       <th>  Adj. R-squared:    </th>  <td>   0.349</td>  \n",
       "</tr>\n",
       "<tr>\n",
       "  <th>Method:</th>             <td>Least Squares</td>  <th>  F-statistic:       </th>  <td>   1030.</td>  \n",
       "</tr>\n",
       "<tr>\n",
       "  <th>Date:</th>             <td>Mon, 21 Jun 2021</td> <th>  Prob (F-statistic):</th>   <td>  0.00</td>   \n",
       "</tr>\n",
       "<tr>\n",
       "  <th>Time:</th>                 <td>14:47:03</td>     <th>  Log-Likelihood:    </th> <td>-3.8009e+05</td>\n",
       "</tr>\n",
       "<tr>\n",
       "  <th>No. Observations:</th>      <td> 26858</td>      <th>  AIC:               </th>  <td>7.602e+05</td> \n",
       "</tr>\n",
       "<tr>\n",
       "  <th>Df Residuals:</th>          <td> 26843</td>      <th>  BIC:               </th>  <td>7.603e+05</td> \n",
       "</tr>\n",
       "<tr>\n",
       "  <th>Df Model:</th>              <td>    14</td>      <th>                     </th>      <td> </td>     \n",
       "</tr>\n",
       "<tr>\n",
       "  <th>Covariance Type:</th>      <td>nonrobust</td>    <th>                     </th>      <td> </td>     \n",
       "</tr>\n",
       "</table>\n",
       "<table class=\"simpletable\">\n",
       "<tr>\n",
       "           <td></td>             <th>coef</th>     <th>std err</th>      <th>t</th>      <th>P>|t|</th>  <th>[0.025</th>    <th>0.975]</th>  \n",
       "</tr>\n",
       "<tr>\n",
       "  <th>Prop Category</th>      <td> 2.055e+04</td> <td> 2372.780</td> <td>    8.660</td> <td> 0.000</td> <td> 1.59e+04</td> <td> 2.52e+04</td>\n",
       "</tr>\n",
       "<tr>\n",
       "  <th>Effect Date</th>        <td>-2.484e+04</td> <td> 2816.007</td> <td>   -8.820</td> <td> 0.000</td> <td>-3.04e+04</td> <td>-1.93e+04</td>\n",
       "</tr>\n",
       "<tr>\n",
       "  <th>Meter Book_sqr</th>     <td>   -6.9361</td> <td>    0.272</td> <td>  -25.542</td> <td> 0.000</td> <td>   -7.468</td> <td>   -6.404</td>\n",
       "</tr>\n",
       "<tr>\n",
       "  <th>Valuation Type_sqr</th> <td>-2049.0474</td> <td> 1040.432</td> <td>   -1.969</td> <td> 0.049</td> <td>-4088.348</td> <td>   -9.747</td>\n",
       "</tr>\n",
       "<tr>\n",
       "  <th>Physical Addr</th>      <td> -437.9534</td> <td>   10.156</td> <td>  -43.123</td> <td> 0.000</td> <td> -457.859</td> <td> -418.047</td>\n",
       "</tr>\n",
       "<tr>\n",
       "  <th>Cycle_sqr</th>          <td>   45.9658</td> <td>    2.663</td> <td>   17.263</td> <td> 0.000</td> <td>   40.747</td> <td>   51.185</td>\n",
       "</tr>\n",
       "<tr>\n",
       "  <th>Supp RollNo_sqr</th>    <td> 9920.4806</td> <td>  585.601</td> <td>   16.941</td> <td> 0.000</td> <td> 8772.672</td> <td> 1.11e+04</td>\n",
       "</tr>\n",
       "<tr>\n",
       "  <th>Township_sqr</th>       <td>    0.4783</td> <td>    0.050</td> <td>    9.627</td> <td> 0.000</td> <td>    0.381</td> <td>    0.576</td>\n",
       "</tr>\n",
       "<tr>\n",
       "  <th>const</th>              <td> 7.847e+05</td> <td> 9023.423</td> <td>   86.961</td> <td> 0.000</td> <td> 7.67e+05</td> <td> 8.02e+05</td>\n",
       "</tr>\n",
       "<tr>\n",
       "  <th>Zone Code_sqr</th>      <td>  223.4044</td> <td>   40.659</td> <td>    5.495</td> <td> 0.000</td> <td>  143.711</td> <td>  303.098</td>\n",
       "</tr>\n",
       "<tr>\n",
       "  <th>Size</th>               <td>    0.1702</td> <td>    0.019</td> <td>    8.839</td> <td> 0.000</td> <td>    0.132</td> <td>    0.208</td>\n",
       "</tr>\n",
       "<tr>\n",
       "  <th>Size_sqr</th>           <td>-8.087e-09</td> <td> 1.16e-09</td> <td>   -7.000</td> <td> 0.000</td> <td>-1.04e-08</td> <td>-5.82e-09</td>\n",
       "</tr>\n",
       "<tr>\n",
       "  <th>Usage Code_sqr</th>     <td>  -45.5963</td> <td>   19.813</td> <td>   -2.301</td> <td> 0.021</td> <td>  -84.430</td> <td>   -6.762</td>\n",
       "</tr>\n",
       "<tr>\n",
       "  <th>Ward_sqr</th>           <td>   -0.1909</td> <td>    0.049</td> <td>   -3.872</td> <td> 0.000</td> <td>   -0.288</td> <td>   -0.094</td>\n",
       "</tr>\n",
       "<tr>\n",
       "  <th>Owner Name</th>         <td>    1.1614</td> <td>    0.370</td> <td>    3.135</td> <td> 0.002</td> <td>    0.435</td> <td>    1.888</td>\n",
       "</tr>\n",
       "</table>\n",
       "<table class=\"simpletable\">\n",
       "<tr>\n",
       "  <th>Omnibus:</th>       <td>2719.304</td> <th>  Durbin-Watson:     </th> <td>   1.999</td>\n",
       "</tr>\n",
       "<tr>\n",
       "  <th>Prob(Omnibus):</th>  <td> 0.000</td>  <th>  Jarque-Bera (JB):  </th> <td>3851.718</td>\n",
       "</tr>\n",
       "<tr>\n",
       "  <th>Skew:</th>           <td> 0.799</td>  <th>  Prob(JB):          </th> <td>    0.00</td>\n",
       "</tr>\n",
       "<tr>\n",
       "  <th>Kurtosis:</th>       <td> 3.942</td>  <th>  Cond. No.          </th> <td>1.63e+13</td>\n",
       "</tr>\n",
       "</table><br/><br/>Notes:<br/>[1] Standard Errors assume that the covariance matrix of the errors is correctly specified.<br/>[2] The condition number is large, 1.63e+13. This might indicate that there are<br/>strong multicollinearity or other numerical problems."
      ],
      "text/plain": [
       "<class 'statsmodels.iolib.summary.Summary'>\n",
       "\"\"\"\n",
       "                            OLS Regression Results                            \n",
       "==============================================================================\n",
       "Dep. Variable:            MarketValue   R-squared:                       0.350\n",
       "Model:                            OLS   Adj. R-squared:                  0.349\n",
       "Method:                 Least Squares   F-statistic:                     1030.\n",
       "Date:                Mon, 21 Jun 2021   Prob (F-statistic):               0.00\n",
       "Time:                        14:47:03   Log-Likelihood:            -3.8009e+05\n",
       "No. Observations:               26858   AIC:                         7.602e+05\n",
       "Df Residuals:                   26843   BIC:                         7.603e+05\n",
       "Df Model:                          14                                         \n",
       "Covariance Type:            nonrobust                                         \n",
       "======================================================================================\n",
       "                         coef    std err          t      P>|t|      [0.025      0.975]\n",
       "--------------------------------------------------------------------------------------\n",
       "Prop Category       2.055e+04   2372.780      8.660      0.000    1.59e+04    2.52e+04\n",
       "Effect Date        -2.484e+04   2816.007     -8.820      0.000   -3.04e+04   -1.93e+04\n",
       "Meter Book_sqr        -6.9361      0.272    -25.542      0.000      -7.468      -6.404\n",
       "Valuation Type_sqr -2049.0474   1040.432     -1.969      0.049   -4088.348      -9.747\n",
       "Physical Addr       -437.9534     10.156    -43.123      0.000    -457.859    -418.047\n",
       "Cycle_sqr             45.9658      2.663     17.263      0.000      40.747      51.185\n",
       "Supp RollNo_sqr     9920.4806    585.601     16.941      0.000    8772.672    1.11e+04\n",
       "Township_sqr           0.4783      0.050      9.627      0.000       0.381       0.576\n",
       "const               7.847e+05   9023.423     86.961      0.000    7.67e+05    8.02e+05\n",
       "Zone Code_sqr        223.4044     40.659      5.495      0.000     143.711     303.098\n",
       "Size                   0.1702      0.019      8.839      0.000       0.132       0.208\n",
       "Size_sqr           -8.087e-09   1.16e-09     -7.000      0.000   -1.04e-08   -5.82e-09\n",
       "Usage Code_sqr       -45.5963     19.813     -2.301      0.021     -84.430      -6.762\n",
       "Ward_sqr              -0.1909      0.049     -3.872      0.000      -0.288      -0.094\n",
       "Owner Name             1.1614      0.370      3.135      0.002       0.435       1.888\n",
       "==============================================================================\n",
       "Omnibus:                     2719.304   Durbin-Watson:                   1.999\n",
       "Prob(Omnibus):                  0.000   Jarque-Bera (JB):             3851.718\n",
       "Skew:                           0.799   Prob(JB):                         0.00\n",
       "Kurtosis:                       3.942   Cond. No.                     1.63e+13\n",
       "==============================================================================\n",
       "\n",
       "Notes:\n",
       "[1] Standard Errors assume that the covariance matrix of the errors is correctly specified.\n",
       "[2] The condition number is large, 1.63e+13. This might indicate that there are\n",
       "strong multicollinearity or other numerical problems.\n",
       "\"\"\""
      ]
     },
     "execution_count": 117,
     "metadata": {},
     "output_type": "execute_result"
    }
   ],
   "source": [
    "##The we make our new predictions.\n",
    "#Append the bias term into the X data\n",
    "X_train_sqr = sm.add_constant(X_train_sqr[remaining_var_two])\n",
    "model = sm.OLS(y_train, X_train_sqr)\n",
    "result_one = model.fit()\n",
    "result_one.summary()"
   ]
  },
  {
   "cell_type": "markdown",
   "metadata": {
    "id": "i0TtpuPZX4FL"
   },
   "source": [
    "##### **For polynomial Linear regression of degree 3:**\n"
   ]
  },
  {
   "cell_type": "code",
   "execution_count": 118,
   "metadata": {
    "id": "gvT0-72hX4FL",
    "outputId": "fc3a7783-79dd-4eb7-e9ac-6764604c95d2"
   },
   "outputs": [
    {
     "data": {
      "text/html": [
       "<table class=\"simpletable\">\n",
       "<caption>OLS Regression Results</caption>\n",
       "<tr>\n",
       "  <th>Dep. Variable:</th>       <td>MarketValue</td>   <th>  R-squared:         </th>  <td>  -0.675</td>  \n",
       "</tr>\n",
       "<tr>\n",
       "  <th>Model:</th>                   <td>OLS</td>       <th>  Adj. R-squared:    </th>  <td>  -0.676</td>  \n",
       "</tr>\n",
       "<tr>\n",
       "  <th>Method:</th>             <td>Least Squares</td>  <th>  F-statistic:       </th>  <td>  -2706.</td>  \n",
       "</tr>\n",
       "<tr>\n",
       "  <th>Date:</th>             <td>Mon, 21 Jun 2021</td> <th>  Prob (F-statistic):</th>   <td>  1.00</td>   \n",
       "</tr>\n",
       "<tr>\n",
       "  <th>Time:</th>                 <td>14:47:03</td>     <th>  Log-Likelihood:    </th> <td>-3.9279e+05</td>\n",
       "</tr>\n",
       "<tr>\n",
       "  <th>No. Observations:</th>      <td> 26858</td>      <th>  AIC:               </th>  <td>7.856e+05</td> \n",
       "</tr>\n",
       "<tr>\n",
       "  <th>Df Residuals:</th>          <td> 26853</td>      <th>  BIC:               </th>  <td>7.856e+05</td> \n",
       "</tr>\n",
       "<tr>\n",
       "  <th>Df Model:</th>              <td>     4</td>      <th>                     </th>      <td> </td>     \n",
       "</tr>\n",
       "<tr>\n",
       "  <th>Covariance Type:</th>      <td>nonrobust</td>    <th>                     </th>      <td> </td>     \n",
       "</tr>\n",
       "</table>\n",
       "<table class=\"simpletable\">\n",
       "<tr>\n",
       "           <td></td>             <th>coef</th>     <th>std err</th>      <th>t</th>      <th>P>|t|</th>  <th>[0.025</th>    <th>0.975]</th>  \n",
       "</tr>\n",
       "<tr>\n",
       "  <th>Supp RollNo</th>        <td>    0.0032</td> <td> 8.84e-05</td> <td>   35.907</td> <td> 0.000</td> <td>    0.003</td> <td>    0.003</td>\n",
       "</tr>\n",
       "<tr>\n",
       "  <th>Effect Date_sqr</th>    <td>   -0.0198</td> <td>    0.001</td> <td>  -20.465</td> <td> 0.000</td> <td>   -0.022</td> <td>   -0.018</td>\n",
       "</tr>\n",
       "<tr>\n",
       "  <th>Val Cnt_cb</th>         <td> 4.891e-07</td> <td> 1.35e-08</td> <td>   36.174</td> <td> 0.000</td> <td> 4.63e-07</td> <td> 5.16e-07</td>\n",
       "</tr>\n",
       "<tr>\n",
       "  <th>Meter Book</th>         <td> 4.153e-05</td> <td> 1.15e-06</td> <td>   36.163</td> <td> 0.000</td> <td> 3.93e-05</td> <td> 4.38e-05</td>\n",
       "</tr>\n",
       "<tr>\n",
       "  <th>Prop Category</th>      <td> 2.177e-06</td> <td> 7.58e-08</td> <td>   28.711</td> <td> 0.000</td> <td> 2.03e-06</td> <td> 2.33e-06</td>\n",
       "</tr>\n",
       "<tr>\n",
       "  <th>Val Cnt_sqr</th>        <td> 4.862e-07</td> <td> 1.34e-08</td> <td>   36.169</td> <td> 0.000</td> <td>  4.6e-07</td> <td> 5.13e-07</td>\n",
       "</tr>\n",
       "<tr>\n",
       "  <th>Cycle_cb</th>           <td>    0.0074</td> <td>    0.001</td> <td>   13.025</td> <td> 0.000</td> <td>    0.006</td> <td>    0.008</td>\n",
       "</tr>\n",
       "<tr>\n",
       "  <th>Cycle</th>              <td> 1.096e-05</td> <td> 3.46e-07</td> <td>   31.639</td> <td> 0.000</td> <td> 1.03e-05</td> <td> 1.16e-05</td>\n",
       "</tr>\n",
       "<tr>\n",
       "  <th>Cycle_sqr</th>          <td>    0.0003</td> <td> 1.33e-05</td> <td>   24.260</td> <td> 0.000</td> <td>    0.000</td> <td>    0.000</td>\n",
       "</tr>\n",
       "<tr>\n",
       "  <th>Prop Category_sqr</th>  <td> 1.397e-05</td> <td> 5.98e-07</td> <td>   23.373</td> <td> 0.000</td> <td> 1.28e-05</td> <td> 1.51e-05</td>\n",
       "</tr>\n",
       "<tr>\n",
       "  <th>Physical Addr_sqr</th>  <td>    0.3316</td> <td>    0.011</td> <td>   29.408</td> <td> 0.000</td> <td>    0.310</td> <td>    0.354</td>\n",
       "</tr>\n",
       "<tr>\n",
       "  <th>Val Cnt</th>            <td> 4.851e-07</td> <td> 1.34e-08</td> <td>   36.167</td> <td> 0.000</td> <td> 4.59e-07</td> <td> 5.11e-07</td>\n",
       "</tr>\n",
       "<tr>\n",
       "  <th>Prop Category_cb</th>   <td>    0.0001</td> <td> 4.79e-06</td> <td>   21.780</td> <td> 0.000</td> <td>  9.5e-05</td> <td>    0.000</td>\n",
       "</tr>\n",
       "<tr>\n",
       "  <th>const</th>              <td> 4.847e-07</td> <td> 1.34e-08</td> <td>   36.167</td> <td> 0.000</td> <td> 4.58e-07</td> <td> 5.11e-07</td>\n",
       "</tr>\n",
       "<tr>\n",
       "  <th>Size</th>               <td>    0.4594</td> <td>    0.022</td> <td>   20.642</td> <td> 0.000</td> <td>    0.416</td> <td>    0.503</td>\n",
       "</tr>\n",
       "<tr>\n",
       "  <th>Size_cb</th>            <td>-8.486e-16</td> <td> 6.24e-17</td> <td>  -13.604</td> <td> 0.000</td> <td>-9.71e-16</td> <td>-7.26e-16</td>\n",
       "</tr>\n",
       "<tr>\n",
       "  <th>Owner Name_sqr</th>     <td>    0.0006</td> <td> 2.22e-05</td> <td>   24.912</td> <td> 0.000</td> <td>    0.001</td> <td>    0.001</td>\n",
       "</tr>\n",
       "<tr>\n",
       "  <th>Valuation Type_cb</th>  <td> 3.803e-06</td> <td> 1.05e-07</td> <td>   36.187</td> <td> 0.000</td> <td>  3.6e-06</td> <td> 4.01e-06</td>\n",
       "</tr>\n",
       "<tr>\n",
       "  <th>Valuation Type_sqr</th> <td> 1.757e-06</td> <td> 4.86e-08</td> <td>   36.190</td> <td> 0.000</td> <td> 1.66e-06</td> <td> 1.85e-06</td>\n",
       "</tr>\n",
       "<tr>\n",
       "  <th>Valuation Type</th>     <td> 8.722e-07</td> <td> 2.41e-08</td> <td>   36.184</td> <td> 0.000</td> <td> 8.25e-07</td> <td> 9.19e-07</td>\n",
       "</tr>\n",
       "<tr>\n",
       "  <th>Effect Date</th>        <td> 6.917e-07</td> <td> 1.91e-08</td> <td>   36.139</td> <td> 0.000</td> <td> 6.54e-07</td> <td> 7.29e-07</td>\n",
       "</tr>\n",
       "<tr>\n",
       "  <th>Meter Book_cb</th>      <td>   -0.0484</td> <td>    0.002</td> <td>  -24.946</td> <td> 0.000</td> <td>   -0.052</td> <td>   -0.045</td>\n",
       "</tr>\n",
       "<tr>\n",
       "  <th>Effect Date_cb</th>     <td> 4.696e-06</td> <td>  1.3e-07</td> <td>   36.031</td> <td> 0.000</td> <td> 4.44e-06</td> <td> 4.95e-06</td>\n",
       "</tr>\n",
       "<tr>\n",
       "  <th>Supp RollNo_sqr</th>    <td> 1.464e-06</td> <td> 4.35e-08</td> <td>   33.676</td> <td> 0.000</td> <td> 1.38e-06</td> <td> 1.55e-06</td>\n",
       "</tr>\n",
       "<tr>\n",
       "  <th>Supp RollNo_cb</th>     <td> 4.654e-06</td> <td> 1.47e-07</td> <td>   31.684</td> <td> 0.000</td> <td> 4.37e-06</td> <td> 4.94e-06</td>\n",
       "</tr>\n",
       "<tr>\n",
       "  <th>Usage Code_cb</th>      <td>    0.0048</td> <td>    0.000</td> <td>   25.544</td> <td> 0.000</td> <td>    0.004</td> <td>    0.005</td>\n",
       "</tr>\n",
       "<tr>\n",
       "  <th>Zone Code</th>          <td>  7.56e-06</td> <td>  2.3e-07</td> <td>   32.865</td> <td> 0.000</td> <td> 7.11e-06</td> <td> 8.01e-06</td>\n",
       "</tr>\n",
       "<tr>\n",
       "  <th>Usage Code</th>         <td> 8.618e-06</td> <td> 2.74e-07</td> <td>   31.506</td> <td> 0.000</td> <td> 8.08e-06</td> <td> 9.15e-06</td>\n",
       "</tr>\n",
       "<tr>\n",
       "  <th>Zone Code_sqr</th>      <td>    0.0001</td> <td> 4.75e-06</td> <td>   28.589</td> <td> 0.000</td> <td>    0.000</td> <td>    0.000</td>\n",
       "</tr>\n",
       "<tr>\n",
       "  <th>Usage Code_sqr</th>     <td>    0.0002</td> <td> 7.03e-06</td> <td>   27.015</td> <td> 0.000</td> <td>    0.000</td> <td>    0.000</td>\n",
       "</tr>\n",
       "<tr>\n",
       "  <th>Zone Code_cb</th>       <td>    0.0027</td> <td>    0.000</td> <td>   26.249</td> <td> 0.000</td> <td>    0.003</td> <td>    0.003</td>\n",
       "</tr>\n",
       "<tr>\n",
       "  <th>Township_cb</th>        <td>    0.0023</td> <td>    0.000</td> <td>   14.101</td> <td> 0.000</td> <td>    0.002</td> <td>    0.003</td>\n",
       "</tr>\n",
       "<tr>\n",
       "  <th>Ward_cb</th>            <td>    0.0002</td> <td> 7.42e-05</td> <td>    2.069</td> <td> 0.039</td> <td> 8.05e-06</td> <td>    0.000</td>\n",
       "</tr>\n",
       "</table>\n",
       "<table class=\"simpletable\">\n",
       "<tr>\n",
       "  <th>Omnibus:</th>       <td>2314.993</td> <th>  Durbin-Watson:     </th> <td>   1.625</td>\n",
       "</tr>\n",
       "<tr>\n",
       "  <th>Prob(Omnibus):</th>  <td> 0.000</td>  <th>  Jarque-Bera (JB):  </th> <td>2962.628</td>\n",
       "</tr>\n",
       "<tr>\n",
       "  <th>Skew:</th>           <td> 0.808</td>  <th>  Prob(JB):          </th> <td>    0.00</td>\n",
       "</tr>\n",
       "<tr>\n",
       "  <th>Kurtosis:</th>       <td> 3.188</td>  <th>  Cond. No.          </th> <td>1.38e+16</td>\n",
       "</tr>\n",
       "</table><br/><br/>Notes:<br/>[1] Standard Errors assume that the covariance matrix of the errors is correctly specified.<br/>[2] The condition number is large, 1.38e+16. This might indicate that there are<br/>strong multicollinearity or other numerical problems."
      ],
      "text/plain": [
       "<class 'statsmodels.iolib.summary.Summary'>\n",
       "\"\"\"\n",
       "                            OLS Regression Results                            \n",
       "==============================================================================\n",
       "Dep. Variable:            MarketValue   R-squared:                      -0.675\n",
       "Model:                            OLS   Adj. R-squared:                 -0.676\n",
       "Method:                 Least Squares   F-statistic:                    -2706.\n",
       "Date:                Mon, 21 Jun 2021   Prob (F-statistic):               1.00\n",
       "Time:                        14:47:03   Log-Likelihood:            -3.9279e+05\n",
       "No. Observations:               26858   AIC:                         7.856e+05\n",
       "Df Residuals:                   26853   BIC:                         7.856e+05\n",
       "Df Model:                           4                                         \n",
       "Covariance Type:            nonrobust                                         \n",
       "======================================================================================\n",
       "                         coef    std err          t      P>|t|      [0.025      0.975]\n",
       "--------------------------------------------------------------------------------------\n",
       "Supp RollNo            0.0032   8.84e-05     35.907      0.000       0.003       0.003\n",
       "Effect Date_sqr       -0.0198      0.001    -20.465      0.000      -0.022      -0.018\n",
       "Val Cnt_cb          4.891e-07   1.35e-08     36.174      0.000    4.63e-07    5.16e-07\n",
       "Meter Book          4.153e-05   1.15e-06     36.163      0.000    3.93e-05    4.38e-05\n",
       "Prop Category       2.177e-06   7.58e-08     28.711      0.000    2.03e-06    2.33e-06\n",
       "Val Cnt_sqr         4.862e-07   1.34e-08     36.169      0.000     4.6e-07    5.13e-07\n",
       "Cycle_cb               0.0074      0.001     13.025      0.000       0.006       0.008\n",
       "Cycle               1.096e-05   3.46e-07     31.639      0.000    1.03e-05    1.16e-05\n",
       "Cycle_sqr              0.0003   1.33e-05     24.260      0.000       0.000       0.000\n",
       "Prop Category_sqr   1.397e-05   5.98e-07     23.373      0.000    1.28e-05    1.51e-05\n",
       "Physical Addr_sqr      0.3316      0.011     29.408      0.000       0.310       0.354\n",
       "Val Cnt             4.851e-07   1.34e-08     36.167      0.000    4.59e-07    5.11e-07\n",
       "Prop Category_cb       0.0001   4.79e-06     21.780      0.000     9.5e-05       0.000\n",
       "const               4.847e-07   1.34e-08     36.167      0.000    4.58e-07    5.11e-07\n",
       "Size                   0.4594      0.022     20.642      0.000       0.416       0.503\n",
       "Size_cb            -8.486e-16   6.24e-17    -13.604      0.000   -9.71e-16   -7.26e-16\n",
       "Owner Name_sqr         0.0006   2.22e-05     24.912      0.000       0.001       0.001\n",
       "Valuation Type_cb   3.803e-06   1.05e-07     36.187      0.000     3.6e-06    4.01e-06\n",
       "Valuation Type_sqr  1.757e-06   4.86e-08     36.190      0.000    1.66e-06    1.85e-06\n",
       "Valuation Type      8.722e-07   2.41e-08     36.184      0.000    8.25e-07    9.19e-07\n",
       "Effect Date         6.917e-07   1.91e-08     36.139      0.000    6.54e-07    7.29e-07\n",
       "Meter Book_cb         -0.0484      0.002    -24.946      0.000      -0.052      -0.045\n",
       "Effect Date_cb      4.696e-06    1.3e-07     36.031      0.000    4.44e-06    4.95e-06\n",
       "Supp RollNo_sqr     1.464e-06   4.35e-08     33.676      0.000    1.38e-06    1.55e-06\n",
       "Supp RollNo_cb      4.654e-06   1.47e-07     31.684      0.000    4.37e-06    4.94e-06\n",
       "Usage Code_cb          0.0048      0.000     25.544      0.000       0.004       0.005\n",
       "Zone Code            7.56e-06    2.3e-07     32.865      0.000    7.11e-06    8.01e-06\n",
       "Usage Code          8.618e-06   2.74e-07     31.506      0.000    8.08e-06    9.15e-06\n",
       "Zone Code_sqr          0.0001   4.75e-06     28.589      0.000       0.000       0.000\n",
       "Usage Code_sqr         0.0002   7.03e-06     27.015      0.000       0.000       0.000\n",
       "Zone Code_cb           0.0027      0.000     26.249      0.000       0.003       0.003\n",
       "Township_cb            0.0023      0.000     14.101      0.000       0.002       0.003\n",
       "Ward_cb                0.0002   7.42e-05      2.069      0.039    8.05e-06       0.000\n",
       "==============================================================================\n",
       "Omnibus:                     2314.993   Durbin-Watson:                   1.625\n",
       "Prob(Omnibus):                  0.000   Jarque-Bera (JB):             2962.628\n",
       "Skew:                           0.808   Prob(JB):                         0.00\n",
       "Kurtosis:                       3.188   Cond. No.                     1.38e+16\n",
       "==============================================================================\n",
       "\n",
       "Notes:\n",
       "[1] Standard Errors assume that the covariance matrix of the errors is correctly specified.\n",
       "[2] The condition number is large, 1.38e+16. This might indicate that there are\n",
       "strong multicollinearity or other numerical problems.\n",
       "\"\"\""
      ]
     },
     "execution_count": 118,
     "metadata": {},
     "output_type": "execute_result"
    }
   ],
   "source": [
    "##The we make our new predictions.\n",
    "#Append the bias term into the X data\n",
    "X_train_cb = sm.add_constant(X_train_cb[remaining_var_three])\n",
    "model = sm.OLS(y_train, X_train_cb)\n",
    "result_two = model.fit()\n",
    "result_two.summary()"
   ]
  },
  {
   "cell_type": "markdown",
   "metadata": {
    "id": "MJvtcwCdX4FL"
   },
   "source": [
    "#### **Presenting the new models without the constants in our models:**"
   ]
  },
  {
   "cell_type": "markdown",
   "metadata": {
    "id": "vARA_KI1X4FM"
   },
   "source": [
    "##### **For normal linear regression:**\n"
   ]
  },
  {
   "cell_type": "code",
   "execution_count": 119,
   "metadata": {
    "id": "xyiT9fesX4FM",
    "outputId": "8a5fb8af-50af-41a8-8f0d-138d83d4c535",
    "scrolled": true
   },
   "outputs": [
    {
     "name": "stdout",
     "output_type": "stream",
     "text": [
      "dropping 'const' at index: 0\n",
      "Remaining variables:\n",
      "Index(['Cycle', 'Prop Category', 'Valuation Type', 'Effect Date', 'Owner Name',\n",
      "       'Ward', 'Size'],\n",
      "      dtype='object')\n"
     ]
    },
    {
     "data": {
      "text/html": [
       "<table class=\"simpletable\">\n",
       "<caption>OLS Regression Results</caption>\n",
       "<tr>\n",
       "  <th>Dep. Variable:</th>       <td>MarketValue</td>   <th>  R-squared (uncentered):</th>       <td>   0.568</td>  \n",
       "</tr>\n",
       "<tr>\n",
       "  <th>Model:</th>                   <td>OLS</td>       <th>  Adj. R-squared (uncentered):</th>  <td>   0.568</td>  \n",
       "</tr>\n",
       "<tr>\n",
       "  <th>Method:</th>             <td>Least Squares</td>  <th>  F-statistic:       </th>           <td>   5036.</td>  \n",
       "</tr>\n",
       "<tr>\n",
       "  <th>Date:</th>             <td>Mon, 21 Jun 2021</td> <th>  Prob (F-statistic):</th>            <td>  0.00</td>   \n",
       "</tr>\n",
       "<tr>\n",
       "  <th>Time:</th>                 <td>14:47:03</td>     <th>  Log-Likelihood:    </th>          <td>-3.8502e+05</td>\n",
       "</tr>\n",
       "<tr>\n",
       "  <th>No. Observations:</th>      <td> 26858</td>      <th>  AIC:               </th>           <td>7.700e+05</td> \n",
       "</tr>\n",
       "<tr>\n",
       "  <th>Df Residuals:</th>          <td> 26851</td>      <th>  BIC:               </th>           <td>7.701e+05</td> \n",
       "</tr>\n",
       "<tr>\n",
       "  <th>Df Model:</th>              <td>     7</td>      <th>                     </th>               <td> </td>     \n",
       "</tr>\n",
       "<tr>\n",
       "  <th>Covariance Type:</th>      <td>nonrobust</td>    <th>                     </th>               <td> </td>     \n",
       "</tr>\n",
       "</table>\n",
       "<table class=\"simpletable\">\n",
       "<tr>\n",
       "         <td></td>           <th>coef</th>     <th>std err</th>      <th>t</th>      <th>P>|t|</th>  <th>[0.025</th>    <th>0.975]</th>  \n",
       "</tr>\n",
       "<tr>\n",
       "  <th>Cycle</th>          <td>-3624.4690</td> <td>  156.266</td> <td>  -23.194</td> <td> 0.000</td> <td>-3930.759</td> <td>-3318.179</td>\n",
       "</tr>\n",
       "<tr>\n",
       "  <th>Prop Category</th>  <td> 9.457e+04</td> <td> 1898.179</td> <td>   49.819</td> <td> 0.000</td> <td> 9.08e+04</td> <td> 9.83e+04</td>\n",
       "</tr>\n",
       "<tr>\n",
       "  <th>Valuation Type</th> <td> 9.937e+04</td> <td> 2705.458</td> <td>   36.729</td> <td> 0.000</td> <td> 9.41e+04</td> <td> 1.05e+05</td>\n",
       "</tr>\n",
       "<tr>\n",
       "  <th>Effect Date</th>    <td> 9.788e+04</td> <td> 1966.327</td> <td>   49.780</td> <td> 0.000</td> <td>  9.4e+04</td> <td> 1.02e+05</td>\n",
       "</tr>\n",
       "<tr>\n",
       "  <th>Owner Name</th>     <td>   -2.1426</td> <td>    0.313</td> <td>   -6.848</td> <td> 0.000</td> <td>   -2.756</td> <td>   -1.529</td>\n",
       "</tr>\n",
       "<tr>\n",
       "  <th>Ward</th>           <td> -378.2657</td> <td>   55.657</td> <td>   -6.796</td> <td> 0.000</td> <td> -487.356</td> <td> -269.175</td>\n",
       "</tr>\n",
       "<tr>\n",
       "  <th>Size</th>           <td>    0.0604</td> <td>    0.011</td> <td>    5.362</td> <td> 0.000</td> <td>    0.038</td> <td>    0.082</td>\n",
       "</tr>\n",
       "</table>\n",
       "<table class=\"simpletable\">\n",
       "<tr>\n",
       "  <th>Omnibus:</th>       <td>3189.299</td> <th>  Durbin-Watson:     </th> <td>   1.978</td>\n",
       "</tr>\n",
       "<tr>\n",
       "  <th>Prob(Omnibus):</th>  <td> 0.000</td>  <th>  Jarque-Bera (JB):  </th> <td>4440.234</td>\n",
       "</tr>\n",
       "<tr>\n",
       "  <th>Skew:</th>           <td> 0.960</td>  <th>  Prob(JB):          </th> <td>    0.00</td>\n",
       "</tr>\n",
       "<tr>\n",
       "  <th>Kurtosis:</th>       <td> 3.530</td>  <th>  Cond. No.          </th> <td>2.64e+05</td>\n",
       "</tr>\n",
       "</table><br/><br/>Notes:<br/>[1] R² is computed without centering (uncentered) since the model does not contain a constant.<br/>[2] Standard Errors assume that the covariance matrix of the errors is correctly specified.<br/>[3] The condition number is large, 2.64e+05. This might indicate that there are<br/>strong multicollinearity or other numerical problems."
      ],
      "text/plain": [
       "<class 'statsmodels.iolib.summary.Summary'>\n",
       "\"\"\"\n",
       "                                 OLS Regression Results                                \n",
       "=======================================================================================\n",
       "Dep. Variable:            MarketValue   R-squared (uncentered):                   0.568\n",
       "Model:                            OLS   Adj. R-squared (uncentered):              0.568\n",
       "Method:                 Least Squares   F-statistic:                              5036.\n",
       "Date:                Mon, 21 Jun 2021   Prob (F-statistic):                        0.00\n",
       "Time:                        14:47:03   Log-Likelihood:                     -3.8502e+05\n",
       "No. Observations:               26858   AIC:                                  7.700e+05\n",
       "Df Residuals:                   26851   BIC:                                  7.701e+05\n",
       "Df Model:                           7                                                  \n",
       "Covariance Type:            nonrobust                                                  \n",
       "==================================================================================\n",
       "                     coef    std err          t      P>|t|      [0.025      0.975]\n",
       "----------------------------------------------------------------------------------\n",
       "Cycle          -3624.4690    156.266    -23.194      0.000   -3930.759   -3318.179\n",
       "Prop Category   9.457e+04   1898.179     49.819      0.000    9.08e+04    9.83e+04\n",
       "Valuation Type  9.937e+04   2705.458     36.729      0.000    9.41e+04    1.05e+05\n",
       "Effect Date     9.788e+04   1966.327     49.780      0.000     9.4e+04    1.02e+05\n",
       "Owner Name        -2.1426      0.313     -6.848      0.000      -2.756      -1.529\n",
       "Ward            -378.2657     55.657     -6.796      0.000    -487.356    -269.175\n",
       "Size               0.0604      0.011      5.362      0.000       0.038       0.082\n",
       "==============================================================================\n",
       "Omnibus:                     3189.299   Durbin-Watson:                   1.978\n",
       "Prob(Omnibus):                  0.000   Jarque-Bera (JB):             4440.234\n",
       "Skew:                           0.960   Prob(JB):                         0.00\n",
       "Kurtosis:                       3.530   Cond. No.                     2.64e+05\n",
       "==============================================================================\n",
       "\n",
       "Notes:\n",
       "[1] R² is computed without centering (uncentered) since the model does not contain a constant.\n",
       "[2] Standard Errors assume that the covariance matrix of the errors is correctly specified.\n",
       "[3] The condition number is large, 2.64e+05. This might indicate that there are\n",
       "strong multicollinearity or other numerical problems.\n",
       "\"\"\""
      ]
     },
     "execution_count": 119,
     "metadata": {},
     "output_type": "execute_result"
    }
   ],
   "source": [
    "# Use VIF to remove the features and check perfomance\n",
    "X_train = calculate_vif_(X_train)\n",
    "model = sm.OLS(y_train, X_train)\n",
    "result = model.fit()\n",
    "result.summary()"
   ]
  },
  {
   "cell_type": "markdown",
   "metadata": {
    "id": "bGRYr9siX4FM"
   },
   "source": [
    "##### **For polynomial linear regression of degree 2:**\n"
   ]
  },
  {
   "cell_type": "code",
   "execution_count": 120,
   "metadata": {
    "id": "kzMvt7YGX4FN",
    "outputId": "ce65f936-f5f0-436b-a377-fa061ebce39a"
   },
   "outputs": [
    {
     "name": "stderr",
     "output_type": "stream",
     "text": [
      "/home/tas/.local/lib/python3.8/site-packages/statsmodels/regression/linear_model.py:1715: RuntimeWarning: divide by zero encountered in double_scalars\n",
      "  return 1 - self.ssr/self.centered_tss\n"
     ]
    },
    {
     "name": "stdout",
     "output_type": "stream",
     "text": [
      "Remaining variables:\n",
      "Index(['Prop Category', 'Effect Date', 'Meter Book_sqr', 'Valuation Type_sqr',\n",
      "       'Physical Addr', 'Cycle_sqr', 'Supp RollNo_sqr', 'Township_sqr',\n",
      "       'const', 'Zone Code_sqr', 'Size', 'Size_sqr', 'Usage Code_sqr',\n",
      "       'Ward_sqr', 'Owner Name'],\n",
      "      dtype='object')\n"
     ]
    },
    {
     "data": {
      "text/html": [
       "<table class=\"simpletable\">\n",
       "<caption>OLS Regression Results</caption>\n",
       "<tr>\n",
       "  <th>Dep. Variable:</th>       <td>MarketValue</td>   <th>  R-squared:         </th>  <td>   0.350</td>  \n",
       "</tr>\n",
       "<tr>\n",
       "  <th>Model:</th>                   <td>OLS</td>       <th>  Adj. R-squared:    </th>  <td>   0.349</td>  \n",
       "</tr>\n",
       "<tr>\n",
       "  <th>Method:</th>             <td>Least Squares</td>  <th>  F-statistic:       </th>  <td>   1030.</td>  \n",
       "</tr>\n",
       "<tr>\n",
       "  <th>Date:</th>             <td>Mon, 21 Jun 2021</td> <th>  Prob (F-statistic):</th>   <td>  0.00</td>   \n",
       "</tr>\n",
       "<tr>\n",
       "  <th>Time:</th>                 <td>14:47:04</td>     <th>  Log-Likelihood:    </th> <td>-3.8009e+05</td>\n",
       "</tr>\n",
       "<tr>\n",
       "  <th>No. Observations:</th>      <td> 26858</td>      <th>  AIC:               </th>  <td>7.602e+05</td> \n",
       "</tr>\n",
       "<tr>\n",
       "  <th>Df Residuals:</th>          <td> 26843</td>      <th>  BIC:               </th>  <td>7.603e+05</td> \n",
       "</tr>\n",
       "<tr>\n",
       "  <th>Df Model:</th>              <td>    14</td>      <th>                     </th>      <td> </td>     \n",
       "</tr>\n",
       "<tr>\n",
       "  <th>Covariance Type:</th>      <td>nonrobust</td>    <th>                     </th>      <td> </td>     \n",
       "</tr>\n",
       "</table>\n",
       "<table class=\"simpletable\">\n",
       "<tr>\n",
       "           <td></td>             <th>coef</th>     <th>std err</th>      <th>t</th>      <th>P>|t|</th>  <th>[0.025</th>    <th>0.975]</th>  \n",
       "</tr>\n",
       "<tr>\n",
       "  <th>Prop Category</th>      <td> 2.055e+04</td> <td> 2372.780</td> <td>    8.660</td> <td> 0.000</td> <td> 1.59e+04</td> <td> 2.52e+04</td>\n",
       "</tr>\n",
       "<tr>\n",
       "  <th>Effect Date</th>        <td>-2.484e+04</td> <td> 2816.007</td> <td>   -8.820</td> <td> 0.000</td> <td>-3.04e+04</td> <td>-1.93e+04</td>\n",
       "</tr>\n",
       "<tr>\n",
       "  <th>Meter Book_sqr</th>     <td>   -6.9361</td> <td>    0.272</td> <td>  -25.542</td> <td> 0.000</td> <td>   -7.468</td> <td>   -6.404</td>\n",
       "</tr>\n",
       "<tr>\n",
       "  <th>Valuation Type_sqr</th> <td>-2049.0474</td> <td> 1040.432</td> <td>   -1.969</td> <td> 0.049</td> <td>-4088.348</td> <td>   -9.747</td>\n",
       "</tr>\n",
       "<tr>\n",
       "  <th>Physical Addr</th>      <td> -437.9534</td> <td>   10.156</td> <td>  -43.123</td> <td> 0.000</td> <td> -457.859</td> <td> -418.047</td>\n",
       "</tr>\n",
       "<tr>\n",
       "  <th>Cycle_sqr</th>          <td>   45.9658</td> <td>    2.663</td> <td>   17.263</td> <td> 0.000</td> <td>   40.747</td> <td>   51.185</td>\n",
       "</tr>\n",
       "<tr>\n",
       "  <th>Supp RollNo_sqr</th>    <td> 9920.4806</td> <td>  585.601</td> <td>   16.941</td> <td> 0.000</td> <td> 8772.672</td> <td> 1.11e+04</td>\n",
       "</tr>\n",
       "<tr>\n",
       "  <th>Township_sqr</th>       <td>    0.4783</td> <td>    0.050</td> <td>    9.627</td> <td> 0.000</td> <td>    0.381</td> <td>    0.576</td>\n",
       "</tr>\n",
       "<tr>\n",
       "  <th>const</th>              <td> 7.847e+05</td> <td> 9023.423</td> <td>   86.961</td> <td> 0.000</td> <td> 7.67e+05</td> <td> 8.02e+05</td>\n",
       "</tr>\n",
       "<tr>\n",
       "  <th>Zone Code_sqr</th>      <td>  223.4044</td> <td>   40.659</td> <td>    5.495</td> <td> 0.000</td> <td>  143.711</td> <td>  303.098</td>\n",
       "</tr>\n",
       "<tr>\n",
       "  <th>Size</th>               <td>    0.1702</td> <td>    0.019</td> <td>    8.839</td> <td> 0.000</td> <td>    0.132</td> <td>    0.208</td>\n",
       "</tr>\n",
       "<tr>\n",
       "  <th>Size_sqr</th>           <td>-8.087e-09</td> <td> 1.16e-09</td> <td>   -7.000</td> <td> 0.000</td> <td>-1.04e-08</td> <td>-5.82e-09</td>\n",
       "</tr>\n",
       "<tr>\n",
       "  <th>Usage Code_sqr</th>     <td>  -45.5963</td> <td>   19.813</td> <td>   -2.301</td> <td> 0.021</td> <td>  -84.430</td> <td>   -6.762</td>\n",
       "</tr>\n",
       "<tr>\n",
       "  <th>Ward_sqr</th>           <td>   -0.1909</td> <td>    0.049</td> <td>   -3.872</td> <td> 0.000</td> <td>   -0.288</td> <td>   -0.094</td>\n",
       "</tr>\n",
       "<tr>\n",
       "  <th>Owner Name</th>         <td>    1.1614</td> <td>    0.370</td> <td>    3.135</td> <td> 0.002</td> <td>    0.435</td> <td>    1.888</td>\n",
       "</tr>\n",
       "</table>\n",
       "<table class=\"simpletable\">\n",
       "<tr>\n",
       "  <th>Omnibus:</th>       <td>2719.304</td> <th>  Durbin-Watson:     </th> <td>   1.999</td>\n",
       "</tr>\n",
       "<tr>\n",
       "  <th>Prob(Omnibus):</th>  <td> 0.000</td>  <th>  Jarque-Bera (JB):  </th> <td>3851.718</td>\n",
       "</tr>\n",
       "<tr>\n",
       "  <th>Skew:</th>           <td> 0.799</td>  <th>  Prob(JB):          </th> <td>    0.00</td>\n",
       "</tr>\n",
       "<tr>\n",
       "  <th>Kurtosis:</th>       <td> 3.942</td>  <th>  Cond. No.          </th> <td>1.63e+13</td>\n",
       "</tr>\n",
       "</table><br/><br/>Notes:<br/>[1] Standard Errors assume that the covariance matrix of the errors is correctly specified.<br/>[2] The condition number is large, 1.63e+13. This might indicate that there are<br/>strong multicollinearity or other numerical problems."
      ],
      "text/plain": [
       "<class 'statsmodels.iolib.summary.Summary'>\n",
       "\"\"\"\n",
       "                            OLS Regression Results                            \n",
       "==============================================================================\n",
       "Dep. Variable:            MarketValue   R-squared:                       0.350\n",
       "Model:                            OLS   Adj. R-squared:                  0.349\n",
       "Method:                 Least Squares   F-statistic:                     1030.\n",
       "Date:                Mon, 21 Jun 2021   Prob (F-statistic):               0.00\n",
       "Time:                        14:47:04   Log-Likelihood:            -3.8009e+05\n",
       "No. Observations:               26858   AIC:                         7.602e+05\n",
       "Df Residuals:                   26843   BIC:                         7.603e+05\n",
       "Df Model:                          14                                         \n",
       "Covariance Type:            nonrobust                                         \n",
       "======================================================================================\n",
       "                         coef    std err          t      P>|t|      [0.025      0.975]\n",
       "--------------------------------------------------------------------------------------\n",
       "Prop Category       2.055e+04   2372.780      8.660      0.000    1.59e+04    2.52e+04\n",
       "Effect Date        -2.484e+04   2816.007     -8.820      0.000   -3.04e+04   -1.93e+04\n",
       "Meter Book_sqr        -6.9361      0.272    -25.542      0.000      -7.468      -6.404\n",
       "Valuation Type_sqr -2049.0474   1040.432     -1.969      0.049   -4088.348      -9.747\n",
       "Physical Addr       -437.9534     10.156    -43.123      0.000    -457.859    -418.047\n",
       "Cycle_sqr             45.9658      2.663     17.263      0.000      40.747      51.185\n",
       "Supp RollNo_sqr     9920.4806    585.601     16.941      0.000    8772.672    1.11e+04\n",
       "Township_sqr           0.4783      0.050      9.627      0.000       0.381       0.576\n",
       "const               7.847e+05   9023.423     86.961      0.000    7.67e+05    8.02e+05\n",
       "Zone Code_sqr        223.4044     40.659      5.495      0.000     143.711     303.098\n",
       "Size                   0.1702      0.019      8.839      0.000       0.132       0.208\n",
       "Size_sqr           -8.087e-09   1.16e-09     -7.000      0.000   -1.04e-08   -5.82e-09\n",
       "Usage Code_sqr       -45.5963     19.813     -2.301      0.021     -84.430      -6.762\n",
       "Ward_sqr              -0.1909      0.049     -3.872      0.000      -0.288      -0.094\n",
       "Owner Name             1.1614      0.370      3.135      0.002       0.435       1.888\n",
       "==============================================================================\n",
       "Omnibus:                     2719.304   Durbin-Watson:                   1.999\n",
       "Prob(Omnibus):                  0.000   Jarque-Bera (JB):             3851.718\n",
       "Skew:                           0.799   Prob(JB):                         0.00\n",
       "Kurtosis:                       3.942   Cond. No.                     1.63e+13\n",
       "==============================================================================\n",
       "\n",
       "Notes:\n",
       "[1] Standard Errors assume that the covariance matrix of the errors is correctly specified.\n",
       "[2] The condition number is large, 1.63e+13. This might indicate that there are\n",
       "strong multicollinearity or other numerical problems.\n",
       "\"\"\""
      ]
     },
     "execution_count": 120,
     "metadata": {},
     "output_type": "execute_result"
    }
   ],
   "source": [
    "# Use VIF to remove the features and check perfomance\n",
    "X_train_sqr = calculate_vif_(X_train_sqr)\n",
    "model = sm.OLS(y_train, X_train_sqr)\n",
    "result_one = model.fit()\n",
    "result_one.summary()"
   ]
  },
  {
   "cell_type": "markdown",
   "metadata": {
    "id": "Z1OmSNs1X4FN"
   },
   "source": [
    "##### **For polynomial Linear regression of degree 3:**"
   ]
  },
  {
   "cell_type": "code",
   "execution_count": 121,
   "metadata": {
    "id": "4ZcAH0s9X4FN",
    "outputId": "f49e6d03-e223-4f3c-deb3-b624f3c4b07a"
   },
   "outputs": [
    {
     "name": "stderr",
     "output_type": "stream",
     "text": [
      "/home/tas/.local/lib/python3.8/site-packages/statsmodels/regression/linear_model.py:1715: RuntimeWarning: divide by zero encountered in double_scalars\n",
      "  return 1 - self.ssr/self.centered_tss\n"
     ]
    },
    {
     "name": "stdout",
     "output_type": "stream",
     "text": [
      "Remaining variables:\n",
      "Index(['Supp RollNo', 'Effect Date_sqr', 'Val Cnt_cb', 'Meter Book',\n",
      "       'Prop Category', 'Val Cnt_sqr', 'Cycle_cb', 'Cycle', 'Cycle_sqr',\n",
      "       'Prop Category_sqr', 'Physical Addr_sqr', 'Val Cnt', 'Prop Category_cb',\n",
      "       'const', 'Size', 'Size_cb', 'Owner Name_sqr', 'Valuation Type_cb',\n",
      "       'Valuation Type_sqr', 'Valuation Type', 'Effect Date', 'Meter Book_cb',\n",
      "       'Effect Date_cb', 'Supp RollNo_sqr', 'Supp RollNo_cb', 'Usage Code_cb',\n",
      "       'Zone Code', 'Usage Code', 'Zone Code_sqr', 'Usage Code_sqr',\n",
      "       'Zone Code_cb', 'Township_cb', 'Ward_cb'],\n",
      "      dtype='object')\n"
     ]
    },
    {
     "data": {
      "text/html": [
       "<table class=\"simpletable\">\n",
       "<caption>OLS Regression Results</caption>\n",
       "<tr>\n",
       "  <th>Dep. Variable:</th>       <td>MarketValue</td>   <th>  R-squared:         </th>  <td>  -0.675</td>  \n",
       "</tr>\n",
       "<tr>\n",
       "  <th>Model:</th>                   <td>OLS</td>       <th>  Adj. R-squared:    </th>  <td>  -0.676</td>  \n",
       "</tr>\n",
       "<tr>\n",
       "  <th>Method:</th>             <td>Least Squares</td>  <th>  F-statistic:       </th>  <td>  -2706.</td>  \n",
       "</tr>\n",
       "<tr>\n",
       "  <th>Date:</th>             <td>Mon, 21 Jun 2021</td> <th>  Prob (F-statistic):</th>   <td>  1.00</td>   \n",
       "</tr>\n",
       "<tr>\n",
       "  <th>Time:</th>                 <td>14:47:10</td>     <th>  Log-Likelihood:    </th> <td>-3.9279e+05</td>\n",
       "</tr>\n",
       "<tr>\n",
       "  <th>No. Observations:</th>      <td> 26858</td>      <th>  AIC:               </th>  <td>7.856e+05</td> \n",
       "</tr>\n",
       "<tr>\n",
       "  <th>Df Residuals:</th>          <td> 26853</td>      <th>  BIC:               </th>  <td>7.856e+05</td> \n",
       "</tr>\n",
       "<tr>\n",
       "  <th>Df Model:</th>              <td>     4</td>      <th>                     </th>      <td> </td>     \n",
       "</tr>\n",
       "<tr>\n",
       "  <th>Covariance Type:</th>      <td>nonrobust</td>    <th>                     </th>      <td> </td>     \n",
       "</tr>\n",
       "</table>\n",
       "<table class=\"simpletable\">\n",
       "<tr>\n",
       "           <td></td>             <th>coef</th>     <th>std err</th>      <th>t</th>      <th>P>|t|</th>  <th>[0.025</th>    <th>0.975]</th>  \n",
       "</tr>\n",
       "<tr>\n",
       "  <th>Supp RollNo</th>        <td>    0.0032</td> <td> 8.84e-05</td> <td>   35.907</td> <td> 0.000</td> <td>    0.003</td> <td>    0.003</td>\n",
       "</tr>\n",
       "<tr>\n",
       "  <th>Effect Date_sqr</th>    <td>   -0.0198</td> <td>    0.001</td> <td>  -20.465</td> <td> 0.000</td> <td>   -0.022</td> <td>   -0.018</td>\n",
       "</tr>\n",
       "<tr>\n",
       "  <th>Val Cnt_cb</th>         <td> 4.891e-07</td> <td> 1.35e-08</td> <td>   36.174</td> <td> 0.000</td> <td> 4.63e-07</td> <td> 5.16e-07</td>\n",
       "</tr>\n",
       "<tr>\n",
       "  <th>Meter Book</th>         <td> 4.153e-05</td> <td> 1.15e-06</td> <td>   36.163</td> <td> 0.000</td> <td> 3.93e-05</td> <td> 4.38e-05</td>\n",
       "</tr>\n",
       "<tr>\n",
       "  <th>Prop Category</th>      <td> 2.177e-06</td> <td> 7.58e-08</td> <td>   28.711</td> <td> 0.000</td> <td> 2.03e-06</td> <td> 2.33e-06</td>\n",
       "</tr>\n",
       "<tr>\n",
       "  <th>Val Cnt_sqr</th>        <td> 4.862e-07</td> <td> 1.34e-08</td> <td>   36.169</td> <td> 0.000</td> <td>  4.6e-07</td> <td> 5.13e-07</td>\n",
       "</tr>\n",
       "<tr>\n",
       "  <th>Cycle_cb</th>           <td>    0.0074</td> <td>    0.001</td> <td>   13.025</td> <td> 0.000</td> <td>    0.006</td> <td>    0.008</td>\n",
       "</tr>\n",
       "<tr>\n",
       "  <th>Cycle</th>              <td> 1.096e-05</td> <td> 3.46e-07</td> <td>   31.639</td> <td> 0.000</td> <td> 1.03e-05</td> <td> 1.16e-05</td>\n",
       "</tr>\n",
       "<tr>\n",
       "  <th>Cycle_sqr</th>          <td>    0.0003</td> <td> 1.33e-05</td> <td>   24.260</td> <td> 0.000</td> <td>    0.000</td> <td>    0.000</td>\n",
       "</tr>\n",
       "<tr>\n",
       "  <th>Prop Category_sqr</th>  <td> 1.397e-05</td> <td> 5.98e-07</td> <td>   23.373</td> <td> 0.000</td> <td> 1.28e-05</td> <td> 1.51e-05</td>\n",
       "</tr>\n",
       "<tr>\n",
       "  <th>Physical Addr_sqr</th>  <td>    0.3316</td> <td>    0.011</td> <td>   29.408</td> <td> 0.000</td> <td>    0.310</td> <td>    0.354</td>\n",
       "</tr>\n",
       "<tr>\n",
       "  <th>Val Cnt</th>            <td> 4.851e-07</td> <td> 1.34e-08</td> <td>   36.167</td> <td> 0.000</td> <td> 4.59e-07</td> <td> 5.11e-07</td>\n",
       "</tr>\n",
       "<tr>\n",
       "  <th>Prop Category_cb</th>   <td>    0.0001</td> <td> 4.79e-06</td> <td>   21.780</td> <td> 0.000</td> <td>  9.5e-05</td> <td>    0.000</td>\n",
       "</tr>\n",
       "<tr>\n",
       "  <th>const</th>              <td> 4.847e-07</td> <td> 1.34e-08</td> <td>   36.167</td> <td> 0.000</td> <td> 4.58e-07</td> <td> 5.11e-07</td>\n",
       "</tr>\n",
       "<tr>\n",
       "  <th>Size</th>               <td>    0.4594</td> <td>    0.022</td> <td>   20.642</td> <td> 0.000</td> <td>    0.416</td> <td>    0.503</td>\n",
       "</tr>\n",
       "<tr>\n",
       "  <th>Size_cb</th>            <td>-8.486e-16</td> <td> 6.24e-17</td> <td>  -13.604</td> <td> 0.000</td> <td>-9.71e-16</td> <td>-7.26e-16</td>\n",
       "</tr>\n",
       "<tr>\n",
       "  <th>Owner Name_sqr</th>     <td>    0.0006</td> <td> 2.22e-05</td> <td>   24.912</td> <td> 0.000</td> <td>    0.001</td> <td>    0.001</td>\n",
       "</tr>\n",
       "<tr>\n",
       "  <th>Valuation Type_cb</th>  <td> 3.803e-06</td> <td> 1.05e-07</td> <td>   36.187</td> <td> 0.000</td> <td>  3.6e-06</td> <td> 4.01e-06</td>\n",
       "</tr>\n",
       "<tr>\n",
       "  <th>Valuation Type_sqr</th> <td> 1.757e-06</td> <td> 4.86e-08</td> <td>   36.190</td> <td> 0.000</td> <td> 1.66e-06</td> <td> 1.85e-06</td>\n",
       "</tr>\n",
       "<tr>\n",
       "  <th>Valuation Type</th>     <td> 8.722e-07</td> <td> 2.41e-08</td> <td>   36.184</td> <td> 0.000</td> <td> 8.25e-07</td> <td> 9.19e-07</td>\n",
       "</tr>\n",
       "<tr>\n",
       "  <th>Effect Date</th>        <td> 6.917e-07</td> <td> 1.91e-08</td> <td>   36.139</td> <td> 0.000</td> <td> 6.54e-07</td> <td> 7.29e-07</td>\n",
       "</tr>\n",
       "<tr>\n",
       "  <th>Meter Book_cb</th>      <td>   -0.0484</td> <td>    0.002</td> <td>  -24.946</td> <td> 0.000</td> <td>   -0.052</td> <td>   -0.045</td>\n",
       "</tr>\n",
       "<tr>\n",
       "  <th>Effect Date_cb</th>     <td> 4.696e-06</td> <td>  1.3e-07</td> <td>   36.031</td> <td> 0.000</td> <td> 4.44e-06</td> <td> 4.95e-06</td>\n",
       "</tr>\n",
       "<tr>\n",
       "  <th>Supp RollNo_sqr</th>    <td> 1.464e-06</td> <td> 4.35e-08</td> <td>   33.676</td> <td> 0.000</td> <td> 1.38e-06</td> <td> 1.55e-06</td>\n",
       "</tr>\n",
       "<tr>\n",
       "  <th>Supp RollNo_cb</th>     <td> 4.654e-06</td> <td> 1.47e-07</td> <td>   31.684</td> <td> 0.000</td> <td> 4.37e-06</td> <td> 4.94e-06</td>\n",
       "</tr>\n",
       "<tr>\n",
       "  <th>Usage Code_cb</th>      <td>    0.0048</td> <td>    0.000</td> <td>   25.544</td> <td> 0.000</td> <td>    0.004</td> <td>    0.005</td>\n",
       "</tr>\n",
       "<tr>\n",
       "  <th>Zone Code</th>          <td>  7.56e-06</td> <td>  2.3e-07</td> <td>   32.865</td> <td> 0.000</td> <td> 7.11e-06</td> <td> 8.01e-06</td>\n",
       "</tr>\n",
       "<tr>\n",
       "  <th>Usage Code</th>         <td> 8.618e-06</td> <td> 2.74e-07</td> <td>   31.506</td> <td> 0.000</td> <td> 8.08e-06</td> <td> 9.15e-06</td>\n",
       "</tr>\n",
       "<tr>\n",
       "  <th>Zone Code_sqr</th>      <td>    0.0001</td> <td> 4.75e-06</td> <td>   28.589</td> <td> 0.000</td> <td>    0.000</td> <td>    0.000</td>\n",
       "</tr>\n",
       "<tr>\n",
       "  <th>Usage Code_sqr</th>     <td>    0.0002</td> <td> 7.03e-06</td> <td>   27.015</td> <td> 0.000</td> <td>    0.000</td> <td>    0.000</td>\n",
       "</tr>\n",
       "<tr>\n",
       "  <th>Zone Code_cb</th>       <td>    0.0027</td> <td>    0.000</td> <td>   26.249</td> <td> 0.000</td> <td>    0.003</td> <td>    0.003</td>\n",
       "</tr>\n",
       "<tr>\n",
       "  <th>Township_cb</th>        <td>    0.0023</td> <td>    0.000</td> <td>   14.101</td> <td> 0.000</td> <td>    0.002</td> <td>    0.003</td>\n",
       "</tr>\n",
       "<tr>\n",
       "  <th>Ward_cb</th>            <td>    0.0002</td> <td> 7.42e-05</td> <td>    2.069</td> <td> 0.039</td> <td> 8.05e-06</td> <td>    0.000</td>\n",
       "</tr>\n",
       "</table>\n",
       "<table class=\"simpletable\">\n",
       "<tr>\n",
       "  <th>Omnibus:</th>       <td>2314.993</td> <th>  Durbin-Watson:     </th> <td>   1.625</td>\n",
       "</tr>\n",
       "<tr>\n",
       "  <th>Prob(Omnibus):</th>  <td> 0.000</td>  <th>  Jarque-Bera (JB):  </th> <td>2962.628</td>\n",
       "</tr>\n",
       "<tr>\n",
       "  <th>Skew:</th>           <td> 0.808</td>  <th>  Prob(JB):          </th> <td>    0.00</td>\n",
       "</tr>\n",
       "<tr>\n",
       "  <th>Kurtosis:</th>       <td> 3.188</td>  <th>  Cond. No.          </th> <td>1.38e+16</td>\n",
       "</tr>\n",
       "</table><br/><br/>Notes:<br/>[1] Standard Errors assume that the covariance matrix of the errors is correctly specified.<br/>[2] The condition number is large, 1.38e+16. This might indicate that there are<br/>strong multicollinearity or other numerical problems."
      ],
      "text/plain": [
       "<class 'statsmodels.iolib.summary.Summary'>\n",
       "\"\"\"\n",
       "                            OLS Regression Results                            \n",
       "==============================================================================\n",
       "Dep. Variable:            MarketValue   R-squared:                      -0.675\n",
       "Model:                            OLS   Adj. R-squared:                 -0.676\n",
       "Method:                 Least Squares   F-statistic:                    -2706.\n",
       "Date:                Mon, 21 Jun 2021   Prob (F-statistic):               1.00\n",
       "Time:                        14:47:10   Log-Likelihood:            -3.9279e+05\n",
       "No. Observations:               26858   AIC:                         7.856e+05\n",
       "Df Residuals:                   26853   BIC:                         7.856e+05\n",
       "Df Model:                           4                                         \n",
       "Covariance Type:            nonrobust                                         \n",
       "======================================================================================\n",
       "                         coef    std err          t      P>|t|      [0.025      0.975]\n",
       "--------------------------------------------------------------------------------------\n",
       "Supp RollNo            0.0032   8.84e-05     35.907      0.000       0.003       0.003\n",
       "Effect Date_sqr       -0.0198      0.001    -20.465      0.000      -0.022      -0.018\n",
       "Val Cnt_cb          4.891e-07   1.35e-08     36.174      0.000    4.63e-07    5.16e-07\n",
       "Meter Book          4.153e-05   1.15e-06     36.163      0.000    3.93e-05    4.38e-05\n",
       "Prop Category       2.177e-06   7.58e-08     28.711      0.000    2.03e-06    2.33e-06\n",
       "Val Cnt_sqr         4.862e-07   1.34e-08     36.169      0.000     4.6e-07    5.13e-07\n",
       "Cycle_cb               0.0074      0.001     13.025      0.000       0.006       0.008\n",
       "Cycle               1.096e-05   3.46e-07     31.639      0.000    1.03e-05    1.16e-05\n",
       "Cycle_sqr              0.0003   1.33e-05     24.260      0.000       0.000       0.000\n",
       "Prop Category_sqr   1.397e-05   5.98e-07     23.373      0.000    1.28e-05    1.51e-05\n",
       "Physical Addr_sqr      0.3316      0.011     29.408      0.000       0.310       0.354\n",
       "Val Cnt             4.851e-07   1.34e-08     36.167      0.000    4.59e-07    5.11e-07\n",
       "Prop Category_cb       0.0001   4.79e-06     21.780      0.000     9.5e-05       0.000\n",
       "const               4.847e-07   1.34e-08     36.167      0.000    4.58e-07    5.11e-07\n",
       "Size                   0.4594      0.022     20.642      0.000       0.416       0.503\n",
       "Size_cb            -8.486e-16   6.24e-17    -13.604      0.000   -9.71e-16   -7.26e-16\n",
       "Owner Name_sqr         0.0006   2.22e-05     24.912      0.000       0.001       0.001\n",
       "Valuation Type_cb   3.803e-06   1.05e-07     36.187      0.000     3.6e-06    4.01e-06\n",
       "Valuation Type_sqr  1.757e-06   4.86e-08     36.190      0.000    1.66e-06    1.85e-06\n",
       "Valuation Type      8.722e-07   2.41e-08     36.184      0.000    8.25e-07    9.19e-07\n",
       "Effect Date         6.917e-07   1.91e-08     36.139      0.000    6.54e-07    7.29e-07\n",
       "Meter Book_cb         -0.0484      0.002    -24.946      0.000      -0.052      -0.045\n",
       "Effect Date_cb      4.696e-06    1.3e-07     36.031      0.000    4.44e-06    4.95e-06\n",
       "Supp RollNo_sqr     1.464e-06   4.35e-08     33.676      0.000    1.38e-06    1.55e-06\n",
       "Supp RollNo_cb      4.654e-06   1.47e-07     31.684      0.000    4.37e-06    4.94e-06\n",
       "Usage Code_cb          0.0048      0.000     25.544      0.000       0.004       0.005\n",
       "Zone Code            7.56e-06    2.3e-07     32.865      0.000    7.11e-06    8.01e-06\n",
       "Usage Code          8.618e-06   2.74e-07     31.506      0.000    8.08e-06    9.15e-06\n",
       "Zone Code_sqr          0.0001   4.75e-06     28.589      0.000       0.000       0.000\n",
       "Usage Code_sqr         0.0002   7.03e-06     27.015      0.000       0.000       0.000\n",
       "Zone Code_cb           0.0027      0.000     26.249      0.000       0.003       0.003\n",
       "Township_cb            0.0023      0.000     14.101      0.000       0.002       0.003\n",
       "Ward_cb                0.0002   7.42e-05      2.069      0.039    8.05e-06       0.000\n",
       "==============================================================================\n",
       "Omnibus:                     2314.993   Durbin-Watson:                   1.625\n",
       "Prob(Omnibus):                  0.000   Jarque-Bera (JB):             2962.628\n",
       "Skew:                           0.808   Prob(JB):                         0.00\n",
       "Kurtosis:                       3.188   Cond. No.                     1.38e+16\n",
       "==============================================================================\n",
       "\n",
       "Notes:\n",
       "[1] Standard Errors assume that the covariance matrix of the errors is correctly specified.\n",
       "[2] The condition number is large, 1.38e+16. This might indicate that there are\n",
       "strong multicollinearity or other numerical problems.\n",
       "\"\"\""
      ]
     },
     "execution_count": 121,
     "metadata": {},
     "output_type": "execute_result"
    }
   ],
   "source": [
    "# Use VIF to remove the features and check perfomance\n",
    "X_train_cb = calculate_vif_(X_train_cb)\n",
    "model = sm.OLS(y_train, X_train_cb)\n",
    "result_two = model.fit()\n",
    "result_two.summary()"
   ]
  },
  {
   "cell_type": "markdown",
   "metadata": {
    "id": "AwrPOSKTX4FO"
   },
   "source": [
    "#### ***Discussion of optimizing of initial models***\n",
    "\n",
    "After the models have gone through optimization it can be seen from the above models that the best model is the linear regression model with an R-squared value of $\\textbf{0.567}$, followed by the polynomial linear regression of degree 2 with an R-squared value of $\\textbf{0.35}$ then finally the polynomial linear regression of degree 3 with an R-squared value of $\\textbf{-0.67}$ . Based on this observation we have concluded that the best model is the linear regression model."
   ]
  },
  {
   "cell_type": "markdown",
   "metadata": {
    "id": "Ti3TLXh-X4FP"
   },
   "source": [
    "#### ***Discussion on chosen optimal model***\n",
    "\n",
    "Removal of the constant, based on the VIF, in the data yield better results. This makes sense because the market value of the property should be zero if there are no features present. We also notice that the model R-squared significantly improve from 9.5% to 56.7%. This new R-squared is even higher than the initial model(31.7%) thus leading us to select this model as our optimal model."
   ]
  },
  {
   "cell_type": "markdown",
   "metadata": {
    "id": "5MTruQTgX4FP"
   },
   "source": [
    "## <b>Residual Plots"
   ]
  },
  {
   "cell_type": "code",
   "execution_count": 122,
   "metadata": {
    "id": "bfp6fk84X4FP",
    "outputId": "426c022e-1c3e-4376-b932-08fc6beba95d"
   },
   "outputs": [
    {
     "data": {
      "image/png": "[encoded data removed]",
      "text/plain": [
       "<Figure size 864x576 with 4 Axes>"
      ]
     },
     "metadata": {},
     "output_type": "display_data"
    }
   ],
   "source": [
    "# MarketValue vs Valuation_type residual plots\n",
    "fig = plt.figure(figsize=(12,8))\n",
    "\n",
    "fig = sm.graphics.plot_regress_exog(result, 'Valuation Type', fig=fig)"
   ]
  },
  {
   "cell_type": "markdown",
   "metadata": {
    "id": "t_Wfnv1iX4FP"
   },
   "source": [
    "The partial regressing plot shows a random pattern. This tells us the residual supports a linear regression and was fitted well with out data."
   ]
  },
  {
   "cell_type": "code",
   "execution_count": 123,
   "metadata": {
    "id": "2ODecW32X4FQ",
    "outputId": "1c0acc0e-bbc2-4d35-8f10-e9d1fe87d63f"
   },
   "outputs": [
    {
     "data": {
      "image/png": "[encoded data removed]",
      "text/plain": [
       "<Figure size 864x576 with 4 Axes>"
      ]
     },
     "metadata": {},
     "output_type": "display_data"
    }
   ],
   "source": [
    "#Supp RollNo vs MarketValue\n",
    "\n",
    "fig = plt.figure(figsize=(12,8))\n",
    "\n",
    "fig = sm.graphics.plot_regress_exog(result, 'Prop Category', fig=fig)"
   ]
  },
  {
   "cell_type": "markdown",
   "metadata": {
    "id": "4LFglA62X4FQ"
   },
   "source": [
    "In the partial plot, we see the random pattern indicating a decent fit to the data"
   ]
  },
  {
   "cell_type": "code",
   "execution_count": null,
   "metadata": {
    "id": "IRVpZnNlX4FQ",
    "outputId": "86bcabbe-e0c4-4918-c368-9612ae56ad4a"
   },
   "outputs": [],
   "source": [
    "# Cycle vs MarketValue\n",
    "fig = plt.figure(figsize=(12,8))\n",
    "\n",
    "fig = sm.graphics.plot_regress_exog(result, 'Cycle', fig=fig)"
   ]
  },
  {
   "cell_type": "code",
   "execution_count": null,
   "metadata": {
    "id": "vEvtu2NmX4FQ",
    "outputId": "43b75dc3-e1b6-4965-c5e6-0f1a746842a3"
   },
   "outputs": [],
   "source": [
    "#Ward vs MarketValue\n",
    "fig = plt.figure(figsize=(12,8))\n",
    "\n",
    "fig = sm.graphics.plot_regress_exog(result, 'Ward', fig=fig)"
   ]
  },
  {
   "cell_type": "code",
   "execution_count": null,
   "metadata": {
    "id": "qVRCs6ahX4FR",
    "outputId": "86605dc7-62b8-40ca-dfb8-19ddfea9d62d"
   },
   "outputs": [],
   "source": [
    "#Effect Date vs MarketValue\n",
    "fig = plt.figure(figsize=(12,8))\n",
    "\n",
    "fig = sm.graphics.plot_regress_exog(result, 'Effect Date', fig=fig)"
   ]
  },
  {
   "cell_type": "code",
   "execution_count": null,
   "metadata": {
    "id": "5LlCuHfhX4FR",
    "outputId": "f812b5ee-f0fe-4d7b-80c2-c79441b7749b"
   },
   "outputs": [],
   "source": [
    "#Owner Name vs MarketValue\n",
    "fig = plt.figure(figsize=(12,8))\n",
    "\n",
    "fig = sm.graphics.plot_regress_exog(result, 'Owner Name', fig=fig)"
   ]
  },
  {
   "cell_type": "markdown",
   "metadata": {
    "id": "wZJpBqhJX4FR"
   },
   "source": [
    "The plot is not randomly plotted. This means linar regresion was not a good fit for the data."
   ]
  },
  {
   "cell_type": "markdown",
   "metadata": {
    "id": "EbbY0WtBX4FS"
   },
   "source": [
    "## <b> Model Using test data"
   ]
  },
  {
   "cell_type": "code",
   "execution_count": null,
   "metadata": {
    "id": "a4N5FCtSX4FS",
    "outputId": "9d607b4f-efb7-47d8-ec28-62763153a227"
   },
   "outputs": [],
   "source": [
    "model = sm.OLS(y_test, X_test)\n",
    "result = model.fit()\n",
    "result.summary()"
   ]
  },
  {
   "cell_type": "markdown",
   "metadata": {
    "id": "FGbrYRdIX4FS"
   },
   "source": [
    "Using the test data, the model performed well with the R-square value of $0.648$"
   ]
  },
  {
   "cell_type": "code",
   "execution_count": null,
   "metadata": {
    "id": "FlGHa7bkX4FS",
    "outputId": "97b1b2c1-92e5-4457-adf7-c6c14d226e48"
   },
   "outputs": [],
   "source": [
    "#Fitting on testing but using chosen variables from training data\n",
    "model = sm.OLS(y_test, X_test[remaining_var])\n",
    "result = model.fit()\n",
    "result.summary()"
   ]
  },
  {
   "cell_type": "markdown",
   "metadata": {
    "id": "BsvHA5H5X4FT"
   },
   "source": [
    "The model has a higher R-squared value on test data, thus this shows us that the trained model is not overfitting on the trained dataset."
   ]
  },
  {
   "cell_type": "markdown",
   "metadata": {
    "id": "-_qib0maX4FT"
   },
   "source": [
    "## <b> Model with Bootstrapped Coefficients:"
   ]
  },
  {
   "cell_type": "code",
   "execution_count": null,
   "metadata": {
    "id": "52lNcoXNX4FT",
    "outputId": "070cc087-4323-4c1c-92d1-10addff66a50"
   },
   "outputs": [],
   "source": [
    "## features selected by vif \n",
    "X_train_vif = X_train\n",
    "del X_train_vif['Prop Category']\n",
    "y_train_vif = y_train\n",
    "bootstrap_data = X_train_vif\n",
    "bootstrap_data['y'] = list(y_train_vif.values)\n",
    "bootstrap_data"
   ]
  },
  {
   "cell_type": "code",
   "execution_count": null,
   "metadata": {
    "id": "1CeOxkKwX4FT"
   },
   "outputs": [],
   "source": [
    "#col = ['Owner_Name'+Valuation_Type +Effect_Date+ Supp_RollNo+Cycle +;Ward]"
   ]
  },
  {
   "cell_type": "code",
   "execution_count": null,
   "metadata": {
    "id": "b8V0NDqvX4FU"
   },
   "outputs": [],
   "source": [
    "def r_square_value(y_true, y_predicted):\n",
    "    return r2_score(y_true, y_predicted)"
   ]
  },
  {
   "cell_type": "code",
   "execution_count": null,
   "metadata": {
    "id": "pSkC2JVkX4FU"
   },
   "outputs": [],
   "source": [
    "bootstrap_data = bootstrap_data.rename(columns={'Owner Name': 'Owner_Name', 'Effect Date': 'Effect_Date','Valuation Type':'Valuation_Type', 'Supp RollNo':'Supp_RollNo'})"
   ]
  },
  {
   "cell_type": "code",
   "execution_count": null,
   "metadata": {
    "id": "A98qUEskX4FU"
   },
   "outputs": [],
   "source": [
    "owner_name_coeff = []\n",
    "val_type_coeff = []\n",
    "eff_dt_coeff = []\n",
    "supp_rollno_coeff = []\n",
    "cycle_coeff = []\n",
    "ward_coeff = []\n",
    "\n",
    "iterations = 1000\n",
    "np.random.seed(28)\n",
    "for _ in range(iterations):\n",
    "    # sampling data points with replacement\n",
    "    sample_data = bootstrap_data.sample(n=10000, replace=True)\n",
    "    # fit model without constant\n",
    "    model = form.ols(formula = 'y ~ Owner_Name+Valuation_Type +Effect_Date+ Supp_RollNo+Cycle +Ward - 1 ', data=sample_data)\n",
    "    results = model.fit()\n",
    "    # append coefficients\n",
    "    owner_name_coeff.append(results.params[0])\n",
    "    val_type_coeff.append(results.params[1])\n",
    "    eff_dt_coeff.append(results.params[2])\n",
    "    supp_rollno_coeff.append(results.params[3])\n",
    "    cycle_coeff.append(results.params[4])\n",
    "    ward_coeff.append(results.params[5])\n"
   ]
  },
  {
   "cell_type": "code",
   "execution_count": null,
   "metadata": {
    "id": "GLqGTLDnX4FV",
    "outputId": "1c445b9a-5c90-4659-dd32-8df13c1d62f1"
   },
   "outputs": [],
   "source": [
    "# getting the coefficients of the selected features using the average of their bootstratted values\n",
    "owner_name_coeff = np.mean(np.array(owner_name_coeff))\n",
    "val_type_coeff = np.mean(np.array(val_type_coeff))\n",
    "eff_dt_coeff = np.mean(np.array(eff_dt_coeff ))\n",
    "supp_rollno_coeff = np.mean(np.array(supp_rollno_coeff))\n",
    "cycle_coeff  = np.mean(np.array(cycle_coeff))\n",
    "ward_coeff = np.mean(np.array(ward_coeff))\n",
    "print(\"owner_name_coeff is \", owner_name_coeff )\n",
    "print(\"val_type_coeff \", val_type_coeff)\n",
    "print(\"effect_date_coeff is \",eff_dt_coeff)\n",
    "print(\"supp_rollno_coeff  is\", supp_rollno_coeff )\n",
    "print(\"ward_coeff is \", ward_coeff)\n",
    "print(\"cycle_coeff is \", cycle_coeff)"
   ]
  },
  {
   "cell_type": "code",
   "execution_count": null,
   "metadata": {
    "id": "0Q39FsqsX4FV"
   },
   "outputs": [],
   "source": [
    "def predict_y_value(coefficients, features):\n",
    "    return np.dot(coefficients.T, features)[0]"
   ]
  },
  {
   "cell_type": "code",
   "execution_count": null,
   "metadata": {
    "id": "aZrXTDkrX4FV"
   },
   "outputs": [],
   "source": [
    "coefficients_list =np.array([owner_name_coeff,val_type_coeff ,eff_dt_coeff ,supp_rollno_coeff ,cycle_coeff ,ward_coeff] )[..., None].astype(float)\n",
    "y_predicted_list_train  = []\n",
    "for i in range(0, len(X_train_vif)):\n",
    "    x_values = np.array(list(X_train_vif.iloc[i, 0:6]))[..., None]\n",
    "    y_predicted = predict_y_value(coefficients_list, x_values)[0]\n",
    "    y_predicted_list_train.append(y_predicted)"
   ]
  },
  {
   "cell_type": "code",
   "execution_count": null,
   "metadata": {
    "id": "PvwHQ1wSX4FW",
    "outputId": "6295690c-2833-41f3-df42-d0d819238fa1"
   },
   "outputs": [],
   "source": [
    "y_true_list_train = list(bootstrap_data['y'])\n",
    "r_squared_train = r_square_value(y_true_list_train, y_predicted_list_train)\n",
    "print(\"R-sdquare for train set :\" ,r_squared_train )"
   ]
  },
  {
   "cell_type": "code",
   "execution_count": null,
   "metadata": {
    "id": "qN91qWcnX4FW",
    "outputId": "d162f1f8-2d0a-494e-d888-11e544edfa97"
   },
   "outputs": [],
   "source": [
    "X_test = X_test[remaining_var]\n",
    "X_test"
   ]
  },
  {
   "cell_type": "code",
   "execution_count": null,
   "metadata": {
    "id": "3-ASgaQhX4FX"
   },
   "outputs": [],
   "source": [
    "y_predicted_list_test = []\n",
    "for i in range(0, len(X_test)):\n",
    "    x_values = np.array(list(X_test.iloc[i, 0:6]))[..., None]\n",
    "    y_predicted = predict_y_value(coefficients_list, x_values)[0]\n",
    "    y_predicted_list_test.append(y_predicted)"
   ]
  },
  {
   "cell_type": "code",
   "execution_count": null,
   "metadata": {
    "id": "0DG4LoJlX4FX",
    "outputId": "7e459778-8d3a-4082-f251-0695da4c74c7"
   },
   "outputs": [],
   "source": [
    "r_squared_test = r_square_value(list(y_test), y_predicted_list_test)\n",
    "print(\"R-squared for test set :\" ,r_squared_test )"
   ]
  },
  {
   "cell_type": "markdown",
   "metadata": {},
   "source": [
    "<a id='Conclusion'></a>"
   ]
  },
  {
   "cell_type": "markdown",
   "metadata": {
    "id": "j7xXnfmYX4FY"
   },
   "source": [
    "# Conclusion"
   ]
  },
  {
   "cell_type": "markdown",
   "metadata": {
    "id": "1FbZY1G9X4FY"
   },
   "source": [
    "Based on our final model MarketValue =  1.121e+05(Supp RollNo) + 1.088e+05(Valuation Type) - 3720.9505(Cycle) +  3.18e+04(Effect Date) +  2.1290(Owner Name) - 293.6793(Ward), this clearly shows that not all weights are zero, thus leading to us rejecting our null hypothesis that where $B_{i}\\  $ = 0 for all i.Based on our results, Supp Rollno, Valuation Type , Cycle, Effect Date, Owner Name and ward are the only determinants of the Market Value. According to the test results of our linear regression model the effect date has a greatest positive influence on the Market Value, this is shown by the large coefficient value for this variable. Cycle has the greatest negative influence on the negative influence on the Market Value."
   ]
  }
 ],
 "metadata": {
  "colab": {
   "collapsed_sections": [],
   "name": "project.ipynb",
   "provenance": []
  },
  "kernelspec": {
   "display_name": "Python 3",
   "language": "python",
   "name": "python3"
  },
  "language_info": {
   "codemirror_mode": {
    "name": "ipython",
    "version": 3
   },
   "file_extension": ".py",
   "mimetype": "text/x-python",
   "name": "python",
   "nbconvert_exporter": "python",
   "pygments_lexer": "ipython3",
   "version": "3.8.5"
  }
 },
 "nbformat": 4,
 "nbformat_minor": 4
}
