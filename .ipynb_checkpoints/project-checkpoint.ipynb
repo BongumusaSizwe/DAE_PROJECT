{
 "cells": [
  {
   "cell_type": "code",
   "execution_count": 6,
   "metadata": {},
   "outputs": [],
   "source": [
    "import pandas as pd"
   ]
  },
  {
   "cell_type": "code",
   "execution_count": 7,
   "metadata": {},
   "outputs": [],
   "source": [
    "data = pd.read_excel('valuation-2010.xls')"
   ]
  },
  {
   "cell_type": "code",
   "execution_count": 8,
   "metadata": {},
   "outputs": [
    {
     "data": {
      "text/plain": [
       "Index(['Township', 'Stand No', 'Sect Title No', 'StandDescrip', 'Owner Name',\n",
       "       'Account No', 'Prop Category', 'TariffCode', 'Physical Addr',\n",
       "       'Street No', 'Size', 'Up-Level Size', 'MarketValue', 'Exemp Size',\n",
       "       'Exemp Value', 'Main Roll No', 'Supp RollNo', 'Owner Type',\n",
       "       'Valuation Date', 'Effect Date', 'Up-LevelInd', 'Zone Code',\n",
       "       'Zone Descrip', 'Usage Code', 'UsageDescrip', 'Empty Stand Ind',\n",
       "       'Valuation Type', 'SGNumber', 'Ward', 'Cycle', 'Meter Book', 'Status',\n",
       "       'Val Cnt', 'Postal Addr1', 'Postal Addr2', 'Postal Addr3',\n",
       "       'Postal Addr4', 'Postal Addr5', 'Postal Code', 'BC Create Date',\n",
       "       'BC Orig Date', 'BC Altern Date', 'BC Value', 'BC Tariff', 'Deed Date',\n",
       "       'Deed No', 'Register Date', 'Register No',\n",
       "       'Capture Date                                                                                                                                                                                                                                                                                                                                                                                                                                                                                                                                                                                                                                                                                                                                                                                                                                                                                                                                                                                                                                                                                                                                                                                                                                                       '],\n",
       "      dtype='object')"
      ]
     },
     "execution_count": 8,
     "metadata": {},
     "output_type": "execute_result"
    }
   ],
   "source": [
    "data.columns"
   ]
  },
  {
   "cell_type": "code",
   "execution_count": 66,
   "metadata": {},
   "outputs": [
    {
     "data": {
      "text/plain": [
       "array([       0.,       nan, 20010115., ..., 20070831., 20040129.,\n",
       "       19891228.])"
      ]
     },
     "execution_count": 66,
     "metadata": {},
     "output_type": "execute_result"
    }
   ],
   "source": [
    "data['Deed No'].unique()"
   ]
  },
  {
   "cell_type": "code",
   "execution_count": null,
   "metadata": {},
   "outputs": [],
   "source": []
  }
 ],
 "metadata": {
  "kernelspec": {
   "display_name": "Python 3",
   "language": "python",
   "name": "python3"
  },
  "language_info": {
   "codemirror_mode": {
    "name": "ipython",
    "version": 3
   },
   "file_extension": ".py",
   "mimetype": "text/x-python",
   "name": "python",
   "nbconvert_exporter": "python",
   "pygments_lexer": "ipython3",
   "version": "3.7.0"
  }
 },
 "nbformat": 4,
 "nbformat_minor": 2
}
